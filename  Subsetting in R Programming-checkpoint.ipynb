{
 "cells": [
  {
   "cell_type": "code",
   "execution_count": null,
   "id": "b4ecbca9",
   "metadata": {},
   "outputs": [],
   "source": [
    "# created by jamal hussain shah topic Subsetting in R Programming"
   ]
  },
  {
   "cell_type": "code",
   "execution_count": 1,
   "id": "55f94f25",
   "metadata": {},
   "outputs": [
    {
     "name": "stdout",
     "output_type": "stream",
     "text": [
      "Original vector:  1 2 3 4 5 6 7 8 9 10 11 12 13 14 15 \n",
      "First 5 values of vector:  1 2 3 4 5 \n",
      "Without values present at index 1, 2 and 3:  4 5 6 7 8 9 10 11 12 13 14 15 \n"
     ]
    }
   ],
   "source": [
    "\n",
    "# Create vector\n",
    "x <- 1:15\n",
    "\n",
    "# Print vector\n",
    "cat(\"Original vector: \", x, \"\\n\")\n",
    "\n",
    "# Subsetting vector\n",
    "cat(\"First 5 values of vector: \", x[1:5], \"\\n\")\n",
    "\n",
    "cat(\"Without values present at index 1, 2 and 3: \",\n",
    "\t\t\t\t\t\t\tx[-c(1, 2, 3)], \"\\n\")\n"
   ]
  },
  {
   "cell_type": "code",
   "execution_count": 2,
   "id": "97f1e6c1",
   "metadata": {},
   "outputs": [
    {
     "name": "stdout",
     "output_type": "stream",
     "text": [
      "Original dataset: \n",
      "                     mpg cyl  disp  hp drat    wt  qsec vs am gear carb\n",
      "Mazda RX4           21.0   6 160.0 110 3.90 2.620 16.46  0  1    4    4\n",
      "Mazda RX4 Wag       21.0   6 160.0 110 3.90 2.875 17.02  0  1    4    4\n",
      "Datsun 710          22.8   4 108.0  93 3.85 2.320 18.61  1  1    4    1\n",
      "Hornet 4 Drive      21.4   6 258.0 110 3.08 3.215 19.44  1  0    3    1\n",
      "Hornet Sportabout   18.7   8 360.0 175 3.15 3.440 17.02  0  0    3    2\n",
      "Valiant             18.1   6 225.0 105 2.76 3.460 20.22  1  0    3    1\n",
      "Duster 360          14.3   8 360.0 245 3.21 3.570 15.84  0  0    3    4\n",
      "Merc 240D           24.4   4 146.7  62 3.69 3.190 20.00  1  0    4    2\n",
      "Merc 230            22.8   4 140.8  95 3.92 3.150 22.90  1  0    4    2\n",
      "Merc 280            19.2   6 167.6 123 3.92 3.440 18.30  1  0    4    4\n",
      "Merc 280C           17.8   6 167.6 123 3.92 3.440 18.90  1  0    4    4\n",
      "Merc 450SE          16.4   8 275.8 180 3.07 4.070 17.40  0  0    3    3\n",
      "Merc 450SL          17.3   8 275.8 180 3.07 3.730 17.60  0  0    3    3\n",
      "Merc 450SLC         15.2   8 275.8 180 3.07 3.780 18.00  0  0    3    3\n",
      "Cadillac Fleetwood  10.4   8 472.0 205 2.93 5.250 17.98  0  0    3    4\n",
      "Lincoln Continental 10.4   8 460.0 215 3.00 5.424 17.82  0  0    3    4\n",
      "Chrysler Imperial   14.7   8 440.0 230 3.23 5.345 17.42  0  0    3    4\n",
      "Fiat 128            32.4   4  78.7  66 4.08 2.200 19.47  1  1    4    1\n",
      "Honda Civic         30.4   4  75.7  52 4.93 1.615 18.52  1  1    4    2\n",
      "Toyota Corolla      33.9   4  71.1  65 4.22 1.835 19.90  1  1    4    1\n",
      "Toyota Corona       21.5   4 120.1  97 3.70 2.465 20.01  1  0    3    1\n",
      "Dodge Challenger    15.5   8 318.0 150 2.76 3.520 16.87  0  0    3    2\n",
      "AMC Javelin         15.2   8 304.0 150 3.15 3.435 17.30  0  0    3    2\n",
      "Camaro Z28          13.3   8 350.0 245 3.73 3.840 15.41  0  0    3    4\n",
      "Pontiac Firebird    19.2   8 400.0 175 3.08 3.845 17.05  0  0    3    2\n",
      "Fiat X1-9           27.3   4  79.0  66 4.08 1.935 18.90  1  1    4    1\n",
      "Porsche 914-2       26.0   4 120.3  91 4.43 2.140 16.70  0  1    5    2\n",
      "Lotus Europa        30.4   4  95.1 113 3.77 1.513 16.90  1  1    5    2\n",
      "Ford Pantera L      15.8   8 351.0 264 4.22 3.170 14.50  0  1    5    4\n",
      "Ferrari Dino        19.7   6 145.0 175 3.62 2.770 15.50  0  1    5    6\n",
      "Maserati Bora       15.0   8 301.0 335 3.54 3.570 14.60  0  1    5    8\n",
      "Volvo 142E          21.4   4 121.0 109 4.11 2.780 18.60  1  1    4    2\n",
      "HP values of all cars:\n",
      "                     hp\n",
      "Mazda RX4           110\n",
      "Mazda RX4 Wag       110\n",
      "Datsun 710           93\n",
      "Hornet 4 Drive      110\n",
      "Hornet Sportabout   175\n",
      "Valiant             105\n",
      "Duster 360          245\n",
      "Merc 240D            62\n",
      "Merc 230             95\n",
      "Merc 280            123\n",
      "Merc 280C           123\n",
      "Merc 450SE          180\n",
      "Merc 450SL          180\n",
      "Merc 450SLC         180\n",
      "Cadillac Fleetwood  205\n",
      "Lincoln Continental 215\n",
      "Chrysler Imperial   230\n",
      "Fiat 128             66\n",
      "Honda Civic          52\n",
      "Toyota Corolla       65\n",
      "Toyota Corona        97\n",
      "Dodge Challenger    150\n",
      "AMC Javelin         150\n",
      "Camaro Z28          245\n",
      "Pontiac Firebird    175\n",
      "Fiat X1-9            66\n",
      "Porsche 914-2        91\n",
      "Lotus Europa        113\n",
      "Ford Pantera L      264\n",
      "Ferrari Dino        175\n",
      "Maserati Bora       335\n",
      "Volvo 142E          109\n",
      "Without mpg and cyl column:\n",
      "                   disp  hp drat    wt  qsec vs am gear carb\n",
      "Mazda RX4         160.0 110 3.90 2.620 16.46  0  1    4    4\n",
      "Mazda RX4 Wag     160.0 110 3.90 2.875 17.02  0  1    4    4\n",
      "Datsun 710        108.0  93 3.85 2.320 18.61  1  1    4    1\n",
      "Hornet 4 Drive    258.0 110 3.08 3.215 19.44  1  0    3    1\n",
      "Hornet Sportabout 360.0 175 3.15 3.440 17.02  0  0    3    2\n",
      "Valiant           225.0 105 2.76 3.460 20.22  1  0    3    1\n",
      "Duster 360        360.0 245 3.21 3.570 15.84  0  0    3    4\n",
      "Merc 240D         146.7  62 3.69 3.190 20.00  1  0    4    2\n",
      "Merc 230          140.8  95 3.92 3.150 22.90  1  0    4    2\n",
      "Merc 280          167.6 123 3.92 3.440 18.30  1  0    4    4\n"
     ]
    }
   ],
   "source": [
    "# Dataset\n",
    "cat(\"Original dataset: \\n\")\n",
    "print(mtcars)\n",
    "\n",
    "# Subsetting data frame\n",
    "cat(\"HP values of all cars:\\n\")\n",
    "print(mtcars['hp'])\n",
    "\n",
    "# First 10 cars\n",
    "cat(\"Without mpg and cyl column:\\n\")\n",
    "print(mtcars[1:10, -c(1, 2)])\n"
   ]
  },
  {
   "cell_type": "code",
   "execution_count": 3,
   "id": "ff202df5",
   "metadata": {},
   "outputs": [
    {
     "name": "stdout",
     "output_type": "stream",
     "text": [
      "Original List: \n",
      "$a\n",
      "[1] 1\n",
      "\n",
      "$b\n",
      "[1] 2\n",
      "\n",
      "$c\n",
      "[1] 10\n",
      "\n",
      "$d\n",
      "[1] 20\n",
      "\n",
      "First element of list:  1 \n"
     ]
    }
   ],
   "source": [
    "# Create list\n",
    "ls <- list(a = 1, b = 2, c = 10, d = 20)\n",
    "\n",
    "# Print list\n",
    "cat(\"Original List: \\n\")\n",
    "print(ls)\n",
    "\n",
    "# Select first element of list\n",
    "cat(\"First element of list: \", ls[[1]], \"\\n\")\n"
   ]
  },
  {
   "cell_type": "code",
   "execution_count": 4,
   "id": "bb28c0dd",
   "metadata": {},
   "outputs": [
    {
     "name": "stdout",
     "output_type": "stream",
     "text": [
      "Original list:\n",
      "$a\n",
      "$a$x\n",
      "[1] 1\n",
      "\n",
      "$a$y\n",
      "[1] \"GFG\"\n",
      "\n",
      "\n",
      "$b\n",
      " [1]  1  2  3  4  5  6  7  8  9 10\n",
      "\n",
      "Using c() function:\n",
      "[1] \"GFG\"\n",
      "Using [[]] operator:\n",
      "[1] \"GFG\"\n"
     ]
    }
   ],
   "source": [
    "# Create list\n",
    "z <- list(a = list(x = 1, y = \"GFG\"), b = 1:10)\n",
    "\n",
    "# Print list\n",
    "cat(\"Original list:\\n\")\n",
    "print(z)\n",
    "\n",
    "# Print GFG using c() function\n",
    "cat(\"Using c() function:\\n\")\n",
    "print(z[[c(1, 2)]])\n",
    "\n",
    "# Print GFG using only [[]] operator\n",
    "cat(\"Using [[]] operator:\\n\")\n",
    "print(z[[1]][[2]])\n"
   ]
  },
  {
   "cell_type": "code",
   "execution_count": 5,
   "id": "85ea510c",
   "metadata": {},
   "outputs": [
    {
     "name": "stdout",
     "output_type": "stream",
     "text": [
      "Original list:\n",
      "$a\n",
      "[1] 1\n",
      "\n",
      "$b\n",
      "[1] 2\n",
      "\n",
      "$c\n",
      "[1] \"Hello\"\n",
      "\n",
      "$d\n",
      "[1] \"GFG\"\n",
      "\n",
      "Using $ operator:\n",
      "[1] \"GFG\"\n"
     ]
    }
   ],
   "source": [
    "# Create list\n",
    "ls <- list(a = 1, b = 2, c = \"Hello\", d = \"GFG\")\n",
    "\n",
    "# Print list\n",
    "cat(\"Original list:\\n\")\n",
    "print(ls)\n",
    "\n",
    "# Print \"GFG\" using $ operator\n",
    "cat(\"Using $ operator:\\n\")\n",
    "print(ls$d)\n"
   ]
  },
  {
   "cell_type": "code",
   "execution_count": 6,
   "id": "fa16c3fe",
   "metadata": {},
   "outputs": [
    {
     "name": "stdout",
     "output_type": "stream",
     "text": [
      "Original data frame:\n",
      "                     mpg cyl  disp  hp drat    wt  qsec vs am gear carb\n",
      "Mazda RX4           21.0   6 160.0 110 3.90 2.620 16.46  0  1    4    4\n",
      "Mazda RX4 Wag       21.0   6 160.0 110 3.90 2.875 17.02  0  1    4    4\n",
      "Datsun 710          22.8   4 108.0  93 3.85 2.320 18.61  1  1    4    1\n",
      "Hornet 4 Drive      21.4   6 258.0 110 3.08 3.215 19.44  1  0    3    1\n",
      "Hornet Sportabout   18.7   8 360.0 175 3.15 3.440 17.02  0  0    3    2\n",
      "Valiant             18.1   6 225.0 105 2.76 3.460 20.22  1  0    3    1\n",
      "Duster 360          14.3   8 360.0 245 3.21 3.570 15.84  0  0    3    4\n",
      "Merc 240D           24.4   4 146.7  62 3.69 3.190 20.00  1  0    4    2\n",
      "Merc 230            22.8   4 140.8  95 3.92 3.150 22.90  1  0    4    2\n",
      "Merc 280            19.2   6 167.6 123 3.92 3.440 18.30  1  0    4    4\n",
      "Merc 280C           17.8   6 167.6 123 3.92 3.440 18.90  1  0    4    4\n",
      "Merc 450SE          16.4   8 275.8 180 3.07 4.070 17.40  0  0    3    3\n",
      "Merc 450SL          17.3   8 275.8 180 3.07 3.730 17.60  0  0    3    3\n",
      "Merc 450SLC         15.2   8 275.8 180 3.07 3.780 18.00  0  0    3    3\n",
      "Cadillac Fleetwood  10.4   8 472.0 205 2.93 5.250 17.98  0  0    3    4\n",
      "Lincoln Continental 10.4   8 460.0 215 3.00 5.424 17.82  0  0    3    4\n",
      "Chrysler Imperial   14.7   8 440.0 230 3.23 5.345 17.42  0  0    3    4\n",
      "Fiat 128            32.4   4  78.7  66 4.08 2.200 19.47  1  1    4    1\n",
      "Honda Civic         30.4   4  75.7  52 4.93 1.615 18.52  1  1    4    2\n",
      "Toyota Corolla      33.9   4  71.1  65 4.22 1.835 19.90  1  1    4    1\n",
      "Toyota Corona       21.5   4 120.1  97 3.70 2.465 20.01  1  0    3    1\n",
      "Dodge Challenger    15.5   8 318.0 150 2.76 3.520 16.87  0  0    3    2\n",
      "AMC Javelin         15.2   8 304.0 150 3.15 3.435 17.30  0  0    3    2\n",
      "Camaro Z28          13.3   8 350.0 245 3.73 3.840 15.41  0  0    3    4\n",
      "Pontiac Firebird    19.2   8 400.0 175 3.08 3.845 17.05  0  0    3    2\n",
      "Fiat X1-9           27.3   4  79.0  66 4.08 1.935 18.90  1  1    4    1\n",
      "Porsche 914-2       26.0   4 120.3  91 4.43 2.140 16.70  0  1    5    2\n",
      "Lotus Europa        30.4   4  95.1 113 3.77 1.513 16.90  1  1    5    2\n",
      "Ford Pantera L      15.8   8 351.0 264 4.22 3.170 14.50  0  1    5    4\n",
      "Ferrari Dino        19.7   6 145.0 175 3.62 2.770 15.50  0  1    5    6\n",
      "Maserati Bora       15.0   8 301.0 335 3.54 3.570 14.60  0  1    5    8\n",
      "Volvo 142E          21.4   4 121.0 109 4.11 2.780 18.60  1  1    4    2\n",
      "Using $ operator:\n",
      " [1] 110 110  93 110 175 105 245  62  95 123 123 180 180 180 205 215 230  66  52\n",
      "[20]  65  97 150 150 245 175  66  91 113 264 175 335 109\n"
     ]
    }
   ],
   "source": [
    "# Dataset\n",
    "cat(\"Original data frame:\\n\")\n",
    "print(mtcars)\n",
    "\n",
    "# Access hp column\n",
    "cat(\"Using $ operator:\\n\")\n",
    "print(mtcars$hp)\n"
   ]
  },
  {
   "cell_type": "code",
   "execution_count": 8,
   "id": "608e299e",
   "metadata": {},
   "outputs": [
    {
     "name": "stdout",
     "output_type": "stream",
     "text": [
      "    Month\n",
      "4       5\n",
      "5       5\n",
      "8       5\n",
      "9       5\n",
      "15      5\n",
      "16      5\n",
      "18      5\n",
      "20      5\n",
      "21      5\n",
      "23      5\n",
      "24      5\n",
      "25      5\n",
      "26      5\n",
      "27      5\n",
      "144     9\n",
      "148     9\n"
     ]
    }
   ],
   "source": [
    "# Subsetting\n",
    "jamal <- subset(airquality, Temp < 65,\n",
    "\t\t\t\tselect = c(Month))\n",
    "\n",
    "# Print subset\n",
    "print(jamal)\n"
   ]
  },
  {
   "cell_type": "code",
   "execution_count": null,
   "id": "7a88dce9",
   "metadata": {},
   "outputs": [],
   "source": []
  }
 ],
 "metadata": {
  "kernelspec": {
   "display_name": "R",
   "language": "R",
   "name": "ir"
  },
  "language_info": {
   "codemirror_mode": "r",
   "file_extension": ".r",
   "mimetype": "text/x-r-source",
   "name": "R",
   "pygments_lexer": "r",
   "version": "3.6.1"
  }
 },
 "nbformat": 4,
 "nbformat_minor": 5
}
