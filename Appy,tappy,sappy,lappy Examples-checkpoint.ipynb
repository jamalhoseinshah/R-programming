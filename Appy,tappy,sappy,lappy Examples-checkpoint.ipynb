{
 "cells": [
  {
   "cell_type": "code",
   "execution_count": 1,
   "id": "5206c6e7",
   "metadata": {},
   "outputs": [],
   "source": [
    "#  Created by jamal hussain shah topic Difference Between lapply() VS sapply() in R"
   ]
  },
  {
   "cell_type": "code",
   "execution_count": 2,
   "id": "9f8504e3",
   "metadata": {},
   "outputs": [
    {
     "name": "stdout",
     "output_type": "stream",
     "text": [
      "[1] \"Operations using lapply() function: \"\n"
     ]
    },
    {
     "data": {
      "text/html": [
       "<dl>\n",
       "\t<dt>$a</dt>\n",
       "\t\t<dd>20</dd>\n",
       "\t<dt>$b</dt>\n",
       "\t\t<dd>6</dd>\n",
       "\t<dt>$c</dt>\n",
       "\t\t<dd>21</dd>\n",
       "</dl>\n"
      ],
      "text/latex": [
       "\\begin{description}\n",
       "\\item[\\$a] 20\n",
       "\\item[\\$b] 6\n",
       "\\item[\\$c] 21\n",
       "\\end{description}\n"
      ],
      "text/markdown": [
       "$a\n",
       ":   20\n",
       "$b\n",
       ":   6\n",
       "$c\n",
       ":   21\n",
       "\n",
       "\n"
      ],
      "text/plain": [
       "$a\n",
       "[1] 20\n",
       "\n",
       "$b\n",
       "[1] 6\n",
       "\n",
       "$c\n",
       "[1] 21\n"
      ]
     },
     "metadata": {},
     "output_type": "display_data"
    },
    {
     "data": {
      "text/html": [
       "<dl>\n",
       "\t<dt>$a</dt>\n",
       "\t\t<dd>210</dd>\n",
       "\t<dt>$b</dt>\n",
       "\t\t<dd>165</dd>\n",
       "\t<dt>$c</dt>\n",
       "\t\t<dd>1050</dd>\n",
       "</dl>\n"
      ],
      "text/latex": [
       "\\begin{description}\n",
       "\\item[\\$a] 210\n",
       "\\item[\\$b] 165\n",
       "\\item[\\$c] 1050\n",
       "\\end{description}\n"
      ],
      "text/markdown": [
       "$a\n",
       ":   210\n",
       "$b\n",
       ":   165\n",
       "$c\n",
       ":   1050\n",
       "\n",
       "\n"
      ],
      "text/plain": [
       "$a\n",
       "[1] 210\n",
       "\n",
       "$b\n",
       "[1] 165\n",
       "\n",
       "$c\n",
       "[1] 1050\n"
      ]
     },
     "metadata": {},
     "output_type": "display_data"
    },
    {
     "data": {
      "text/html": [
       "<dl>\n",
       "\t<dt>$a</dt>\n",
       "\t\t<dd>10.5</dd>\n",
       "\t<dt>$b</dt>\n",
       "\t\t<dd>27.5</dd>\n",
       "\t<dt>$c</dt>\n",
       "\t\t<dd>50</dd>\n",
       "</dl>\n"
      ],
      "text/latex": [
       "\\begin{description}\n",
       "\\item[\\$a] 10.5\n",
       "\\item[\\$b] 27.5\n",
       "\\item[\\$c] 50\n",
       "\\end{description}\n"
      ],
      "text/markdown": [
       "$a\n",
       ":   10.5\n",
       "$b\n",
       ":   27.5\n",
       "$c\n",
       ":   50\n",
       "\n",
       "\n"
      ],
      "text/plain": [
       "$a\n",
       "[1] 10.5\n",
       "\n",
       "$b\n",
       "[1] 27.5\n",
       "\n",
       "$c\n",
       "[1] 50\n"
      ]
     },
     "metadata": {},
     "output_type": "display_data"
    },
    {
     "data": {
      "text/html": [
       "<dl>\n",
       "\t<dt>$a</dt>\n",
       "\t\t<dd><ol class=list-inline>\n",
       "\t<li>1</li>\n",
       "\t<li>3</li>\n",
       "\t<li>6</li>\n",
       "\t<li>10</li>\n",
       "\t<li>15</li>\n",
       "\t<li>21</li>\n",
       "\t<li>28</li>\n",
       "\t<li>36</li>\n",
       "\t<li>45</li>\n",
       "\t<li>55</li>\n",
       "\t<li>66</li>\n",
       "\t<li>78</li>\n",
       "\t<li>91</li>\n",
       "\t<li>105</li>\n",
       "\t<li>120</li>\n",
       "\t<li>136</li>\n",
       "\t<li>153</li>\n",
       "\t<li>171</li>\n",
       "\t<li>190</li>\n",
       "\t<li>210</li>\n",
       "</ol>\n",
       "</dd>\n",
       "\t<dt>$b</dt>\n",
       "\t\t<dd><ol class=list-inline>\n",
       "\t<li>25</li>\n",
       "\t<li>51</li>\n",
       "\t<li>78</li>\n",
       "\t<li>106</li>\n",
       "\t<li>135</li>\n",
       "\t<li>165</li>\n",
       "</ol>\n",
       "</dd>\n",
       "\t<dt>$c</dt>\n",
       "\t\t<dd><ol class=list-inline>\n",
       "\t<li>40</li>\n",
       "\t<li>81</li>\n",
       "\t<li>123</li>\n",
       "\t<li>166</li>\n",
       "\t<li>210</li>\n",
       "\t<li>255</li>\n",
       "\t<li>301</li>\n",
       "\t<li>348</li>\n",
       "\t<li>396</li>\n",
       "\t<li>445</li>\n",
       "\t<li>495</li>\n",
       "\t<li>546</li>\n",
       "\t<li>598</li>\n",
       "\t<li>651</li>\n",
       "\t<li>705</li>\n",
       "\t<li>760</li>\n",
       "\t<li>816</li>\n",
       "\t<li>873</li>\n",
       "\t<li>931</li>\n",
       "\t<li>990</li>\n",
       "\t<li>1050</li>\n",
       "</ol>\n",
       "</dd>\n",
       "</dl>\n"
      ],
      "text/latex": [
       "\\begin{description}\n",
       "\\item[\\$a] \\begin{enumerate*}\n",
       "\\item 1\n",
       "\\item 3\n",
       "\\item 6\n",
       "\\item 10\n",
       "\\item 15\n",
       "\\item 21\n",
       "\\item 28\n",
       "\\item 36\n",
       "\\item 45\n",
       "\\item 55\n",
       "\\item 66\n",
       "\\item 78\n",
       "\\item 91\n",
       "\\item 105\n",
       "\\item 120\n",
       "\\item 136\n",
       "\\item 153\n",
       "\\item 171\n",
       "\\item 190\n",
       "\\item 210\n",
       "\\end{enumerate*}\n",
       "\n",
       "\\item[\\$b] \\begin{enumerate*}\n",
       "\\item 25\n",
       "\\item 51\n",
       "\\item 78\n",
       "\\item 106\n",
       "\\item 135\n",
       "\\item 165\n",
       "\\end{enumerate*}\n",
       "\n",
       "\\item[\\$c] \\begin{enumerate*}\n",
       "\\item 40\n",
       "\\item 81\n",
       "\\item 123\n",
       "\\item 166\n",
       "\\item 210\n",
       "\\item 255\n",
       "\\item 301\n",
       "\\item 348\n",
       "\\item 396\n",
       "\\item 445\n",
       "\\item 495\n",
       "\\item 546\n",
       "\\item 598\n",
       "\\item 651\n",
       "\\item 705\n",
       "\\item 760\n",
       "\\item 816\n",
       "\\item 873\n",
       "\\item 931\n",
       "\\item 990\n",
       "\\item 1050\n",
       "\\end{enumerate*}\n",
       "\n",
       "\\end{description}\n"
      ],
      "text/markdown": [
       "$a\n",
       ":   1. 1\n",
       "2. 3\n",
       "3. 6\n",
       "4. 10\n",
       "5. 15\n",
       "6. 21\n",
       "7. 28\n",
       "8. 36\n",
       "9. 45\n",
       "10. 55\n",
       "11. 66\n",
       "12. 78\n",
       "13. 91\n",
       "14. 105\n",
       "15. 120\n",
       "16. 136\n",
       "17. 153\n",
       "18. 171\n",
       "19. 190\n",
       "20. 210\n",
       "\n",
       "\n",
       "\n",
       "$b\n",
       ":   1. 25\n",
       "2. 51\n",
       "3. 78\n",
       "4. 106\n",
       "5. 135\n",
       "6. 165\n",
       "\n",
       "\n",
       "\n",
       "$c\n",
       ":   1. 40\n",
       "2. 81\n",
       "3. 123\n",
       "4. 166\n",
       "5. 210\n",
       "6. 255\n",
       "7. 301\n",
       "8. 348\n",
       "9. 396\n",
       "10. 445\n",
       "11. 495\n",
       "12. 546\n",
       "13. 598\n",
       "14. 651\n",
       "15. 705\n",
       "16. 760\n",
       "17. 816\n",
       "18. 873\n",
       "19. 931\n",
       "20. 990\n",
       "21. 1050\n",
       "\n",
       "\n",
       "\n",
       "\n",
       "\n"
      ],
      "text/plain": [
       "$a\n",
       " [1]   1   3   6  10  15  21  28  36  45  55  66  78  91 105 120 136 153 171 190\n",
       "[20] 210\n",
       "\n",
       "$b\n",
       "[1]  25  51  78 106 135 165\n",
       "\n",
       "$c\n",
       " [1]   40   81  123  166  210  255  301  348  396  445  495  546  598  651  705\n",
       "[16]  760  816  873  931  990 1050\n"
      ]
     },
     "metadata": {},
     "output_type": "display_data"
    },
    {
     "name": "stdout",
     "output_type": "stream",
     "text": [
      "[1] \"Operations using sapply() function: \"\n"
     ]
    },
    {
     "data": {
      "text/html": [
       "<dl class=dl-horizontal>\n",
       "\t<dt>a</dt>\n",
       "\t\t<dd>20</dd>\n",
       "\t<dt>b</dt>\n",
       "\t\t<dd>6</dd>\n",
       "\t<dt>c</dt>\n",
       "\t\t<dd>21</dd>\n",
       "</dl>\n"
      ],
      "text/latex": [
       "\\begin{description*}\n",
       "\\item[a] 20\n",
       "\\item[b] 6\n",
       "\\item[c] 21\n",
       "\\end{description*}\n"
      ],
      "text/markdown": [
       "a\n",
       ":   20b\n",
       ":   6c\n",
       ":   21\n",
       "\n"
      ],
      "text/plain": [
       " a  b  c \n",
       "20  6 21 "
      ]
     },
     "metadata": {},
     "output_type": "display_data"
    },
    {
     "data": {
      "text/html": [
       "<dl class=dl-horizontal>\n",
       "\t<dt>a</dt>\n",
       "\t\t<dd>210</dd>\n",
       "\t<dt>b</dt>\n",
       "\t\t<dd>165</dd>\n",
       "\t<dt>c</dt>\n",
       "\t\t<dd>1050</dd>\n",
       "</dl>\n"
      ],
      "text/latex": [
       "\\begin{description*}\n",
       "\\item[a] 210\n",
       "\\item[b] 165\n",
       "\\item[c] 1050\n",
       "\\end{description*}\n"
      ],
      "text/markdown": [
       "a\n",
       ":   210b\n",
       ":   165c\n",
       ":   1050\n",
       "\n"
      ],
      "text/plain": [
       "   a    b    c \n",
       " 210  165 1050 "
      ]
     },
     "metadata": {},
     "output_type": "display_data"
    },
    {
     "data": {
      "text/html": [
       "<dl class=dl-horizontal>\n",
       "\t<dt>a</dt>\n",
       "\t\t<dd>10.5</dd>\n",
       "\t<dt>b</dt>\n",
       "\t\t<dd>27.5</dd>\n",
       "\t<dt>c</dt>\n",
       "\t\t<dd>50</dd>\n",
       "</dl>\n"
      ],
      "text/latex": [
       "\\begin{description*}\n",
       "\\item[a] 10.5\n",
       "\\item[b] 27.5\n",
       "\\item[c] 50\n",
       "\\end{description*}\n"
      ],
      "text/markdown": [
       "a\n",
       ":   10.5b\n",
       ":   27.5c\n",
       ":   50\n",
       "\n"
      ],
      "text/plain": [
       "   a    b    c \n",
       "10.5 27.5 50.0 "
      ]
     },
     "metadata": {},
     "output_type": "display_data"
    },
    {
     "data": {
      "text/html": [
       "<dl>\n",
       "\t<dt>$a</dt>\n",
       "\t\t<dd><ol class=list-inline>\n",
       "\t<li>1</li>\n",
       "\t<li>3</li>\n",
       "\t<li>6</li>\n",
       "\t<li>10</li>\n",
       "\t<li>15</li>\n",
       "\t<li>21</li>\n",
       "\t<li>28</li>\n",
       "\t<li>36</li>\n",
       "\t<li>45</li>\n",
       "\t<li>55</li>\n",
       "\t<li>66</li>\n",
       "\t<li>78</li>\n",
       "\t<li>91</li>\n",
       "\t<li>105</li>\n",
       "\t<li>120</li>\n",
       "\t<li>136</li>\n",
       "\t<li>153</li>\n",
       "\t<li>171</li>\n",
       "\t<li>190</li>\n",
       "\t<li>210</li>\n",
       "</ol>\n",
       "</dd>\n",
       "\t<dt>$b</dt>\n",
       "\t\t<dd><ol class=list-inline>\n",
       "\t<li>25</li>\n",
       "\t<li>51</li>\n",
       "\t<li>78</li>\n",
       "\t<li>106</li>\n",
       "\t<li>135</li>\n",
       "\t<li>165</li>\n",
       "</ol>\n",
       "</dd>\n",
       "\t<dt>$c</dt>\n",
       "\t\t<dd><ol class=list-inline>\n",
       "\t<li>40</li>\n",
       "\t<li>81</li>\n",
       "\t<li>123</li>\n",
       "\t<li>166</li>\n",
       "\t<li>210</li>\n",
       "\t<li>255</li>\n",
       "\t<li>301</li>\n",
       "\t<li>348</li>\n",
       "\t<li>396</li>\n",
       "\t<li>445</li>\n",
       "\t<li>495</li>\n",
       "\t<li>546</li>\n",
       "\t<li>598</li>\n",
       "\t<li>651</li>\n",
       "\t<li>705</li>\n",
       "\t<li>760</li>\n",
       "\t<li>816</li>\n",
       "\t<li>873</li>\n",
       "\t<li>931</li>\n",
       "\t<li>990</li>\n",
       "\t<li>1050</li>\n",
       "</ol>\n",
       "</dd>\n",
       "</dl>\n"
      ],
      "text/latex": [
       "\\begin{description}\n",
       "\\item[\\$a] \\begin{enumerate*}\n",
       "\\item 1\n",
       "\\item 3\n",
       "\\item 6\n",
       "\\item 10\n",
       "\\item 15\n",
       "\\item 21\n",
       "\\item 28\n",
       "\\item 36\n",
       "\\item 45\n",
       "\\item 55\n",
       "\\item 66\n",
       "\\item 78\n",
       "\\item 91\n",
       "\\item 105\n",
       "\\item 120\n",
       "\\item 136\n",
       "\\item 153\n",
       "\\item 171\n",
       "\\item 190\n",
       "\\item 210\n",
       "\\end{enumerate*}\n",
       "\n",
       "\\item[\\$b] \\begin{enumerate*}\n",
       "\\item 25\n",
       "\\item 51\n",
       "\\item 78\n",
       "\\item 106\n",
       "\\item 135\n",
       "\\item 165\n",
       "\\end{enumerate*}\n",
       "\n",
       "\\item[\\$c] \\begin{enumerate*}\n",
       "\\item 40\n",
       "\\item 81\n",
       "\\item 123\n",
       "\\item 166\n",
       "\\item 210\n",
       "\\item 255\n",
       "\\item 301\n",
       "\\item 348\n",
       "\\item 396\n",
       "\\item 445\n",
       "\\item 495\n",
       "\\item 546\n",
       "\\item 598\n",
       "\\item 651\n",
       "\\item 705\n",
       "\\item 760\n",
       "\\item 816\n",
       "\\item 873\n",
       "\\item 931\n",
       "\\item 990\n",
       "\\item 1050\n",
       "\\end{enumerate*}\n",
       "\n",
       "\\end{description}\n"
      ],
      "text/markdown": [
       "$a\n",
       ":   1. 1\n",
       "2. 3\n",
       "3. 6\n",
       "4. 10\n",
       "5. 15\n",
       "6. 21\n",
       "7. 28\n",
       "8. 36\n",
       "9. 45\n",
       "10. 55\n",
       "11. 66\n",
       "12. 78\n",
       "13. 91\n",
       "14. 105\n",
       "15. 120\n",
       "16. 136\n",
       "17. 153\n",
       "18. 171\n",
       "19. 190\n",
       "20. 210\n",
       "\n",
       "\n",
       "\n",
       "$b\n",
       ":   1. 25\n",
       "2. 51\n",
       "3. 78\n",
       "4. 106\n",
       "5. 135\n",
       "6. 165\n",
       "\n",
       "\n",
       "\n",
       "$c\n",
       ":   1. 40\n",
       "2. 81\n",
       "3. 123\n",
       "4. 166\n",
       "5. 210\n",
       "6. 255\n",
       "7. 301\n",
       "8. 348\n",
       "9. 396\n",
       "10. 445\n",
       "11. 495\n",
       "12. 546\n",
       "13. 598\n",
       "14. 651\n",
       "15. 705\n",
       "16. 760\n",
       "17. 816\n",
       "18. 873\n",
       "19. 931\n",
       "20. 990\n",
       "21. 1050\n",
       "\n",
       "\n",
       "\n",
       "\n",
       "\n"
      ],
      "text/plain": [
       "$a\n",
       " [1]   1   3   6  10  15  21  28  36  45  55  66  78  91 105 120 136 153 171 190\n",
       "[20] 210\n",
       "\n",
       "$b\n",
       "[1]  25  51  78 106 135 165\n",
       "\n",
       "$c\n",
       " [1]   40   81  123  166  210  255  301  348  396  445  495  546  598  651  705\n",
       "[16]  760  816  873  931  990 1050\n"
      ]
     },
     "metadata": {},
     "output_type": "display_data"
    }
   ],
   "source": [
    "print(\"Operations using lapply() function: \")\n",
    "\n",
    "# Initializing list1\n",
    "# list1 have three objects a, b, and c\n",
    "# and they all are numeric objects (same data type)\n",
    "list1 <- list(a = 1: 20, b = 25:30, c = 40:60)\n",
    "\n",
    "# Printing the length of list1 objects\n",
    "lapply(list1, length)\n",
    "\n",
    "# Printing the sum of elements present in the\n",
    "# list1 objects\n",
    "lapply(list1, sum)\n",
    "\n",
    "# Printing the mean of elements present in the\n",
    "# list1 objects\n",
    "lapply(list1, mean)\n",
    "\n",
    "# Printing the cumulative sum of elements\n",
    "# present in the list1 objects\n",
    "lapply(list1, cumsum)\n",
    "\n",
    "print(\"Operations using sapply() function: \")\n",
    "\n",
    "\n",
    "# Initializing list2\n",
    "# list2 have three objects a, b, and c\n",
    "# and they all are numeric objects (same data\n",
    "# type)\n",
    "list2 <- list(a = 1: 20, b = 25:30, c = 40:60)\n",
    "\n",
    "# Printing the length of list2 objects\n",
    "sapply(list2, length)\n",
    "\n",
    "# Printing the sum of elements\n",
    "# present in the list2 objects\n",
    "sapply(list2, sum)\n",
    "\n",
    "# Printing the mean of elements\n",
    "# present in the list2 objects\n",
    "sapply(list2, mean)\n",
    "\n",
    "# Printing the cumulative sum\n",
    "# of elements present in the list2 objects\n",
    "sapply(list2, cumsum)\n"
   ]
  },
  {
   "cell_type": "code",
   "execution_count": 4,
   "id": "9c6dce62",
   "metadata": {},
   "outputs": [
    {
     "name": "stdout",
     "output_type": "stream",
     "text": [
      "[1] \"Operations using sapply() function: \"\n"
     ]
    },
    {
     "data": {
      "text/html": [
       "<dl>\n",
       "\t<dt>$a</dt>\n",
       "\t\t<dd>2</dd>\n",
       "\t<dt>$b</dt>\n",
       "\t\t<dd>10</dd>\n",
       "\t<dt>$c</dt>\n",
       "\t\t<dd>21</dd>\n",
       "</dl>\n"
      ],
      "text/latex": [
       "\\begin{description}\n",
       "\\item[\\$a] 2\n",
       "\\item[\\$b] 10\n",
       "\\item[\\$c] 21\n",
       "\\end{description}\n"
      ],
      "text/markdown": [
       "$a\n",
       ":   2\n",
       "$b\n",
       ":   10\n",
       "$c\n",
       ":   21\n",
       "\n",
       "\n"
      ],
      "text/plain": [
       "$a\n",
       "[1] 2\n",
       "\n",
       "$b\n",
       "[1] 10\n",
       "\n",
       "$c\n",
       "[1] 21\n"
      ]
     },
     "metadata": {},
     "output_type": "display_data"
    },
    {
     "data": {
      "text/html": [
       "<dl>\n",
       "\t<dt>$a</dt>\n",
       "\t\t<dd>23</dd>\n",
       "\t<dt>$b</dt>\n",
       "\t\t<dd>55</dd>\n",
       "\t<dt>$c</dt>\n",
       "\t\t<dd>1050</dd>\n",
       "</dl>\n"
      ],
      "text/latex": [
       "\\begin{description}\n",
       "\\item[\\$a] 23\n",
       "\\item[\\$b] 55\n",
       "\\item[\\$c] 1050\n",
       "\\end{description}\n"
      ],
      "text/markdown": [
       "$a\n",
       ":   23\n",
       "$b\n",
       ":   55\n",
       "$c\n",
       ":   1050\n",
       "\n",
       "\n"
      ],
      "text/plain": [
       "$a\n",
       "[1] 23\n",
       "\n",
       "$b\n",
       "[1] 55\n",
       "\n",
       "$c\n",
       "[1] 1050\n"
      ]
     },
     "metadata": {},
     "output_type": "display_data"
    },
    {
     "data": {
      "text/html": [
       "<dl>\n",
       "\t<dt>$a</dt>\n",
       "\t\t<dd>11.5</dd>\n",
       "\t<dt>$b</dt>\n",
       "\t\t<dd>5.5</dd>\n",
       "\t<dt>$c</dt>\n",
       "\t\t<dd>50</dd>\n",
       "</dl>\n"
      ],
      "text/latex": [
       "\\begin{description}\n",
       "\\item[\\$a] 11.5\n",
       "\\item[\\$b] 5.5\n",
       "\\item[\\$c] 50\n",
       "\\end{description}\n"
      ],
      "text/markdown": [
       "$a\n",
       ":   11.5\n",
       "$b\n",
       ":   5.5\n",
       "$c\n",
       ":   50\n",
       "\n",
       "\n"
      ],
      "text/plain": [
       "$a\n",
       "[1] 11.5\n",
       "\n",
       "$b\n",
       "[1] 5.5\n",
       "\n",
       "$c\n",
       "[1] 50\n"
      ]
     },
     "metadata": {},
     "output_type": "display_data"
    },
    {
     "data": {
      "text/html": [
       "<dl>\n",
       "\t<dt>$a</dt>\n",
       "\t\t<dd><ol class=list-inline>\n",
       "\t<li>11</li>\n",
       "\t<li>23</li>\n",
       "</ol>\n",
       "</dd>\n",
       "\t<dt>$b</dt>\n",
       "\t\t<dd><ol class=list-inline>\n",
       "\t<li>1</li>\n",
       "\t<li>3</li>\n",
       "\t<li>6</li>\n",
       "\t<li>10</li>\n",
       "\t<li>15</li>\n",
       "\t<li>21</li>\n",
       "\t<li>28</li>\n",
       "\t<li>36</li>\n",
       "\t<li>45</li>\n",
       "\t<li>55</li>\n",
       "</ol>\n",
       "</dd>\n",
       "\t<dt>$c</dt>\n",
       "\t\t<dd><ol class=list-inline>\n",
       "\t<li>40</li>\n",
       "\t<li>81</li>\n",
       "\t<li>123</li>\n",
       "\t<li>166</li>\n",
       "\t<li>210</li>\n",
       "\t<li>255</li>\n",
       "\t<li>301</li>\n",
       "\t<li>348</li>\n",
       "\t<li>396</li>\n",
       "\t<li>445</li>\n",
       "\t<li>495</li>\n",
       "\t<li>546</li>\n",
       "\t<li>598</li>\n",
       "\t<li>651</li>\n",
       "\t<li>705</li>\n",
       "\t<li>760</li>\n",
       "\t<li>816</li>\n",
       "\t<li>873</li>\n",
       "\t<li>931</li>\n",
       "\t<li>990</li>\n",
       "\t<li>1050</li>\n",
       "</ol>\n",
       "</dd>\n",
       "</dl>\n"
      ],
      "text/latex": [
       "\\begin{description}\n",
       "\\item[\\$a] \\begin{enumerate*}\n",
       "\\item 11\n",
       "\\item 23\n",
       "\\end{enumerate*}\n",
       "\n",
       "\\item[\\$b] \\begin{enumerate*}\n",
       "\\item 1\n",
       "\\item 3\n",
       "\\item 6\n",
       "\\item 10\n",
       "\\item 15\n",
       "\\item 21\n",
       "\\item 28\n",
       "\\item 36\n",
       "\\item 45\n",
       "\\item 55\n",
       "\\end{enumerate*}\n",
       "\n",
       "\\item[\\$c] \\begin{enumerate*}\n",
       "\\item 40\n",
       "\\item 81\n",
       "\\item 123\n",
       "\\item 166\n",
       "\\item 210\n",
       "\\item 255\n",
       "\\item 301\n",
       "\\item 348\n",
       "\\item 396\n",
       "\\item 445\n",
       "\\item 495\n",
       "\\item 546\n",
       "\\item 598\n",
       "\\item 651\n",
       "\\item 705\n",
       "\\item 760\n",
       "\\item 816\n",
       "\\item 873\n",
       "\\item 931\n",
       "\\item 990\n",
       "\\item 1050\n",
       "\\end{enumerate*}\n",
       "\n",
       "\\end{description}\n"
      ],
      "text/markdown": [
       "$a\n",
       ":   1. 11\n",
       "2. 23\n",
       "\n",
       "\n",
       "\n",
       "$b\n",
       ":   1. 1\n",
       "2. 3\n",
       "3. 6\n",
       "4. 10\n",
       "5. 15\n",
       "6. 21\n",
       "7. 28\n",
       "8. 36\n",
       "9. 45\n",
       "10. 55\n",
       "\n",
       "\n",
       "\n",
       "$c\n",
       ":   1. 40\n",
       "2. 81\n",
       "3. 123\n",
       "4. 166\n",
       "5. 210\n",
       "6. 255\n",
       "7. 301\n",
       "8. 348\n",
       "9. 396\n",
       "10. 445\n",
       "11. 495\n",
       "12. 546\n",
       "13. 598\n",
       "14. 651\n",
       "15. 705\n",
       "16. 760\n",
       "17. 816\n",
       "18. 873\n",
       "19. 931\n",
       "20. 990\n",
       "21. 1050\n",
       "\n",
       "\n",
       "\n",
       "\n",
       "\n"
      ],
      "text/plain": [
       "$a\n",
       "[1] 11 23\n",
       "\n",
       "$b\n",
       " [1]  1  3  6 10 15 21 28 36 45 55\n",
       "\n",
       "$c\n",
       " [1]   40   81  123  166  210  255  301  348  396  445  495  546  598  651  705\n",
       "[16]  760  816  873  931  990 1050\n"
      ]
     },
     "metadata": {},
     "output_type": "display_data"
    }
   ],
   "source": [
    "print(\"Operations using sapply() function: \")\n",
    "\n",
    "# list1 have three objects a, b, and c\n",
    "# and they all are numeric objects (same data type)\n",
    "list1 <- list(a = 11:12, b = 1:10, c = 40:60)\n",
    "\n",
    "# Printing the length of list1 objects as a list\n",
    "sapply(list1, length, simplify = FALSE)\n",
    "\n",
    "# Printing the sum of elements present\n",
    "# in the list1 objects as a list\n",
    "sapply(list1, sum, simplify = FALSE)\n",
    "\n",
    "# Printing the mean of elements present\n",
    "# in the list1 objects as a list\n",
    "sapply(list1, mean, simplify = FALSE)\n",
    "\n",
    "# Printing the cumulative sum of elements\n",
    "# present in the list1 objects as a list\n",
    "sapply(list1, cumsum, simplify = FALSE)\n",
    "\n"
   ]
  },
  {
   "cell_type": "code",
   "execution_count": 5,
   "id": "9b7c1e5c",
   "metadata": {},
   "outputs": [
    {
     "name": "stdout",
     "output_type": "stream",
     "text": [
      "[1] \"Operations using lapply() function: \"\n"
     ]
    },
    {
     "data": {
      "text/html": [
       "<dl>\n",
       "\t<dt>$a</dt>\n",
       "\t\t<dd>2</dd>\n",
       "\t<dt>[[2]]</dt>\n",
       "\t\t<dd>4</dd>\n",
       "\t<dt>$c</dt>\n",
       "\t\t<dd>21</dd>\n",
       "</dl>\n"
      ],
      "text/latex": [
       "\\begin{description}\n",
       "\\item[\\$a] 2\n",
       "\\item[{[[2]]}] 4\n",
       "\\item[\\$c] 21\n",
       "\\end{description}\n"
      ],
      "text/markdown": [
       "$a\n",
       ":   2\n",
       "[[2]]\n",
       ":   4\n",
       "$c\n",
       ":   21\n",
       "\n",
       "\n"
      ],
      "text/plain": [
       "$a\n",
       "[1] 2\n",
       "\n",
       "[[2]]\n",
       "[1] 4\n",
       "\n",
       "$c\n",
       "[1] 21\n"
      ]
     },
     "metadata": {},
     "output_type": "display_data"
    },
    {
     "data": {
      "text/html": [
       "<dl>\n",
       "\t<dt>$a</dt>\n",
       "\t\t<dd>23</dd>\n",
       "\t<dt>[[2]]</dt>\n",
       "\t\t<dd>11</dd>\n",
       "\t<dt>$c</dt>\n",
       "\t\t<dd>1050</dd>\n",
       "</dl>\n"
      ],
      "text/latex": [
       "\\begin{description}\n",
       "\\item[\\$a] 23\n",
       "\\item[{[[2]]}] 11\n",
       "\\item[\\$c] 1050\n",
       "\\end{description}\n"
      ],
      "text/markdown": [
       "$a\n",
       ":   23\n",
       "[[2]]\n",
       ":   11\n",
       "$c\n",
       ":   1050\n",
       "\n",
       "\n"
      ],
      "text/plain": [
       "$a\n",
       "[1] 23\n",
       "\n",
       "[[2]]\n",
       "[1] 11\n",
       "\n",
       "$c\n",
       "[1] 1050\n"
      ]
     },
     "metadata": {},
     "output_type": "display_data"
    },
    {
     "data": {
      "text/html": [
       "<dl>\n",
       "\t<dt>$a</dt>\n",
       "\t\t<dd>11.5</dd>\n",
       "\t<dt>[[2]]</dt>\n",
       "\t\t<dd>2.75</dd>\n",
       "\t<dt>$c</dt>\n",
       "\t\t<dd>50</dd>\n",
       "</dl>\n"
      ],
      "text/latex": [
       "\\begin{description}\n",
       "\\item[\\$a] 11.5\n",
       "\\item[{[[2]]}] 2.75\n",
       "\\item[\\$c] 50\n",
       "\\end{description}\n"
      ],
      "text/markdown": [
       "$a\n",
       ":   11.5\n",
       "[[2]]\n",
       ":   2.75\n",
       "$c\n",
       ":   50\n",
       "\n",
       "\n"
      ],
      "text/plain": [
       "$a\n",
       "[1] 11.5\n",
       "\n",
       "[[2]]\n",
       "[1] 2.75\n",
       "\n",
       "$c\n",
       "[1] 50\n"
      ]
     },
     "metadata": {},
     "output_type": "display_data"
    },
    {
     "data": {
      "text/html": [
       "<dl>\n",
       "\t<dt>$a</dt>\n",
       "\t\t<dd><ol class=list-inline>\n",
       "\t<li>11</li>\n",
       "\t<li>23</li>\n",
       "</ol>\n",
       "</dd>\n",
       "\t<dt>[[2]]</dt>\n",
       "\t\t<dd><ol class=list-inline>\n",
       "\t<li>2</li>\n",
       "\t<li>7</li>\n",
       "\t<li>8</li>\n",
       "\t<li>11</li>\n",
       "</ol>\n",
       "</dd>\n",
       "\t<dt>$c</dt>\n",
       "\t\t<dd><ol class=list-inline>\n",
       "\t<li>40</li>\n",
       "\t<li>81</li>\n",
       "\t<li>123</li>\n",
       "\t<li>166</li>\n",
       "\t<li>210</li>\n",
       "\t<li>255</li>\n",
       "\t<li>301</li>\n",
       "\t<li>348</li>\n",
       "\t<li>396</li>\n",
       "\t<li>445</li>\n",
       "\t<li>495</li>\n",
       "\t<li>546</li>\n",
       "\t<li>598</li>\n",
       "\t<li>651</li>\n",
       "\t<li>705</li>\n",
       "\t<li>760</li>\n",
       "\t<li>816</li>\n",
       "\t<li>873</li>\n",
       "\t<li>931</li>\n",
       "\t<li>990</li>\n",
       "\t<li>1050</li>\n",
       "</ol>\n",
       "</dd>\n",
       "</dl>\n"
      ],
      "text/latex": [
       "\\begin{description}\n",
       "\\item[\\$a] \\begin{enumerate*}\n",
       "\\item 11\n",
       "\\item 23\n",
       "\\end{enumerate*}\n",
       "\n",
       "\\item[{[[2]]}] \\begin{enumerate*}\n",
       "\\item 2\n",
       "\\item 7\n",
       "\\item 8\n",
       "\\item 11\n",
       "\\end{enumerate*}\n",
       "\n",
       "\\item[\\$c] \\begin{enumerate*}\n",
       "\\item 40\n",
       "\\item 81\n",
       "\\item 123\n",
       "\\item 166\n",
       "\\item 210\n",
       "\\item 255\n",
       "\\item 301\n",
       "\\item 348\n",
       "\\item 396\n",
       "\\item 445\n",
       "\\item 495\n",
       "\\item 546\n",
       "\\item 598\n",
       "\\item 651\n",
       "\\item 705\n",
       "\\item 760\n",
       "\\item 816\n",
       "\\item 873\n",
       "\\item 931\n",
       "\\item 990\n",
       "\\item 1050\n",
       "\\end{enumerate*}\n",
       "\n",
       "\\end{description}\n"
      ],
      "text/markdown": [
       "$a\n",
       ":   1. 11\n",
       "2. 23\n",
       "\n",
       "\n",
       "\n",
       "[[2]]\n",
       ":   1. 2\n",
       "2. 7\n",
       "3. 8\n",
       "4. 11\n",
       "\n",
       "\n",
       "\n",
       "$c\n",
       ":   1. 40\n",
       "2. 81\n",
       "3. 123\n",
       "4. 166\n",
       "5. 210\n",
       "6. 255\n",
       "7. 301\n",
       "8. 348\n",
       "9. 396\n",
       "10. 445\n",
       "11. 495\n",
       "12. 546\n",
       "13. 598\n",
       "14. 651\n",
       "15. 705\n",
       "16. 760\n",
       "17. 816\n",
       "18. 873\n",
       "19. 931\n",
       "20. 990\n",
       "21. 1050\n",
       "\n",
       "\n",
       "\n",
       "\n",
       "\n"
      ],
      "text/plain": [
       "$a\n",
       "[1] 11 23\n",
       "\n",
       "[[2]]\n",
       "[1]  2  7  8 11\n",
       "\n",
       "$c\n",
       " [1]   40   81  123  166  210  255  301  348  396  445  495  546  598  651  705\n",
       "[16]  760  816  873  931  990 1050\n"
      ]
     },
     "metadata": {},
     "output_type": "display_data"
    },
    {
     "name": "stdout",
     "output_type": "stream",
     "text": [
      "[1] \"Operations using sapply() function: \"\n"
     ]
    },
    {
     "data": {
      "text/html": [
       "<dl class=dl-horizontal>\n",
       "\t<dt>a</dt>\n",
       "\t\t<dd>2</dd>\n",
       "\t<dt>2</dt>\n",
       "\t\t<dd>4</dd>\n",
       "\t<dt>c</dt>\n",
       "\t\t<dd>21</dd>\n",
       "</dl>\n"
      ],
      "text/latex": [
       "\\begin{description*}\n",
       "\\item[a] 2\n",
       "\\item[2] 4\n",
       "\\item[c] 21\n",
       "\\end{description*}\n"
      ],
      "text/markdown": [
       "a\n",
       ":   22\n",
       ":   4c\n",
       ":   21\n",
       "\n"
      ],
      "text/plain": [
       " a     c \n",
       " 2  4 21 "
      ]
     },
     "metadata": {},
     "output_type": "display_data"
    },
    {
     "data": {
      "text/html": [
       "<dl class=dl-horizontal>\n",
       "\t<dt>a</dt>\n",
       "\t\t<dd>23</dd>\n",
       "\t<dt>2</dt>\n",
       "\t\t<dd>11</dd>\n",
       "\t<dt>c</dt>\n",
       "\t\t<dd>1050</dd>\n",
       "</dl>\n"
      ],
      "text/latex": [
       "\\begin{description*}\n",
       "\\item[a] 23\n",
       "\\item[2] 11\n",
       "\\item[c] 1050\n",
       "\\end{description*}\n"
      ],
      "text/markdown": [
       "a\n",
       ":   232\n",
       ":   11c\n",
       ":   1050\n",
       "\n"
      ],
      "text/plain": [
       "   a         c \n",
       "  23   11 1050 "
      ]
     },
     "metadata": {},
     "output_type": "display_data"
    },
    {
     "data": {
      "text/html": [
       "<dl class=dl-horizontal>\n",
       "\t<dt>a</dt>\n",
       "\t\t<dd>11.5</dd>\n",
       "\t<dt>2</dt>\n",
       "\t\t<dd>2.75</dd>\n",
       "\t<dt>c</dt>\n",
       "\t\t<dd>50</dd>\n",
       "</dl>\n"
      ],
      "text/latex": [
       "\\begin{description*}\n",
       "\\item[a] 11.5\n",
       "\\item[2] 2.75\n",
       "\\item[c] 50\n",
       "\\end{description*}\n"
      ],
      "text/markdown": [
       "a\n",
       ":   11.52\n",
       ":   2.75c\n",
       ":   50\n",
       "\n"
      ],
      "text/plain": [
       "    a           c \n",
       "11.50  2.75 50.00 "
      ]
     },
     "metadata": {},
     "output_type": "display_data"
    },
    {
     "data": {
      "text/html": [
       "<dl>\n",
       "\t<dt>$a</dt>\n",
       "\t\t<dd><ol class=list-inline>\n",
       "\t<li>11</li>\n",
       "\t<li>23</li>\n",
       "</ol>\n",
       "</dd>\n",
       "\t<dt>[[2]]</dt>\n",
       "\t\t<dd><ol class=list-inline>\n",
       "\t<li>3</li>\n",
       "\t<li>8</li>\n",
       "\t<li>9</li>\n",
       "\t<li>11</li>\n",
       "</ol>\n",
       "</dd>\n",
       "\t<dt>$c</dt>\n",
       "\t\t<dd><ol class=list-inline>\n",
       "\t<li>40</li>\n",
       "\t<li>81</li>\n",
       "\t<li>123</li>\n",
       "\t<li>166</li>\n",
       "\t<li>210</li>\n",
       "\t<li>255</li>\n",
       "\t<li>301</li>\n",
       "\t<li>348</li>\n",
       "\t<li>396</li>\n",
       "\t<li>445</li>\n",
       "\t<li>495</li>\n",
       "\t<li>546</li>\n",
       "\t<li>598</li>\n",
       "\t<li>651</li>\n",
       "\t<li>705</li>\n",
       "\t<li>760</li>\n",
       "\t<li>816</li>\n",
       "\t<li>873</li>\n",
       "\t<li>931</li>\n",
       "\t<li>990</li>\n",
       "\t<li>1050</li>\n",
       "</ol>\n",
       "</dd>\n",
       "</dl>\n"
      ],
      "text/latex": [
       "\\begin{description}\n",
       "\\item[\\$a] \\begin{enumerate*}\n",
       "\\item 11\n",
       "\\item 23\n",
       "\\end{enumerate*}\n",
       "\n",
       "\\item[{[[2]]}] \\begin{enumerate*}\n",
       "\\item 3\n",
       "\\item 8\n",
       "\\item 9\n",
       "\\item 11\n",
       "\\end{enumerate*}\n",
       "\n",
       "\\item[\\$c] \\begin{enumerate*}\n",
       "\\item 40\n",
       "\\item 81\n",
       "\\item 123\n",
       "\\item 166\n",
       "\\item 210\n",
       "\\item 255\n",
       "\\item 301\n",
       "\\item 348\n",
       "\\item 396\n",
       "\\item 445\n",
       "\\item 495\n",
       "\\item 546\n",
       "\\item 598\n",
       "\\item 651\n",
       "\\item 705\n",
       "\\item 760\n",
       "\\item 816\n",
       "\\item 873\n",
       "\\item 931\n",
       "\\item 990\n",
       "\\item 1050\n",
       "\\end{enumerate*}\n",
       "\n",
       "\\end{description}\n"
      ],
      "text/markdown": [
       "$a\n",
       ":   1. 11\n",
       "2. 23\n",
       "\n",
       "\n",
       "\n",
       "[[2]]\n",
       ":   1. 3\n",
       "2. 8\n",
       "3. 9\n",
       "4. 11\n",
       "\n",
       "\n",
       "\n",
       "$c\n",
       ":   1. 40\n",
       "2. 81\n",
       "3. 123\n",
       "4. 166\n",
       "5. 210\n",
       "6. 255\n",
       "7. 301\n",
       "8. 348\n",
       "9. 396\n",
       "10. 445\n",
       "11. 495\n",
       "12. 546\n",
       "13. 598\n",
       "14. 651\n",
       "15. 705\n",
       "16. 760\n",
       "17. 816\n",
       "18. 873\n",
       "19. 931\n",
       "20. 990\n",
       "21. 1050\n",
       "\n",
       "\n",
       "\n",
       "\n",
       "\n"
      ],
      "text/plain": [
       "$a\n",
       "[1] 11 23\n",
       "\n",
       "[[2]]\n",
       "[1]  3  8  9 11\n",
       "\n",
       "$c\n",
       " [1]   40   81  123  166  210  255  301  348  396  445  495  546  598  651  705\n",
       "[16]  760  816  873  931  990 1050\n"
      ]
     },
     "metadata": {},
     "output_type": "display_data"
    }
   ],
   "source": [
    "print(\"Operations using lapply() function: \")\n",
    "\n",
    "\n",
    "# Initializing list1\n",
    "# list1 have three objects a, b, and c\n",
    "# and they all are numeric objects (same data type)\n",
    "list1 <- list(a=11: 12, sample(c(1, 2, 5, 3),\n",
    "\t\t\t\t\t\t\tsize=4, replace=FALSE),\n",
    "\t\t\tc=40: 60)\n",
    "\n",
    "# Printing the length of list1 objects\n",
    "lapply(list1, length)\n",
    "\n",
    "# Printing the sum of elements present in the\n",
    "# list1 objects\n",
    "lapply(list1, sum)\n",
    "\n",
    "# Printing the mean of elements present in the\n",
    "# list1 objects\n",
    "lapply(list1, mean)\n",
    "\n",
    "# Printing the cumulative sum of elements present\n",
    "# in the list1 objects\n",
    "lapply(list1, cumsum)\n",
    "\n",
    "print(\"Operations using sapply() function: \")\n",
    "\n",
    "# Initializing list2\n",
    "# list2 have three objects a, b, and c\n",
    "# and they all are numeric objects (same data type)\n",
    "list2 <- list(a=11: 12, sample(c(1, 2, 5, 3),\n",
    "\t\t\t\t\t\t\tsize=4, replace=FALSE),\n",
    "\t\t\tc=40: 60)\n",
    "\n",
    "# Printing the length of list2 objects\n",
    "sapply(list2, length)\n",
    "\n",
    "# Printing the sum of elements\n",
    "# present in the list2 objects\n",
    "sapply(list2, sum)\n",
    "\n",
    "# Printing the mean of elements\n",
    "# present in the list2 objects\n",
    "sapply(list2, mean)\n",
    "\n",
    "# Printing the cumulative sum of\n",
    "# elements present in the list2 objects\n",
    "sapply(list2, cumsum)\n"
   ]
  },
  {
   "cell_type": "code",
   "execution_count": 7,
   "id": "ab84519c",
   "metadata": {},
   "outputs": [
    {
     "data": {
      "text/html": [
       "<table>\n",
       "<thead><tr><th scope=col>price</th><th scope=col>type</th><th scope=col>store</th></tr></thead>\n",
       "<tbody>\n",
       "\t<tr><td>21     </td><td>2      </td><td>Store 2</td></tr>\n",
       "\t<tr><td>32     </td><td>3      </td><td>Store 3</td></tr>\n",
       "\t<tr><td>46     </td><td>4      </td><td>Store 4</td></tr>\n",
       "\t<tr><td>19     </td><td>3      </td><td>Store 4</td></tr>\n",
       "\t<tr><td>29     </td><td>1      </td><td>Store 4</td></tr>\n",
       "\t<tr><td>31     </td><td>3      </td><td>Store 4</td></tr>\n",
       "</tbody>\n",
       "</table>\n"
      ],
      "text/latex": [
       "\\begin{tabular}{r|lll}\n",
       " price & type & store\\\\\n",
       "\\hline\n",
       "\t 21      & 2       & Store 2\\\\\n",
       "\t 32      & 3       & Store 3\\\\\n",
       "\t 46      & 4       & Store 4\\\\\n",
       "\t 19      & 3       & Store 4\\\\\n",
       "\t 29      & 1       & Store 4\\\\\n",
       "\t 31      & 3       & Store 4\\\\\n",
       "\\end{tabular}\n"
      ],
      "text/markdown": [
       "\n",
       "| price | type | store |\n",
       "|---|---|---|\n",
       "| 21      | 2       | Store 2 |\n",
       "| 32      | 3       | Store 3 |\n",
       "| 46      | 4       | Store 4 |\n",
       "| 19      | 3       | Store 4 |\n",
       "| 29      | 1       | Store 4 |\n",
       "| 31      | 3       | Store 4 |\n",
       "\n"
      ],
      "text/plain": [
       "  price type store  \n",
       "1 21    2    Store 2\n",
       "2 32    3    Store 3\n",
       "3 46    4    Store 4\n",
       "4 19    3    Store 4\n",
       "5 29    1    Store 4\n",
       "6 31    3    Store 4"
      ]
     },
     "metadata": {},
     "output_type": "display_data"
    }
   ],
   "source": [
    "# tappy\n",
    "\n",
    "set.seed(2)\n",
    "\n",
    "data_set <- data.frame(price = round(rnorm(25, sd = 10, mean = 30)),\n",
    "                       type = sample(1:4, size = 25, replace = TRUE),\n",
    "                       store = sample(paste(\"Store\", 1:4),\n",
    "                                      size = 25, replace = TRUE))\n",
    "\n",
    "head(data_set)"
   ]
  },
  {
   "cell_type": "code",
   "execution_count": 12,
   "id": "389ef376",
   "metadata": {},
   "outputs": [
    {
     "data": {
      "text/html": [
       "<table>\n",
       "<tbody>\n",
       "\t<tr><td>1 </td><td> 6</td><td>1 </td><td> 6</td><td>1 </td><td> 6</td></tr>\n",
       "\t<tr><td>2 </td><td> 7</td><td>2 </td><td> 7</td><td>2 </td><td> 7</td></tr>\n",
       "\t<tr><td>3 </td><td> 8</td><td>3 </td><td> 8</td><td>3 </td><td> 8</td></tr>\n",
       "\t<tr><td>4 </td><td> 9</td><td>4 </td><td> 9</td><td>4 </td><td> 9</td></tr>\n",
       "\t<tr><td>5 </td><td>10</td><td>5 </td><td>10</td><td>5 </td><td>10</td></tr>\n",
       "</tbody>\n",
       "</table>\n"
      ],
      "text/latex": [
       "\\begin{tabular}{llllll}\n",
       "\t 1  &  6 & 1  &  6 & 1  &  6\\\\\n",
       "\t 2  &  7 & 2  &  7 & 2  &  7\\\\\n",
       "\t 3  &  8 & 3  &  8 & 3  &  8\\\\\n",
       "\t 4  &  9 & 4  &  9 & 4  &  9\\\\\n",
       "\t 5  & 10 & 5  & 10 & 5  & 10\\\\\n",
       "\\end{tabular}\n"
      ],
      "text/markdown": [
       "\n",
       "| 1  |  6 | 1  |  6 | 1  |  6 |\n",
       "| 2  |  7 | 2  |  7 | 2  |  7 |\n",
       "| 3  |  8 | 3  |  8 | 3  |  8 |\n",
       "| 4  |  9 | 4  |  9 | 4  |  9 |\n",
       "| 5  | 10 | 5  | 10 | 5  | 10 |\n",
       "\n"
      ],
      "text/plain": [
       "     [,1] [,2] [,3] [,4] [,5] [,6]\n",
       "[1,] 1     6   1     6   1     6  \n",
       "[2,] 2     7   2     7   2     7  \n",
       "[3,] 3     8   3     8   3     8  \n",
       "[4,] 4     9   4     9   4     9  \n",
       "[5,] 5    10   5    10   5    10  "
      ]
     },
     "metadata": {},
     "output_type": "display_data"
    },
    {
     "data": {
      "text/html": [
       "<ol class=list-inline>\n",
       "\t<li>15</li>\n",
       "\t<li>40</li>\n",
       "\t<li>15</li>\n",
       "\t<li>40</li>\n",
       "\t<li>15</li>\n",
       "\t<li>40</li>\n",
       "</ol>\n"
      ],
      "text/latex": [
       "\\begin{enumerate*}\n",
       "\\item 15\n",
       "\\item 40\n",
       "\\item 15\n",
       "\\item 40\n",
       "\\item 15\n",
       "\\item 40\n",
       "\\end{enumerate*}\n"
      ],
      "text/markdown": [
       "1. 15\n",
       "2. 40\n",
       "3. 15\n",
       "4. 40\n",
       "5. 15\n",
       "6. 40\n",
       "\n",
       "\n"
      ],
      "text/plain": [
       "[1] 15 40 15 40 15 40"
      ]
     },
     "metadata": {},
     "output_type": "display_data"
    }
   ],
   "source": [
    "# simplest example of appy\n",
    "\n",
    "m1 <- matrix(C<-(1:10),nrow=5, ncol=6)\n",
    "m1\n",
    "a_m1 <- apply(m1, 2, sum)\n",
    "a_m1"
   ]
  },
  {
   "cell_type": "code",
   "execution_count": 14,
   "id": "dc756528",
   "metadata": {},
   "outputs": [
    {
     "name": "stdout",
     "output_type": "stream",
     "text": [
      "List of 4\n",
      " $ : chr \"spyderman\"\n",
      " $ : chr \"batman\"\n",
      " $ : chr \"vertigo\"\n",
      " $ : chr \"chinatown\"\n"
     ]
    }
   ],
   "source": [
    "# lappy\n",
    "\n",
    "movies <- c(\"SPYDERMAN\",\"BATMAN\",\"VERTIGO\",\"CHINATOWN\")\n",
    "movies_lower <-lapply(movies, tolower)\n",
    "str(movies_lower)"
   ]
  },
  {
   "cell_type": "code",
   "execution_count": 15,
   "id": "b0bdd79c",
   "metadata": {},
   "outputs": [
    {
     "data": {
      "text/html": [
       "<dl>\n",
       "\t<dt>$speed</dt>\n",
       "\t\t<dd>4</dd>\n",
       "\t<dt>$dist</dt>\n",
       "\t\t<dd>2</dd>\n",
       "</dl>\n"
      ],
      "text/latex": [
       "\\begin{description}\n",
       "\\item[\\$speed] 4\n",
       "\\item[\\$dist] 2\n",
       "\\end{description}\n"
      ],
      "text/markdown": [
       "$speed\n",
       ":   4\n",
       "$dist\n",
       ":   2\n",
       "\n",
       "\n"
      ],
      "text/plain": [
       "$speed\n",
       "[1] 4\n",
       "\n",
       "$dist\n",
       "[1] 2\n"
      ]
     },
     "metadata": {},
     "output_type": "display_data"
    }
   ],
   "source": [
    "#sappy\n",
    "\n",
    "dt <- cars\n",
    "lmn_cars <- lapply(dt, min)\n",
    "smn_cars <- sapply(dt, min)\n",
    "lmn_cars"
   ]
  },
  {
   "cell_type": "code",
   "execution_count": 16,
   "id": "1142836f",
   "metadata": {},
   "outputs": [
    {
     "data": {
      "text/html": [
       "<dl class=dl-horizontal>\n",
       "\t<dt>speed</dt>\n",
       "\t\t<dd>4</dd>\n",
       "\t<dt>dist</dt>\n",
       "\t\t<dd>2</dd>\n",
       "</dl>\n"
      ],
      "text/latex": [
       "\\begin{description*}\n",
       "\\item[speed] 4\n",
       "\\item[dist] 2\n",
       "\\end{description*}\n"
      ],
      "text/markdown": [
       "speed\n",
       ":   4dist\n",
       ":   2\n",
       "\n"
      ],
      "text/plain": [
       "speed  dist \n",
       "    4     2 "
      ]
     },
     "metadata": {},
     "output_type": "display_data"
    }
   ],
   "source": [
    "smn_cars"
   ]
  },
  {
   "cell_type": "code",
   "execution_count": 21,
   "id": "ccf15ecc",
   "metadata": {},
   "outputs": [
    {
     "data": {
      "text/html": [
       "TRUE"
      ],
      "text/latex": [
       "TRUE"
      ],
      "text/markdown": [
       "TRUE"
      ],
      "text/plain": [
       "[1] TRUE"
      ]
     },
     "metadata": {},
     "output_type": "display_data"
    }
   ],
   "source": [
    "# Slice vectorWe can use lapply() or sapply() interchangeable to slice a data frame. We create a function, below_average(), \n",
    "#that takes a vector of numerical values and returns a vector that only contains the values that are strictly \n",
    "#above the average. We compare both results with the identical() function\"\n",
    "\n",
    "\n",
    "below_ave <- function(x) {  \n",
    "    ave <- mean(x) \n",
    "    return(x[x > ave])\n",
    "}\n",
    "dt_s<- sapply(dt, below_ave)\n",
    "dt_l<- lapply(dt, below_ave)\n",
    "identical(dt_s, dt_l)"
   ]
  },
  {
   "cell_type": "code",
   "execution_count": null,
   "id": "95ea6404",
   "metadata": {},
   "outputs": [],
   "source": []
  }
 ],
 "metadata": {
  "kernelspec": {
   "display_name": "R",
   "language": "R",
   "name": "ir"
  },
  "language_info": {
   "codemirror_mode": "r",
   "file_extension": ".r",
   "mimetype": "text/x-r-source",
   "name": "R",
   "pygments_lexer": "r",
   "version": "3.6.1"
  }
 },
 "nbformat": 4,
 "nbformat_minor": 5
}
