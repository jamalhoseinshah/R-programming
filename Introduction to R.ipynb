{
 "cells": [
  {
   "cell_type": "markdown",
   "metadata": {},
   "source": [
    "This project is created by Jamal Hussain Shah on 25-5-2022\n",
    "\n",
    "\n",
    "# Course - Introduction to R "
   ]
  },
  {
   "cell_type": "markdown",
   "metadata": {},
   "source": [
    "##### NOTE: \n",
    "1. Your code MUST execute without any errors. \n",
    "2. You can add more lines in your code as required."
   ]
  },
  {
   "cell_type": "markdown",
   "metadata": {},
   "source": [
    "## Section 1: Data Types and Operations Pt. 1"
   ]
  },
  {
   "cell_type": "markdown",
   "metadata": {},
   "source": [
    "### Question 1 \n",
    "**Create the variables with the following composition:**\n",
    "1. A vector containing each letter of your first name as its elements.\n",
    "2. A variable that contains your name concatenated from the vector created in (1)\n",
    "3. A variable containing a sequence from 100 to 120.\n",
    "4. Create a matrix of 3x3 dimensions that contains the even sequence of numbers starting from 2.\n",
    "5. Assign names to the variables."
   ]
  },
  {
   "cell_type": "code",
   "execution_count": 1,
   "metadata": {},
   "outputs": [
    {
     "data": {
      "text/html": [
       "'jamal'"
      ],
      "text/latex": [
       "'jamal'"
      ],
      "text/markdown": [
       "'jamal'"
      ],
      "text/plain": [
       "[1] \"jamal\""
      ]
     },
     "metadata": {},
     "output_type": "display_data"
    }
   ],
   "source": [
    "x <- \"jamal\"\n",
    "x"
   ]
  },
  {
   "cell_type": "code",
   "execution_count": 2,
   "metadata": {},
   "outputs": [
    {
     "data": {
      "text/html": [
       "<ol class=list-inline>\n",
       "\t<li>'j'</li>\n",
       "\t<li>'a'</li>\n",
       "\t<li>'m'</li>\n",
       "\t<li>'a'</li>\n",
       "\t<li>'l'</li>\n",
       "</ol>\n"
      ],
      "text/latex": [
       "\\begin{enumerate*}\n",
       "\\item 'j'\n",
       "\\item 'a'\n",
       "\\item 'm'\n",
       "\\item 'a'\n",
       "\\item 'l'\n",
       "\\end{enumerate*}\n"
      ],
      "text/markdown": [
       "1. 'j'\n",
       "2. 'a'\n",
       "3. 'm'\n",
       "4. 'a'\n",
       "5. 'l'\n",
       "\n",
       "\n"
      ],
      "text/plain": [
       "[1] \"j\" \"a\" \"m\" \"a\" \"l\""
      ]
     },
     "metadata": {},
     "output_type": "display_data"
    }
   ],
   "source": [
    "x <- c(\"j\",\"a\",\"m\",\"a\",\"l\")\n",
    "x"
   ]
  },
  {
   "cell_type": "code",
   "execution_count": 5,
   "metadata": {},
   "outputs": [
    {
     "data": {
      "text/html": [
       "'may name is jamal'"
      ],
      "text/latex": [
       "'may name is jamal'"
      ],
      "text/markdown": [
       "'may name is jamal'"
      ],
      "text/plain": [
       "[1] \"may name is jamal\""
      ]
     },
     "metadata": {},
     "output_type": "display_data"
    }
   ],
   "source": [
    "myname <- c(\"jamal\")\n",
    "name <- paste('may name is', myname)\n",
    "name"
   ]
  },
  {
   "cell_type": "code",
   "execution_count": 6,
   "metadata": {},
   "outputs": [
    {
     "data": {
      "text/html": [
       "<ol class=list-inline>\n",
       "\t<li>100</li>\n",
       "\t<li>101</li>\n",
       "\t<li>102</li>\n",
       "\t<li>103</li>\n",
       "\t<li>104</li>\n",
       "\t<li>105</li>\n",
       "\t<li>106</li>\n",
       "\t<li>107</li>\n",
       "\t<li>108</li>\n",
       "\t<li>109</li>\n",
       "\t<li>110</li>\n",
       "\t<li>111</li>\n",
       "\t<li>112</li>\n",
       "\t<li>113</li>\n",
       "\t<li>114</li>\n",
       "\t<li>115</li>\n",
       "\t<li>116</li>\n",
       "\t<li>117</li>\n",
       "\t<li>118</li>\n",
       "\t<li>119</li>\n",
       "\t<li>120</li>\n",
       "</ol>\n"
      ],
      "text/latex": [
       "\\begin{enumerate*}\n",
       "\\item 100\n",
       "\\item 101\n",
       "\\item 102\n",
       "\\item 103\n",
       "\\item 104\n",
       "\\item 105\n",
       "\\item 106\n",
       "\\item 107\n",
       "\\item 108\n",
       "\\item 109\n",
       "\\item 110\n",
       "\\item 111\n",
       "\\item 112\n",
       "\\item 113\n",
       "\\item 114\n",
       "\\item 115\n",
       "\\item 116\n",
       "\\item 117\n",
       "\\item 118\n",
       "\\item 119\n",
       "\\item 120\n",
       "\\end{enumerate*}\n"
      ],
      "text/markdown": [
       "1. 100\n",
       "2. 101\n",
       "3. 102\n",
       "4. 103\n",
       "5. 104\n",
       "6. 105\n",
       "7. 106\n",
       "8. 107\n",
       "9. 108\n",
       "10. 109\n",
       "11. 110\n",
       "12. 111\n",
       "13. 112\n",
       "14. 113\n",
       "15. 114\n",
       "16. 115\n",
       "17. 116\n",
       "18. 117\n",
       "19. 118\n",
       "20. 119\n",
       "21. 120\n",
       "\n",
       "\n"
      ],
      "text/plain": [
       " [1] 100 101 102 103 104 105 106 107 108 109 110 111 112 113 114 115 116 117 118\n",
       "[20] 119 120"
      ]
     },
     "metadata": {},
     "output_type": "display_data"
    }
   ],
   "source": [
    "sequence <- 100:120\n",
    "sequence"
   ]
  },
  {
   "cell_type": "code",
   "execution_count": 7,
   "metadata": {},
   "outputs": [
    {
     "data": {
      "text/html": [
       "<table>\n",
       "<tbody>\n",
       "\t<tr><td>2 </td><td> 8</td><td>14</td></tr>\n",
       "\t<tr><td>4 </td><td>10</td><td>16</td></tr>\n",
       "\t<tr><td>6 </td><td>12</td><td>18</td></tr>\n",
       "</tbody>\n",
       "</table>\n"
      ],
      "text/latex": [
       "\\begin{tabular}{lll}\n",
       "\t 2  &  8 & 14\\\\\n",
       "\t 4  & 10 & 16\\\\\n",
       "\t 6  & 12 & 18\\\\\n",
       "\\end{tabular}\n"
      ],
      "text/markdown": [
       "\n",
       "| 2  |  8 | 14 |\n",
       "| 4  | 10 | 16 |\n",
       "| 6  | 12 | 18 |\n",
       "\n"
      ],
      "text/plain": [
       "     [,1] [,2] [,3]\n",
       "[1,] 2     8   14  \n",
       "[2,] 4    10   16  \n",
       "[3,] 6    12   18  "
      ]
     },
     "metadata": {},
     "output_type": "display_data"
    }
   ],
   "source": [
    "nmatrix <- matrix(seq(from = 2, length.out = 9, by = 2), 3 , 3)\n",
    "nmatrix"
   ]
  },
  {
   "cell_type": "code",
   "execution_count": 8,
   "metadata": {},
   "outputs": [
    {
     "data": {
      "text/html": [
       "<strong>firstName:</strong> 'jamal'"
      ],
      "text/latex": [
       "\\textbf{firstName:} 'jamal'"
      ],
      "text/markdown": [
       "**firstName:** 'jamal'"
      ],
      "text/plain": [
       "firstName \n",
       "  \"jamal\" "
      ]
     },
     "metadata": {},
     "output_type": "display_data"
    },
    {
     "data": {
      "text/html": [
       "<strong>ConcatName:</strong> 'may name is jamal'"
      ],
      "text/latex": [
       "\\textbf{ConcatName:} 'may name is jamal'"
      ],
      "text/markdown": [
       "**ConcatName:** 'may name is jamal'"
      ],
      "text/plain": [
       "         ConcatName \n",
       "\"may name is jamal\" "
      ]
     },
     "metadata": {},
     "output_type": "display_data"
    },
    {
     "data": {
      "text/html": [
       "<dl class=dl-horizontal>\n",
       "\t<dt>seq_series</dt>\n",
       "\t\t<dd>100</dd>\n",
       "\t<dt>2</dt>\n",
       "\t\t<dd>101</dd>\n",
       "\t<dt>3</dt>\n",
       "\t\t<dd>102</dd>\n",
       "\t<dt>4</dt>\n",
       "\t\t<dd>103</dd>\n",
       "\t<dt>5</dt>\n",
       "\t\t<dd>104</dd>\n",
       "\t<dt>6</dt>\n",
       "\t\t<dd>105</dd>\n",
       "\t<dt>7</dt>\n",
       "\t\t<dd>106</dd>\n",
       "\t<dt>8</dt>\n",
       "\t\t<dd>107</dd>\n",
       "\t<dt>9</dt>\n",
       "\t\t<dd>108</dd>\n",
       "\t<dt>10</dt>\n",
       "\t\t<dd>109</dd>\n",
       "\t<dt>11</dt>\n",
       "\t\t<dd>110</dd>\n",
       "\t<dt>12</dt>\n",
       "\t\t<dd>111</dd>\n",
       "\t<dt>13</dt>\n",
       "\t\t<dd>112</dd>\n",
       "\t<dt>14</dt>\n",
       "\t\t<dd>113</dd>\n",
       "\t<dt>15</dt>\n",
       "\t\t<dd>114</dd>\n",
       "\t<dt>16</dt>\n",
       "\t\t<dd>115</dd>\n",
       "\t<dt>17</dt>\n",
       "\t\t<dd>116</dd>\n",
       "\t<dt>18</dt>\n",
       "\t\t<dd>117</dd>\n",
       "\t<dt>19</dt>\n",
       "\t\t<dd>118</dd>\n",
       "\t<dt>20</dt>\n",
       "\t\t<dd>119</dd>\n",
       "\t<dt>21</dt>\n",
       "\t\t<dd>120</dd>\n",
       "</dl>\n"
      ],
      "text/latex": [
       "\\begin{description*}\n",
       "\\item[seq\\textbackslash{}\\_series] 100\n",
       "\\item[2] 101\n",
       "\\item[3] 102\n",
       "\\item[4] 103\n",
       "\\item[5] 104\n",
       "\\item[6] 105\n",
       "\\item[7] 106\n",
       "\\item[8] 107\n",
       "\\item[9] 108\n",
       "\\item[10] 109\n",
       "\\item[11] 110\n",
       "\\item[12] 111\n",
       "\\item[13] 112\n",
       "\\item[14] 113\n",
       "\\item[15] 114\n",
       "\\item[16] 115\n",
       "\\item[17] 116\n",
       "\\item[18] 117\n",
       "\\item[19] 118\n",
       "\\item[20] 119\n",
       "\\item[21] 120\n",
       "\\end{description*}\n"
      ],
      "text/markdown": [
       "seq_series\n",
       ":   1002\n",
       ":   1013\n",
       ":   1024\n",
       ":   1035\n",
       ":   1046\n",
       ":   1057\n",
       ":   1068\n",
       ":   1079\n",
       ":   10810\n",
       ":   10911\n",
       ":   11012\n",
       ":   11113\n",
       ":   11214\n",
       ":   11315\n",
       ":   11416\n",
       ":   11517\n",
       ":   11618\n",
       ":   11719\n",
       ":   11820\n",
       ":   11921\n",
       ":   120\n",
       "\n"
      ],
      "text/plain": [
       "seq_series       <NA>       <NA>       <NA>       <NA>       <NA>       <NA> \n",
       "       100        101        102        103        104        105        106 \n",
       "      <NA>       <NA>       <NA>       <NA>       <NA>       <NA>       <NA> \n",
       "       107        108        109        110        111        112        113 \n",
       "      <NA>       <NA>       <NA>       <NA>       <NA>       <NA>       <NA> \n",
       "       114        115        116        117        118        119        120 "
      ]
     },
     "metadata": {},
     "output_type": "display_data"
    },
    {
     "data": {
      "text/html": [
       "<table>\n",
       "<tbody>\n",
       "\t<tr><td>2 </td><td> 8</td><td>14</td></tr>\n",
       "\t<tr><td>4 </td><td>10</td><td>16</td></tr>\n",
       "\t<tr><td>6 </td><td>12</td><td>18</td></tr>\n",
       "</tbody>\n",
       "</table>\n"
      ],
      "text/latex": [
       "\\begin{tabular}{lll}\n",
       "\t 2  &  8 & 14\\\\\n",
       "\t 4  & 10 & 16\\\\\n",
       "\t 6  & 12 & 18\\\\\n",
       "\\end{tabular}\n"
      ],
      "text/markdown": [
       "\n",
       "| 2  |  8 | 14 |\n",
       "| 4  | 10 | 16 |\n",
       "| 6  | 12 | 18 |\n",
       "\n"
      ],
      "text/plain": [
       "     [,1] [,2] [,3]\n",
       "[1,] 2     8   14  \n",
       "[2,] 4    10   16  \n",
       "[3,] 6    12   18  "
      ]
     },
     "metadata": {},
     "output_type": "display_data"
    }
   ],
   "source": [
    "names(myname) <- \"firstName\"\n",
    "names(name) <- \"ConcatName\"\n",
    "names(sequence) <- \"seq_series\"\n",
    "names(nmatrix) <- \"evenmatrix\"\n",
    "myname\n",
    "name\n",
    "sequence\n",
    "nmatrix"
   ]
  },
  {
   "cell_type": "code",
   "execution_count": null,
   "metadata": {},
   "outputs": [],
   "source": []
  },
  {
   "cell_type": "markdown",
   "metadata": {},
   "source": [
    "### Question 2\n",
    "**Create a factor variable emp_status:**\n",
    "1. Containing the categorical variables: Employed, Unemployed, Self-Employed, with each level appearing atleast more than 2.\n",
    "2. Display the levels and the factor variable as a table.\n",
    "3. Unclass the elements of the factor variable."
   ]
  },
  {
   "cell_type": "code",
   "execution_count": null,
   "metadata": {},
   "outputs": [],
   "source": [
    "#### Start solution ####"
   ]
  },
  {
   "cell_type": "code",
   "execution_count": 66,
   "metadata": {},
   "outputs": [
    {
     "data": {
      "text/html": [
       "<ol class=list-inline>\n",
       "\t<li>Employed</li>\n",
       "\t<li>Unemployed</li>\n",
       "\t<li>Self-Employed</li>\n",
       "\t<li>Employed</li>\n",
       "\t<li>Unemployed</li>\n",
       "\t<li>Self-Employed</li>\n",
       "</ol>\n",
       "\n",
       "<details>\n",
       "\t<summary style=display:list-item;cursor:pointer>\n",
       "\t\t<strong>Levels</strong>:\n",
       "\t</summary>\n",
       "\t<ol class=list-inline>\n",
       "\t\t<li>'Employed'</li>\n",
       "\t\t<li>'Self-Employed'</li>\n",
       "\t\t<li>'Unemployed'</li>\n",
       "\t</ol>\n",
       "</details>"
      ],
      "text/latex": [
       "\\begin{enumerate*}\n",
       "\\item Employed\n",
       "\\item Unemployed\n",
       "\\item Self-Employed\n",
       "\\item Employed\n",
       "\\item Unemployed\n",
       "\\item Self-Employed\n",
       "\\end{enumerate*}\n",
       "\n",
       "\\emph{Levels}: \\begin{enumerate*}\n",
       "\\item 'Employed'\n",
       "\\item 'Self-Employed'\n",
       "\\item 'Unemployed'\n",
       "\\end{enumerate*}\n"
      ],
      "text/markdown": [
       "1. Employed\n",
       "2. Unemployed\n",
       "3. Self-Employed\n",
       "4. Employed\n",
       "5. Unemployed\n",
       "6. Self-Employed\n",
       "\n",
       "\n",
       "\n",
       "**Levels**: 1. 'Employed'\n",
       "2. 'Self-Employed'\n",
       "3. 'Unemployed'\n",
       "\n",
       "\n"
      ],
      "text/plain": [
       "[1] Employed      Unemployed    Self-Employed Employed      Unemployed   \n",
       "[6] Self-Employed\n",
       "Levels: Employed Self-Employed Unemployed"
      ]
     },
     "metadata": {},
     "output_type": "display_data"
    }
   ],
   "source": [
    "factorization <- factor(c(\"Employed\",\"Unemployed\",\"Self-Employed\",\"Employed\",\"Unemployed\",\"Self-Employed\"))\n",
    "levels = c(\"Employed\",\"Self-Employed\",\"Unemployed\")\n",
    "factorization"
   ]
  },
  {
   "cell_type": "code",
   "execution_count": 64,
   "metadata": {},
   "outputs": [
    {
     "data": {
      "text/plain": [
       "factorization\n",
       "     Employed Self-Employed    Unemployed \n",
       "            2             2             2 "
      ]
     },
     "metadata": {},
     "output_type": "display_data"
    }
   ],
   "source": [
    "table(factorization)"
   ]
  },
  {
   "cell_type": "code",
   "execution_count": 65,
   "metadata": {},
   "outputs": [
    {
     "data": {
      "text/html": [
       "<ol class=list-inline>\n",
       "\t<li>1</li>\n",
       "\t<li>3</li>\n",
       "\t<li>2</li>\n",
       "\t<li>1</li>\n",
       "\t<li>3</li>\n",
       "\t<li>2</li>\n",
       "</ol>\n"
      ],
      "text/latex": [
       "\\begin{enumerate*}\n",
       "\\item 1\n",
       "\\item 3\n",
       "\\item 2\n",
       "\\item 1\n",
       "\\item 3\n",
       "\\item 2\n",
       "\\end{enumerate*}\n"
      ],
      "text/markdown": [
       "1. 1\n",
       "2. 3\n",
       "3. 2\n",
       "4. 1\n",
       "5. 3\n",
       "6. 2\n",
       "\n",
       "\n"
      ],
      "text/plain": [
       "[1] 1 3 2 1 3 2\n",
       "attr(,\"levels\")\n",
       "[1] \"Employed\"      \"Self-Employed\" \"Unemployed\"   "
      ]
     },
     "metadata": {},
     "output_type": "display_data"
    }
   ],
   "source": [
    "unclass(factorization)"
   ]
  },
  {
   "cell_type": "code",
   "execution_count": null,
   "metadata": {},
   "outputs": [],
   "source": [
    "#### End solution ####"
   ]
  },
  {
   "cell_type": "markdown",
   "metadata": {},
   "source": [
    "### Question 3\n",
    "**Create a dataframe object called bank_customers:**\n",
    "1. the data frame will have three columns: CustomerID, hasAccount, totalBalance\n",
    "2. Fill the data as follows\n",
    "    a. Alicia does not have an account. She is here for inquiry \n",
    "    b. Nancy is here to check on her account balance of USD 10,000.\n",
    "    c. Fernando is here to deposit USD 100 in his account which had no balance.\n",
    "    d. Louis will withdraw all his money from the account that had USD 2,000. \n",
    "    e. Diane is here for information. \n",
    "3. For customers that do not have a value, use NA as placeholder.\n",
    "4. Print the number of rows, columns and names for the data frame."
   ]
  },
  {
   "cell_type": "code",
   "execution_count": 72,
   "metadata": {},
   "outputs": [
    {
     "data": {
      "text/html": [
       "<table>\n",
       "<thead><tr><th scope=col>CustomerID</th><th scope=col>hasAccount</th><th scope=col>totalBalance</th></tr></thead>\n",
       "<tbody>\n",
       "\t<tr><td>Alicia  </td><td>FALSE   </td><td>   NA   </td></tr>\n",
       "\t<tr><td>Nancy   </td><td> TRUE   </td><td>10000   </td></tr>\n",
       "\t<tr><td>Fernando</td><td> TRUE   </td><td>  100   </td></tr>\n",
       "\t<tr><td>Louis   </td><td> TRUE   </td><td> 2000   </td></tr>\n",
       "\t<tr><td>Diane   </td><td>FALSE   </td><td>   NA   </td></tr>\n",
       "</tbody>\n",
       "</table>\n"
      ],
      "text/latex": [
       "\\begin{tabular}{r|lll}\n",
       " CustomerID & hasAccount & totalBalance\\\\\n",
       "\\hline\n",
       "\t Alicia   & FALSE    &    NA   \\\\\n",
       "\t Nancy    &  TRUE    & 10000   \\\\\n",
       "\t Fernando &  TRUE    &   100   \\\\\n",
       "\t Louis    &  TRUE    &  2000   \\\\\n",
       "\t Diane    & FALSE    &    NA   \\\\\n",
       "\\end{tabular}\n"
      ],
      "text/markdown": [
       "\n",
       "| CustomerID | hasAccount | totalBalance |\n",
       "|---|---|---|\n",
       "| Alicia   | FALSE    |    NA    |\n",
       "| Nancy    |  TRUE    | 10000    |\n",
       "| Fernando |  TRUE    |   100    |\n",
       "| Louis    |  TRUE    |  2000    |\n",
       "| Diane    | FALSE    |    NA    |\n",
       "\n"
      ],
      "text/plain": [
       "  CustomerID hasAccount totalBalance\n",
       "1 Alicia     FALSE         NA       \n",
       "2 Nancy       TRUE      10000       \n",
       "3 Fernando    TRUE        100       \n",
       "4 Louis       TRUE       2000       \n",
       "5 Diane      FALSE         NA       "
      ]
     },
     "metadata": {},
     "output_type": "display_data"
    }
   ],
   "source": [
    "CustomerID <- c(\"Alicia\",\"Nancy\",\"Fernando\",\"Louis\",\"Diane\")\n",
    "hasAccount <- c(F,T,T,T,F)\n",
    "totalBalance <- c(NA,10000,100,2000,NA)\n",
    "customerdata <- data.frame(CustomerID,hasAccount,totalBalance)\n",
    "customerdata\n",
    "\n"
   ]
  },
  {
   "cell_type": "code",
   "execution_count": 73,
   "metadata": {},
   "outputs": [
    {
     "data": {
      "text/html": [
       "<table>\n",
       "<thead><tr><th scope=col>CustomerID</th><th scope=col>hasAccount</th><th scope=col>totalBalance</th></tr></thead>\n",
       "<tbody>\n",
       "\t<tr><td>FALSE</td><td>FALSE</td><td> TRUE</td></tr>\n",
       "\t<tr><td>FALSE</td><td>FALSE</td><td>FALSE</td></tr>\n",
       "\t<tr><td>FALSE</td><td>FALSE</td><td>FALSE</td></tr>\n",
       "\t<tr><td>FALSE</td><td>FALSE</td><td>FALSE</td></tr>\n",
       "\t<tr><td>FALSE</td><td>FALSE</td><td> TRUE</td></tr>\n",
       "</tbody>\n",
       "</table>\n"
      ],
      "text/latex": [
       "\\begin{tabular}{lll}\n",
       " CustomerID & hasAccount & totalBalance\\\\\n",
       "\\hline\n",
       "\t FALSE & FALSE &  TRUE\\\\\n",
       "\t FALSE & FALSE & FALSE\\\\\n",
       "\t FALSE & FALSE & FALSE\\\\\n",
       "\t FALSE & FALSE & FALSE\\\\\n",
       "\t FALSE & FALSE &  TRUE\\\\\n",
       "\\end{tabular}\n"
      ],
      "text/markdown": [
       "\n",
       "| CustomerID | hasAccount | totalBalance |\n",
       "|---|---|---|\n",
       "| FALSE | FALSE |  TRUE |\n",
       "| FALSE | FALSE | FALSE |\n",
       "| FALSE | FALSE | FALSE |\n",
       "| FALSE | FALSE | FALSE |\n",
       "| FALSE | FALSE |  TRUE |\n",
       "\n"
      ],
      "text/plain": [
       "     CustomerID hasAccount totalBalance\n",
       "[1,] FALSE      FALSE       TRUE       \n",
       "[2,] FALSE      FALSE      FALSE       \n",
       "[3,] FALSE      FALSE      FALSE       \n",
       "[4,] FALSE      FALSE      FALSE       \n",
       "[5,] FALSE      FALSE       TRUE       "
      ]
     },
     "metadata": {},
     "output_type": "display_data"
    }
   ],
   "source": [
    "is.na(customerdata)"
   ]
  },
  {
   "cell_type": "code",
   "execution_count": 74,
   "metadata": {},
   "outputs": [
    {
     "data": {
      "text/html": [
       "5"
      ],
      "text/latex": [
       "5"
      ],
      "text/markdown": [
       "5"
      ],
      "text/plain": [
       "[1] 5"
      ]
     },
     "metadata": {},
     "output_type": "display_data"
    }
   ],
   "source": [
    "nrow(customerdata)"
   ]
  },
  {
   "cell_type": "code",
   "execution_count": 75,
   "metadata": {},
   "outputs": [
    {
     "data": {
      "text/html": [
       "3"
      ],
      "text/latex": [
       "3"
      ],
      "text/markdown": [
       "3"
      ],
      "text/plain": [
       "[1] 3"
      ]
     },
     "metadata": {},
     "output_type": "display_data"
    }
   ],
   "source": [
    "ncol(customerdata)"
   ]
  },
  {
   "cell_type": "code",
   "execution_count": 76,
   "metadata": {},
   "outputs": [
    {
     "data": {
      "text/html": [
       "<ol class=list-inline>\n",
       "\t<li>'CustomerID'</li>\n",
       "\t<li>'hasAccount'</li>\n",
       "\t<li>'totalBalance'</li>\n",
       "</ol>\n"
      ],
      "text/latex": [
       "\\begin{enumerate*}\n",
       "\\item 'CustomerID'\n",
       "\\item 'hasAccount'\n",
       "\\item 'totalBalance'\n",
       "\\end{enumerate*}\n"
      ],
      "text/markdown": [
       "1. 'CustomerID'\n",
       "2. 'hasAccount'\n",
       "3. 'totalBalance'\n",
       "\n",
       "\n"
      ],
      "text/plain": [
       "[1] \"CustomerID\"   \"hasAccount\"   \"totalBalance\""
      ]
     },
     "metadata": {},
     "output_type": "display_data"
    }
   ],
   "source": [
    "names(customerdata)"
   ]
  },
  {
   "cell_type": "code",
   "execution_count": null,
   "metadata": {},
   "outputs": [],
   "source": [
    "#### End solution ####"
   ]
  },
  {
   "cell_type": "markdown",
   "metadata": {},
   "source": [
    "### Good Job! You have successfully completed the section!"
   ]
  },
  {
   "cell_type": "markdown",
   "metadata": {},
   "source": [
    "## Section 2: Control Structures "
   ]
  },
  {
   "cell_type": "markdown",
   "metadata": {},
   "source": [
    "### Question 1\n",
    "**Create a variable containing a sequence of numbers from 1 to 100:**\n",
    "1. Iterate over the variables and print those numbers which are prime.\n",
    "\n",
    "**Create a variable var with a value of 1:**\n",
    "1. Create a while loop and increase the value of var at each iteration. \n",
    "2. When you reach the 10th prime number, terminate the loop and print the number."
   ]
  },
  {
   "cell_type": "code",
   "execution_count": null,
   "metadata": {},
   "outputs": [],
   "source": [
    "#### Start solution ####"
   ]
  },
  {
   "cell_type": "code",
   "execution_count": 78,
   "metadata": {},
   "outputs": [
    {
     "data": {
      "text/html": [
       "<ol class=list-inline>\n",
       "\t<li>1</li>\n",
       "\t<li>2</li>\n",
       "\t<li>3</li>\n",
       "\t<li>4</li>\n",
       "\t<li>5</li>\n",
       "\t<li>6</li>\n",
       "\t<li>7</li>\n",
       "\t<li>8</li>\n",
       "\t<li>9</li>\n",
       "\t<li>10</li>\n",
       "\t<li>11</li>\n",
       "\t<li>12</li>\n",
       "\t<li>13</li>\n",
       "\t<li>14</li>\n",
       "\t<li>15</li>\n",
       "\t<li>16</li>\n",
       "\t<li>17</li>\n",
       "\t<li>18</li>\n",
       "\t<li>19</li>\n",
       "\t<li>20</li>\n",
       "\t<li>21</li>\n",
       "\t<li>22</li>\n",
       "\t<li>23</li>\n",
       "\t<li>24</li>\n",
       "\t<li>25</li>\n",
       "\t<li>26</li>\n",
       "\t<li>27</li>\n",
       "\t<li>28</li>\n",
       "\t<li>29</li>\n",
       "\t<li>30</li>\n",
       "\t<li>31</li>\n",
       "\t<li>32</li>\n",
       "\t<li>33</li>\n",
       "\t<li>34</li>\n",
       "\t<li>35</li>\n",
       "\t<li>36</li>\n",
       "\t<li>37</li>\n",
       "\t<li>38</li>\n",
       "\t<li>39</li>\n",
       "\t<li>40</li>\n",
       "\t<li>41</li>\n",
       "\t<li>42</li>\n",
       "\t<li>43</li>\n",
       "\t<li>44</li>\n",
       "\t<li>45</li>\n",
       "\t<li>46</li>\n",
       "\t<li>47</li>\n",
       "\t<li>48</li>\n",
       "\t<li>49</li>\n",
       "\t<li>50</li>\n",
       "\t<li>51</li>\n",
       "\t<li>52</li>\n",
       "\t<li>53</li>\n",
       "\t<li>54</li>\n",
       "\t<li>55</li>\n",
       "\t<li>56</li>\n",
       "\t<li>57</li>\n",
       "\t<li>58</li>\n",
       "\t<li>59</li>\n",
       "\t<li>60</li>\n",
       "\t<li>61</li>\n",
       "\t<li>62</li>\n",
       "\t<li>63</li>\n",
       "\t<li>64</li>\n",
       "\t<li>65</li>\n",
       "\t<li>66</li>\n",
       "\t<li>67</li>\n",
       "\t<li>68</li>\n",
       "\t<li>69</li>\n",
       "\t<li>70</li>\n",
       "\t<li>71</li>\n",
       "\t<li>72</li>\n",
       "\t<li>73</li>\n",
       "\t<li>74</li>\n",
       "\t<li>75</li>\n",
       "\t<li>76</li>\n",
       "\t<li>77</li>\n",
       "\t<li>78</li>\n",
       "\t<li>79</li>\n",
       "\t<li>80</li>\n",
       "\t<li>81</li>\n",
       "\t<li>82</li>\n",
       "\t<li>83</li>\n",
       "\t<li>84</li>\n",
       "\t<li>85</li>\n",
       "\t<li>86</li>\n",
       "\t<li>87</li>\n",
       "\t<li>88</li>\n",
       "\t<li>89</li>\n",
       "\t<li>90</li>\n",
       "\t<li>91</li>\n",
       "\t<li>92</li>\n",
       "\t<li>93</li>\n",
       "\t<li>94</li>\n",
       "\t<li>95</li>\n",
       "\t<li>96</li>\n",
       "\t<li>97</li>\n",
       "\t<li>98</li>\n",
       "\t<li>99</li>\n",
       "\t<li>100</li>\n",
       "</ol>\n"
      ],
      "text/latex": [
       "\\begin{enumerate*}\n",
       "\\item 1\n",
       "\\item 2\n",
       "\\item 3\n",
       "\\item 4\n",
       "\\item 5\n",
       "\\item 6\n",
       "\\item 7\n",
       "\\item 8\n",
       "\\item 9\n",
       "\\item 10\n",
       "\\item 11\n",
       "\\item 12\n",
       "\\item 13\n",
       "\\item 14\n",
       "\\item 15\n",
       "\\item 16\n",
       "\\item 17\n",
       "\\item 18\n",
       "\\item 19\n",
       "\\item 20\n",
       "\\item 21\n",
       "\\item 22\n",
       "\\item 23\n",
       "\\item 24\n",
       "\\item 25\n",
       "\\item 26\n",
       "\\item 27\n",
       "\\item 28\n",
       "\\item 29\n",
       "\\item 30\n",
       "\\item 31\n",
       "\\item 32\n",
       "\\item 33\n",
       "\\item 34\n",
       "\\item 35\n",
       "\\item 36\n",
       "\\item 37\n",
       "\\item 38\n",
       "\\item 39\n",
       "\\item 40\n",
       "\\item 41\n",
       "\\item 42\n",
       "\\item 43\n",
       "\\item 44\n",
       "\\item 45\n",
       "\\item 46\n",
       "\\item 47\n",
       "\\item 48\n",
       "\\item 49\n",
       "\\item 50\n",
       "\\item 51\n",
       "\\item 52\n",
       "\\item 53\n",
       "\\item 54\n",
       "\\item 55\n",
       "\\item 56\n",
       "\\item 57\n",
       "\\item 58\n",
       "\\item 59\n",
       "\\item 60\n",
       "\\item 61\n",
       "\\item 62\n",
       "\\item 63\n",
       "\\item 64\n",
       "\\item 65\n",
       "\\item 66\n",
       "\\item 67\n",
       "\\item 68\n",
       "\\item 69\n",
       "\\item 70\n",
       "\\item 71\n",
       "\\item 72\n",
       "\\item 73\n",
       "\\item 74\n",
       "\\item 75\n",
       "\\item 76\n",
       "\\item 77\n",
       "\\item 78\n",
       "\\item 79\n",
       "\\item 80\n",
       "\\item 81\n",
       "\\item 82\n",
       "\\item 83\n",
       "\\item 84\n",
       "\\item 85\n",
       "\\item 86\n",
       "\\item 87\n",
       "\\item 88\n",
       "\\item 89\n",
       "\\item 90\n",
       "\\item 91\n",
       "\\item 92\n",
       "\\item 93\n",
       "\\item 94\n",
       "\\item 95\n",
       "\\item 96\n",
       "\\item 97\n",
       "\\item 98\n",
       "\\item 99\n",
       "\\item 100\n",
       "\\end{enumerate*}\n"
      ],
      "text/markdown": [
       "1. 1\n",
       "2. 2\n",
       "3. 3\n",
       "4. 4\n",
       "5. 5\n",
       "6. 6\n",
       "7. 7\n",
       "8. 8\n",
       "9. 9\n",
       "10. 10\n",
       "11. 11\n",
       "12. 12\n",
       "13. 13\n",
       "14. 14\n",
       "15. 15\n",
       "16. 16\n",
       "17. 17\n",
       "18. 18\n",
       "19. 19\n",
       "20. 20\n",
       "21. 21\n",
       "22. 22\n",
       "23. 23\n",
       "24. 24\n",
       "25. 25\n",
       "26. 26\n",
       "27. 27\n",
       "28. 28\n",
       "29. 29\n",
       "30. 30\n",
       "31. 31\n",
       "32. 32\n",
       "33. 33\n",
       "34. 34\n",
       "35. 35\n",
       "36. 36\n",
       "37. 37\n",
       "38. 38\n",
       "39. 39\n",
       "40. 40\n",
       "41. 41\n",
       "42. 42\n",
       "43. 43\n",
       "44. 44\n",
       "45. 45\n",
       "46. 46\n",
       "47. 47\n",
       "48. 48\n",
       "49. 49\n",
       "50. 50\n",
       "51. 51\n",
       "52. 52\n",
       "53. 53\n",
       "54. 54\n",
       "55. 55\n",
       "56. 56\n",
       "57. 57\n",
       "58. 58\n",
       "59. 59\n",
       "60. 60\n",
       "61. 61\n",
       "62. 62\n",
       "63. 63\n",
       "64. 64\n",
       "65. 65\n",
       "66. 66\n",
       "67. 67\n",
       "68. 68\n",
       "69. 69\n",
       "70. 70\n",
       "71. 71\n",
       "72. 72\n",
       "73. 73\n",
       "74. 74\n",
       "75. 75\n",
       "76. 76\n",
       "77. 77\n",
       "78. 78\n",
       "79. 79\n",
       "80. 80\n",
       "81. 81\n",
       "82. 82\n",
       "83. 83\n",
       "84. 84\n",
       "85. 85\n",
       "86. 86\n",
       "87. 87\n",
       "88. 88\n",
       "89. 89\n",
       "90. 90\n",
       "91. 91\n",
       "92. 92\n",
       "93. 93\n",
       "94. 94\n",
       "95. 95\n",
       "96. 96\n",
       "97. 97\n",
       "98. 98\n",
       "99. 99\n",
       "100. 100\n",
       "\n",
       "\n"
      ],
      "text/plain": [
       "  [1]   1   2   3   4   5   6   7   8   9  10  11  12  13  14  15  16  17  18\n",
       " [19]  19  20  21  22  23  24  25  26  27  28  29  30  31  32  33  34  35  36\n",
       " [37]  37  38  39  40  41  42  43  44  45  46  47  48  49  50  51  52  53  54\n",
       " [55]  55  56  57  58  59  60  61  62  63  64  65  66  67  68  69  70  71  72\n",
       " [73]  73  74  75  76  77  78  79  80  81  82  83  84  85  86  87  88  89  90\n",
       " [91]  91  92  93  94  95  96  97  98  99 100"
      ]
     },
     "metadata": {},
     "output_type": "display_data"
    }
   ],
   "source": [
    "num_seq <- c(1:100)\n",
    "num_seq\n"
   ]
  },
  {
   "cell_type": "code",
   "execution_count": 98,
   "metadata": {},
   "outputs": [
    {
     "name": "stdout",
     "output_type": "stream",
     "text": [
      "[1] 1\n",
      "[1] 3\n",
      "[1] 7\n",
      "[1] 9\n",
      "[1] 11\n",
      "[1] 13\n",
      "[1] 17\n",
      "[1] 19\n",
      "[1] 21\n",
      "[1] 23\n",
      "[1] 27\n",
      "[1] 29\n",
      "[1] 31\n",
      "[1] 33\n",
      "[1] 37\n",
      "[1] 39\n",
      "[1] 41\n",
      "[1] 43\n",
      "[1] 47\n",
      "[1] 49\n",
      "[1] 51\n",
      "[1] 53\n",
      "[1] 57\n",
      "[1] 59\n",
      "[1] 61\n",
      "[1] 63\n",
      "[1] 67\n",
      "[1] 69\n",
      "[1] 71\n",
      "[1] 73\n",
      "[1] 77\n",
      "[1] 79\n",
      "[1] 81\n",
      "[1] 83\n",
      "[1] 87\n",
      "[1] 89\n",
      "[1] 91\n",
      "[1] 93\n",
      "[1] 97\n",
      "[1] 99\n"
     ]
    }
   ],
   "source": [
    "for (i in num_seq){\n",
    "    number <- num_seq[i]\n",
    "    if(number%%2 > 0 &&  number%%5 >0){\n",
    "        print(num_seq[i])\n",
    "    }\n",
    "    \n",
    "}"
   ]
  },
  {
   "cell_type": "code",
   "execution_count": null,
   "metadata": {},
   "outputs": [],
   "source": [
    "z <- 1\n",
    "while()"
   ]
  },
  {
   "cell_type": "code",
   "execution_count": null,
   "metadata": {},
   "outputs": [],
   "source": []
  },
  {
   "cell_type": "code",
   "execution_count": null,
   "metadata": {},
   "outputs": [],
   "source": []
  },
  {
   "cell_type": "code",
   "execution_count": null,
   "metadata": {},
   "outputs": [],
   "source": [
    "#### End solution ####"
   ]
  },
  {
   "cell_type": "markdown",
   "metadata": {},
   "source": [
    "### Question 2\n",
    "**Create a matrix of size 3x3 called mat_1:**\n",
    "1. Iterate over all the values one by one and print the element as well as the position in the matrix (row, col)"
   ]
  },
  {
   "cell_type": "code",
   "execution_count": null,
   "metadata": {},
   "outputs": [],
   "source": [
    "#### Start solution ####"
   ]
  },
  {
   "cell_type": "code",
   "execution_count": 100,
   "metadata": {},
   "outputs": [
    {
     "data": {
      "text/html": [
       "<table>\n",
       "<tbody>\n",
       "\t<tr><td>1</td><td>4</td><td>7</td></tr>\n",
       "\t<tr><td>2</td><td>5</td><td>8</td></tr>\n",
       "\t<tr><td>3</td><td>6</td><td>9</td></tr>\n",
       "</tbody>\n",
       "</table>\n"
      ],
      "text/latex": [
       "\\begin{tabular}{lll}\n",
       "\t 1 & 4 & 7\\\\\n",
       "\t 2 & 5 & 8\\\\\n",
       "\t 3 & 6 & 9\\\\\n",
       "\\end{tabular}\n"
      ],
      "text/markdown": [
       "\n",
       "| 1 | 4 | 7 |\n",
       "| 2 | 5 | 8 |\n",
       "| 3 | 6 | 9 |\n",
       "\n"
      ],
      "text/plain": [
       "     [,1] [,2] [,3]\n",
       "[1,] 1    4    7   \n",
       "[2,] 2    5    8   \n",
       "[3,] 3    6    9   "
      ]
     },
     "metadata": {},
     "output_type": "display_data"
    },
    {
     "name": "stdout",
     "output_type": "stream",
     "text": [
      "[1] \"position at  1x1 = 1\"\n",
      "[1] \"position at  1x2 = 4\"\n",
      "[1] \"position at  1x3 = 7\"\n",
      "[1] \"position at  2x1 = 2\"\n",
      "[1] \"position at  2x2 = 5\"\n",
      "[1] \"position at  2x3 = 8\"\n",
      "[1] \"position at  3x1 = 3\"\n",
      "[1] \"position at  3x2 = 6\"\n",
      "[1] \"position at  3x3 = 9\"\n"
     ]
    }
   ],
   "source": [
    "mat_1 = matrix(data = 1:9, nrow=3, ncol=3)\n",
    "mat_1\n",
    "for (row in 1:3){\n",
    "  for (col in 1:3){\n",
    "    print(paste0(\"position at  \", row, \"x\", col, \" = \", mat_1[row, col]))\n",
    "  }\n",
    "}"
   ]
  },
  {
   "cell_type": "code",
   "execution_count": null,
   "metadata": {},
   "outputs": [],
   "source": []
  },
  {
   "cell_type": "code",
   "execution_count": null,
   "metadata": {},
   "outputs": [],
   "source": []
  },
  {
   "cell_type": "code",
   "execution_count": null,
   "metadata": {},
   "outputs": [],
   "source": []
  },
  {
   "cell_type": "code",
   "execution_count": null,
   "metadata": {},
   "outputs": [],
   "source": []
  },
  {
   "cell_type": "code",
   "execution_count": null,
   "metadata": {},
   "outputs": [],
   "source": [
    "#### End solution ####"
   ]
  },
  {
   "cell_type": "markdown",
   "metadata": {},
   "source": [
    "### Good Job! You have successfully completed the section!"
   ]
  },
  {
   "cell_type": "markdown",
   "metadata": {},
   "source": [
    "## Section 3: Functions"
   ]
  },
  {
   "cell_type": "markdown",
   "metadata": {},
   "source": [
    "### Question 1\n",
    "**Create a function called gcd that finds the greatest common divisor of two numbers a and b:**\n",
    "1. a and b, should be taken as input.\n",
    "2. The function must print the GCD as well as return it.\n",
    "3. The output must be saved in a variable called answer."
   ]
  },
  {
   "cell_type": "code",
   "execution_count": null,
   "metadata": {},
   "outputs": [],
   "source": [
    "#### Start solution ####"
   ]
  },
  {
   "cell_type": "code",
   "execution_count": 106,
   "metadata": {},
   "outputs": [
    {
     "data": {
      "text/html": [
       "3"
      ],
      "text/latex": [
       "3"
      ],
      "text/markdown": [
       "3"
      ],
      "text/plain": [
       "[1] 3"
      ]
     },
     "metadata": {},
     "output_type": "display_data"
    }
   ],
   "source": [
    "gcd <- function(a,b) {\n",
    "  \n",
    "  if( a > b ){\n",
    "    max_num = a\n",
    "    } else {\n",
    "      max_num = b\n",
    "    }\n",
    "    for (i in 1:max_num) {\n",
    "      if ((a %% i == 0) && (b %% i == 0)) {\n",
    "        ret = i\n",
    "      }\n",
    "    }\n",
    "    return(ret)\n",
    "}\n",
    "\n",
    "\n",
    "answer <- gcd(150, 27)\n",
    "answer"
   ]
  },
  {
   "cell_type": "code",
   "execution_count": null,
   "metadata": {},
   "outputs": [],
   "source": []
  },
  {
   "cell_type": "code",
   "execution_count": null,
   "metadata": {},
   "outputs": [],
   "source": []
  },
  {
   "cell_type": "code",
   "execution_count": null,
   "metadata": {},
   "outputs": [],
   "source": []
  },
  {
   "cell_type": "code",
   "execution_count": null,
   "metadata": {},
   "outputs": [],
   "source": []
  },
  {
   "cell_type": "code",
   "execution_count": null,
   "metadata": {},
   "outputs": [],
   "source": [
    "#### End solution ####"
   ]
  },
  {
   "cell_type": "markdown",
   "metadata": {},
   "source": [
    "### Question 2\n",
    "**Create a function called allConditionsMeet, that checks whether two expressions evaluate to true:**\n",
    "1. a and b, should be taken as input.\n",
    "2. the function should check if a and b, both conditions, evaluate to True.\n",
    "3. The function must returns a boolean value.\n",
    "4. Using a method, print the arguments that function takes."
   ]
  },
  {
   "cell_type": "code",
   "execution_count": null,
   "metadata": {},
   "outputs": [],
   "source": [
    "#### Start solution ####"
   ]
  },
  {
   "cell_type": "code",
   "execution_count": 110,
   "metadata": {},
   "outputs": [
    {
     "data": {
      "text/html": [
       "FALSE"
      ],
      "text/latex": [
       "FALSE"
      ],
      "text/markdown": [
       "FALSE"
      ],
      "text/plain": [
       "[1] FALSE"
      ]
     },
     "metadata": {},
     "output_type": "display_data"
    }
   ],
   "source": [
    "allConditionsMeet <- function(a,b){\n",
    "    if(a==b){\n",
    "        return(TRUE)\n",
    "    }else{\n",
    "        return(FALSE)\n",
    "    }\n",
    "}\n",
    "allConditionsMeet(5,6)"
   ]
  },
  {
   "cell_type": "code",
   "execution_count": 111,
   "metadata": {},
   "outputs": [
    {
     "name": "stdout",
     "output_type": "stream",
     "text": [
      "function (a, b) \n",
      "NULL\n"
     ]
    }
   ],
   "source": [
    "print(args(allConditionsMeet))"
   ]
  },
  {
   "cell_type": "code",
   "execution_count": null,
   "metadata": {},
   "outputs": [],
   "source": []
  },
  {
   "cell_type": "code",
   "execution_count": null,
   "metadata": {},
   "outputs": [],
   "source": []
  },
  {
   "cell_type": "code",
   "execution_count": null,
   "metadata": {},
   "outputs": [],
   "source": []
  },
  {
   "cell_type": "code",
   "execution_count": null,
   "metadata": {},
   "outputs": [],
   "source": [
    "#### End solution ####"
   ]
  },
  {
   "cell_type": "markdown",
   "metadata": {},
   "source": [
    "### Good Job! You have successfully completed the section!"
   ]
  },
  {
   "cell_type": "markdown",
   "metadata": {},
   "source": [
    "## Section 4: Vectorized Operations"
   ]
  },
  {
   "cell_type": "markdown",
   "metadata": {},
   "source": [
    "### Question 1\n",
    "**Create two matrices matrix_1 and matrix_2 of dimensions 2x3 and 3x2:**\n",
    "1. Perform element-wise multiplication.\n",
    "2. Perform matrix multipilcation. \n",
    "\n",
    "**Create a 2x2 matrix my_mat:**\n",
    "1. Write a function to find the determinant of the matrix."
   ]
  },
  {
   "cell_type": "code",
   "execution_count": null,
   "metadata": {},
   "outputs": [],
   "source": [
    "#### Start solution ####"
   ]
  },
  {
   "cell_type": "code",
   "execution_count": 126,
   "metadata": {},
   "outputs": [
    {
     "data": {
      "text/html": [
       "<table>\n",
       "<tbody>\n",
       "\t<tr><td>2</td><td>4</td><td>6</td></tr>\n",
       "\t<tr><td>3</td><td>5</td><td>7</td></tr>\n",
       "</tbody>\n",
       "</table>\n"
      ],
      "text/latex": [
       "\\begin{tabular}{lll}\n",
       "\t 2 & 4 & 6\\\\\n",
       "\t 3 & 5 & 7\\\\\n",
       "\\end{tabular}\n"
      ],
      "text/markdown": [
       "\n",
       "| 2 | 4 | 6 |\n",
       "| 3 | 5 | 7 |\n",
       "\n"
      ],
      "text/plain": [
       "     [,1] [,2] [,3]\n",
       "[1,] 2    4    6   \n",
       "[2,] 3    5    7   "
      ]
     },
     "metadata": {},
     "output_type": "display_data"
    },
    {
     "data": {
      "text/html": [
       "<table>\n",
       "<tbody>\n",
       "\t<tr><td> 8</td><td>11</td></tr>\n",
       "\t<tr><td> 9</td><td>12</td></tr>\n",
       "\t<tr><td>10</td><td>13</td></tr>\n",
       "</tbody>\n",
       "</table>\n"
      ],
      "text/latex": [
       "\\begin{tabular}{ll}\n",
       "\t  8 & 11\\\\\n",
       "\t  9 & 12\\\\\n",
       "\t 10 & 13\\\\\n",
       "\\end{tabular}\n"
      ],
      "text/markdown": [
       "\n",
       "|  8 | 11 |\n",
       "|  9 | 12 |\n",
       "| 10 | 13 |\n",
       "\n"
      ],
      "text/plain": [
       "     [,1] [,2]\n",
       "[1,]  8   11  \n",
       "[2,]  9   12  \n",
       "[3,] 10   13  "
      ]
     },
     "metadata": {},
     "output_type": "display_data"
    }
   ],
   "source": [
    "matrix_1 <- matrix(2:7,2,3)\n",
    "matrix_2 <- matrix(8:13,3,2)\n",
    "matrix_1\n",
    "matrix_2\n"
   ]
  },
  {
   "cell_type": "code",
   "execution_count": 127,
   "metadata": {},
   "outputs": [
    {
     "name": "stdout",
     "output_type": "stream",
     "text": [
      "     [,1] [,2] [,3]\n",
      "[1,]   16   36   60\n",
      "[2,]   33   60   91\n"
     ]
    }
   ],
   "source": [
    "print(matrix_1*t(matrix_2))"
   ]
  },
  {
   "cell_type": "code",
   "execution_count": 128,
   "metadata": {},
   "outputs": [
    {
     "name": "stdout",
     "output_type": "stream",
     "text": [
      "     [,1] [,2]\n",
      "[1,]  112  148\n",
      "[2,]  139  184\n"
     ]
    }
   ],
   "source": [
    "print(matrix_1 %*% matrix_2)"
   ]
  },
  {
   "cell_type": "code",
   "execution_count": 130,
   "metadata": {},
   "outputs": [
    {
     "data": {
      "text/html": [
       "<table>\n",
       "<tbody>\n",
       "\t<tr><td>6</td><td>8</td></tr>\n",
       "\t<tr><td>7</td><td>9</td></tr>\n",
       "</tbody>\n",
       "</table>\n"
      ],
      "text/latex": [
       "\\begin{tabular}{ll}\n",
       "\t 6 & 8\\\\\n",
       "\t 7 & 9\\\\\n",
       "\\end{tabular}\n"
      ],
      "text/markdown": [
       "\n",
       "| 6 | 8 |\n",
       "| 7 | 9 |\n",
       "\n"
      ],
      "text/plain": [
       "     [,1] [,2]\n",
       "[1,] 6    8   \n",
       "[2,] 7    9   "
      ]
     },
     "metadata": {},
     "output_type": "display_data"
    },
    {
     "name": "stdout",
     "output_type": "stream",
     "text": [
      "[1] -2\n"
     ]
    }
   ],
   "source": [
    "my_mat = matrix(6:9, 2, 2)\n",
    "my_mat\n",
    "print(det(my_mat))"
   ]
  },
  {
   "cell_type": "code",
   "execution_count": null,
   "metadata": {},
   "outputs": [],
   "source": []
  },
  {
   "cell_type": "code",
   "execution_count": null,
   "metadata": {},
   "outputs": [],
   "source": [
    "#### End solution ####"
   ]
  },
  {
   "cell_type": "markdown",
   "metadata": {},
   "source": [
    "### Good Job! You have successfully completed the section!"
   ]
  },
  {
   "cell_type": "markdown",
   "metadata": {},
   "source": [
    "## Section 5: Date and Time in R"
   ]
  },
  {
   "cell_type": "markdown",
   "metadata": {},
   "source": [
    "### Question 1\n",
    "**Use the current date and time and store them into variables curr_date and curr_time respectively: [use sys]**\n",
    "1. Convert both into date and time objects using the appropriate functions.\n",
    "2. Print the weekday, year, second and hour using the appropriate function and variables."
   ]
  },
  {
   "cell_type": "code",
   "execution_count": null,
   "metadata": {},
   "outputs": [],
   "source": [
    "#### Start solution ####"
   ]
  },
  {
   "cell_type": "code",
   "execution_count": 131,
   "metadata": {},
   "outputs": [
    {
     "data": {
      "text/html": [
       "<time datetime=\"2022-03-03\">2022-03-03</time>"
      ],
      "text/latex": [
       "2022-03-03"
      ],
      "text/markdown": [
       "2022-03-03"
      ],
      "text/plain": [
       "[1] \"2022-03-03\""
      ]
     },
     "metadata": {},
     "output_type": "display_data"
    },
    {
     "data": {
      "text/plain": [
       "[1] \"2022-03-03 13:20:08 PKT\""
      ]
     },
     "metadata": {},
     "output_type": "display_data"
    }
   ],
   "source": [
    "curr_date <- Sys.Date()\n",
    "curr_time <- Sys.time()\n",
    "curr_date\n",
    "curr_time"
   ]
  },
  {
   "cell_type": "code",
   "execution_count": 138,
   "metadata": {},
   "outputs": [
    {
     "data": {
      "text/html": [
       "'Date'"
      ],
      "text/latex": [
       "'Date'"
      ],
      "text/markdown": [
       "'Date'"
      ],
      "text/plain": [
       "[1] \"Date\""
      ]
     },
     "metadata": {},
     "output_type": "display_data"
    },
    {
     "data": {
      "text/html": [
       "<ol class=list-inline>\n",
       "\t<li>'POSIXct'</li>\n",
       "\t<li>'POSIXt'</li>\n",
       "</ol>\n"
      ],
      "text/latex": [
       "\\begin{enumerate*}\n",
       "\\item 'POSIXct'\n",
       "\\item 'POSIXt'\n",
       "\\end{enumerate*}\n"
      ],
      "text/markdown": [
       "1. 'POSIXct'\n",
       "2. 'POSIXt'\n",
       "\n",
       "\n"
      ],
      "text/plain": [
       "[1] \"POSIXct\" \"POSIXt\" "
      ]
     },
     "metadata": {},
     "output_type": "display_data"
    }
   ],
   "source": [
    "class(curr_date)\n",
    "class(curr_time)\n"
   ]
  },
  {
   "cell_type": "code",
   "execution_count": 140,
   "metadata": {},
   "outputs": [
    {
     "data": {
      "text/html": [
       "<ol class=list-inline>\n",
       "\t<li>'sec'</li>\n",
       "\t<li>'min'</li>\n",
       "\t<li>'hour'</li>\n",
       "\t<li>'mday'</li>\n",
       "\t<li>'mon'</li>\n",
       "\t<li>'year'</li>\n",
       "\t<li>'wday'</li>\n",
       "\t<li>'yday'</li>\n",
       "\t<li>'isdst'</li>\n",
       "\t<li>'zone'</li>\n",
       "\t<li>'gmtoff'</li>\n",
       "</ol>\n"
      ],
      "text/latex": [
       "\\begin{enumerate*}\n",
       "\\item 'sec'\n",
       "\\item 'min'\n",
       "\\item 'hour'\n",
       "\\item 'mday'\n",
       "\\item 'mon'\n",
       "\\item 'year'\n",
       "\\item 'wday'\n",
       "\\item 'yday'\n",
       "\\item 'isdst'\n",
       "\\item 'zone'\n",
       "\\item 'gmtoff'\n",
       "\\end{enumerate*}\n"
      ],
      "text/markdown": [
       "1. 'sec'\n",
       "2. 'min'\n",
       "3. 'hour'\n",
       "4. 'mday'\n",
       "5. 'mon'\n",
       "6. 'year'\n",
       "7. 'wday'\n",
       "8. 'yday'\n",
       "9. 'isdst'\n",
       "10. 'zone'\n",
       "11. 'gmtoff'\n",
       "\n",
       "\n"
      ],
      "text/plain": [
       " [1] \"sec\"    \"min\"    \"hour\"   \"mday\"   \"mon\"    \"year\"   \"wday\"   \"yday\"  \n",
       " [9] \"isdst\"  \"zone\"   \"gmtoff\""
      ]
     },
     "metadata": {},
     "output_type": "display_data"
    }
   ],
   "source": [
    "curr_date <- as.POSIXlt(curr_date)\n",
    "curr_time <- as.POSIXlt(curr_time)\n",
    "names(unclass(curr_time))"
   ]
  },
  {
   "cell_type": "code",
   "execution_count": 141,
   "metadata": {},
   "outputs": [
    {
     "data": {
      "text/html": [
       "4"
      ],
      "text/latex": [
       "4"
      ],
      "text/markdown": [
       "4"
      ],
      "text/plain": [
       "[1] 4"
      ]
     },
     "metadata": {},
     "output_type": "display_data"
    },
    {
     "data": {
      "text/html": [
       "122"
      ],
      "text/latex": [
       "122"
      ],
      "text/markdown": [
       "122"
      ],
      "text/plain": [
       "[1] 122"
      ]
     },
     "metadata": {},
     "output_type": "display_data"
    },
    {
     "data": {
      "text/html": [
       "8.58896899223328"
      ],
      "text/latex": [
       "8.58896899223328"
      ],
      "text/markdown": [
       "8.58896899223328"
      ],
      "text/plain": [
       "[1] 8.588969"
      ]
     },
     "metadata": {},
     "output_type": "display_data"
    },
    {
     "data": {
      "text/html": [
       "13"
      ],
      "text/latex": [
       "13"
      ],
      "text/markdown": [
       "13"
      ],
      "text/plain": [
       "[1] 13"
      ]
     },
     "metadata": {},
     "output_type": "display_data"
    }
   ],
   "source": [
    "curr_time$wday\n",
    "curr_time$year\n",
    "curr_time$sec\n",
    "curr_time$hour"
   ]
  },
  {
   "cell_type": "code",
   "execution_count": null,
   "metadata": {},
   "outputs": [],
   "source": []
  },
  {
   "cell_type": "code",
   "execution_count": null,
   "metadata": {},
   "outputs": [],
   "source": [
    "#### End solution ####"
   ]
  },
  {
   "cell_type": "markdown",
   "metadata": {},
   "source": [
    "### Question 2\n",
    "**Create a variable to store current date/time**\n",
    "1. Create another variable that stores and set the timezone as GMT-5\n",
    "2. Find the difference between your current time and the GMT-5 timezone."
   ]
  },
  {
   "cell_type": "code",
   "execution_count": null,
   "metadata": {},
   "outputs": [],
   "source": [
    "#### Start solution ####"
   ]
  },
  {
   "cell_type": "code",
   "execution_count": 142,
   "metadata": {},
   "outputs": [
    {
     "data": {
      "text/plain": [
       "[1] \"2022-03-03 13:26:16 PKT\""
      ]
     },
     "metadata": {},
     "output_type": "display_data"
    }
   ],
   "source": [
    "curr_time <- as.POSIXct(Sys.time())\n",
    "curr_time\n"
   ]
  },
  {
   "cell_type": "code",
   "execution_count": 143,
   "metadata": {},
   "outputs": [
    {
     "data": {
      "text/plain": [
       "[1] \"2021-12-01 05:36:29 GMT\""
      ]
     },
     "metadata": {},
     "output_type": "display_data"
    }
   ],
   "source": [
    "gmt_currtime <- as.POSIXct(\"2021-12-01 05:36:29\" ,tz = 'GMT')\n",
    "gmt_currtime"
   ]
  },
  {
   "cell_type": "code",
   "execution_count": 144,
   "metadata": {},
   "outputs": [
    {
     "data": {
      "text/plain": [
       "Time difference of 92.11792 days"
      ]
     },
     "metadata": {},
     "output_type": "display_data"
    }
   ],
   "source": [
    "curr_time - gmt_currtime"
   ]
  },
  {
   "cell_type": "code",
   "execution_count": null,
   "metadata": {},
   "outputs": [],
   "source": []
  },
  {
   "cell_type": "code",
   "execution_count": null,
   "metadata": {},
   "outputs": [],
   "source": []
  },
  {
   "cell_type": "code",
   "execution_count": null,
   "metadata": {},
   "outputs": [],
   "source": [
    "#### End solution ####"
   ]
  },
  {
   "cell_type": "markdown",
   "metadata": {},
   "source": [
    "### Good Job! You have successfully completed the section!"
   ]
  },
  {
   "cell_type": "markdown",
   "metadata": {},
   "source": [
    "## Section 6: Loop Functions"
   ]
  },
  {
   "cell_type": "markdown",
   "metadata": {},
   "source": [
    "### Question 1\n",
    "**Create a function to calculate mean and standard deviation of the provided data**\n",
    "1. Create a sequence of numbers from 100 to 150 store in a variable called numbers.\n",
    "1. Use lapply, sapply, apply and tapply to implement the functions on \"numbers\" [only on the second half of the sequence for tapply]"
   ]
  },
  {
   "cell_type": "code",
   "execution_count": null,
   "metadata": {},
   "outputs": [],
   "source": [
    "#### Start solution ####"
   ]
  },
  {
   "cell_type": "code",
   "execution_count": 146,
   "metadata": {},
   "outputs": [],
   "source": [
    "numbers <- list(100:150)\n"
   ]
  },
  {
   "cell_type": "code",
   "execution_count": 151,
   "metadata": {},
   "outputs": [
    {
     "data": {
      "text/html": [
       "<ol>\n",
       "\t<li>125</li>\n",
       "</ol>\n"
      ],
      "text/latex": [
       "\\begin{enumerate}\n",
       "\\item 125\n",
       "\\end{enumerate}\n"
      ],
      "text/markdown": [
       "1. 125\n",
       "\n",
       "\n"
      ],
      "text/plain": [
       "[[1]]\n",
       "[1] 125\n"
      ]
     },
     "metadata": {},
     "output_type": "display_data"
    },
    {
     "data": {
      "text/html": [
       "<ol>\n",
       "\t<li>14.8660687473185</li>\n",
       "</ol>\n"
      ],
      "text/latex": [
       "\\begin{enumerate}\n",
       "\\item 14.8660687473185\n",
       "\\end{enumerate}\n"
      ],
      "text/markdown": [
       "1. 14.8660687473185\n",
       "\n",
       "\n"
      ],
      "text/plain": [
       "[[1]]\n",
       "[1] 14.86607\n"
      ]
     },
     "metadata": {},
     "output_type": "display_data"
    }
   ],
   "source": [
    "lapply(numbers, mean)\n",
    "lapply(numbers, sd)"
   ]
  },
  {
   "cell_type": "code",
   "execution_count": 152,
   "metadata": {},
   "outputs": [
    {
     "data": {
      "text/html": [
       "125"
      ],
      "text/latex": [
       "125"
      ],
      "text/markdown": [
       "125"
      ],
      "text/plain": [
       "[1] 125"
      ]
     },
     "metadata": {},
     "output_type": "display_data"
    },
    {
     "data": {
      "text/html": [
       "14.8660687473185"
      ],
      "text/latex": [
       "14.8660687473185"
      ],
      "text/markdown": [
       "14.8660687473185"
      ],
      "text/plain": [
       "[1] 14.86607"
      ]
     },
     "metadata": {},
     "output_type": "display_data"
    }
   ],
   "source": [
    "sapply(numbers, mean)\n",
    "sapply(numbers, sd)"
   ]
  },
  {
   "cell_type": "code",
   "execution_count": 165,
   "metadata": {},
   "outputs": [
    {
     "data": {
      "text/html": [
       "<ol class=list-inline>\n",
       "\t<li>0.0765114777582355</li>\n",
       "\t<li>-0.338405675200501</li>\n",
       "\t<li>-0.34385501691361</li>\n",
       "\t<li>-0.230727406690708</li>\n",
       "\t<li>0.302256830066146</li>\n",
       "\t<li>-0.42160683488542</li>\n",
       "\t<li>-0.0960700003121433</li>\n",
       "\t<li>0.227384838132525</li>\n",
       "\t<li>0.0648650306011966</li>\n",
       "\t<li>-0.217651897520582</li>\n",
       "</ol>\n"
      ],
      "text/latex": [
       "\\begin{enumerate*}\n",
       "\\item 0.0765114777582355\n",
       "\\item -0.338405675200501\n",
       "\\item -0.34385501691361\n",
       "\\item -0.230727406690708\n",
       "\\item 0.302256830066146\n",
       "\\item -0.42160683488542\n",
       "\\item -0.0960700003121433\n",
       "\\item 0.227384838132525\n",
       "\\item 0.0648650306011966\n",
       "\\item -0.217651897520582\n",
       "\\end{enumerate*}\n"
      ],
      "text/markdown": [
       "1. 0.0765114777582355\n",
       "2. -0.338405675200501\n",
       "3. -0.34385501691361\n",
       "4. -0.230727406690708\n",
       "5. 0.302256830066146\n",
       "6. -0.42160683488542\n",
       "7. -0.0960700003121433\n",
       "8. 0.227384838132525\n",
       "9. 0.0648650306011966\n",
       "10. -0.217651897520582\n",
       "\n",
       "\n"
      ],
      "text/plain": [
       " [1]  0.07651148 -0.33840568 -0.34385502 -0.23072741  0.30225683 -0.42160683\n",
       " [7] -0.09607000  0.22738484  0.06486503 -0.21765190"
      ]
     },
     "metadata": {},
     "output_type": "display_data"
    },
    {
     "data": {
      "text/html": [
       "<ol class=list-inline>\n",
       "\t<li>1.12431713360905</li>\n",
       "\t<li>0.695428375520211</li>\n",
       "\t<li>1.02230331251882</li>\n",
       "\t<li>0.795830979958843</li>\n",
       "\t<li>0.80824058227725</li>\n",
       "\t<li>0.981224729113975</li>\n",
       "\t<li>0.868074987548463</li>\n",
       "\t<li>1.39897651770203</li>\n",
       "\t<li>0.807713044888345</li>\n",
       "\t<li>0.940712228139649</li>\n",
       "</ol>\n"
      ],
      "text/latex": [
       "\\begin{enumerate*}\n",
       "\\item 1.12431713360905\n",
       "\\item 0.695428375520211\n",
       "\\item 1.02230331251882\n",
       "\\item 0.795830979958843\n",
       "\\item 0.80824058227725\n",
       "\\item 0.981224729113975\n",
       "\\item 0.868074987548463\n",
       "\\item 1.39897651770203\n",
       "\\item 0.807713044888345\n",
       "\\item 0.940712228139649\n",
       "\\end{enumerate*}\n"
      ],
      "text/markdown": [
       "1. 1.12431713360905\n",
       "2. 0.695428375520211\n",
       "3. 1.02230331251882\n",
       "4. 0.795830979958843\n",
       "5. 0.80824058227725\n",
       "6. 0.981224729113975\n",
       "7. 0.868074987548463\n",
       "8. 1.39897651770203\n",
       "9. 0.807713044888345\n",
       "10. 0.940712228139649\n",
       "\n",
       "\n"
      ],
      "text/plain": [
       " [1] 1.1243171 0.6954284 1.0223033 0.7958310 0.8082406 0.9812247 0.8680750\n",
       " [8] 1.3989765 0.8077130 0.9407122"
      ]
     },
     "metadata": {},
     "output_type": "display_data"
    }
   ],
   "source": [
    "x <- matrix(rnorm(number),10,10)\n",
    "\n",
    "apply(x, 2, mean)\n",
    "apply(x, 2, sd)"
   ]
  },
  {
   "cell_type": "code",
   "execution_count": 174,
   "metadata": {},
   "outputs": [
    {
     "data": {
      "text/html": [
       "<dl class=dl-horizontal>\n",
       "\t<dt>1</dt>\n",
       "\t\t<dd>113</dd>\n",
       "\t<dt>2</dt>\n",
       "\t\t<dd>138</dd>\n",
       "</dl>\n"
      ],
      "text/latex": [
       "\\begin{description*}\n",
       "\\item[1] 113\n",
       "\\item[2] 138\n",
       "\\end{description*}\n"
      ],
      "text/markdown": [
       "1\n",
       ":   1132\n",
       ":   138\n",
       "\n"
      ],
      "text/plain": [
       "  1   2 \n",
       "113 138 "
      ]
     },
     "metadata": {},
     "output_type": "display_data"
    },
    {
     "data": {
      "text/html": [
       "<dl class=dl-horizontal>\n",
       "\t<dt>1</dt>\n",
       "\t\t<dd>7.35980072193987</dd>\n",
       "\t<dt>2</dt>\n",
       "\t\t<dd>7.35980072193987</dd>\n",
       "</dl>\n"
      ],
      "text/latex": [
       "\\begin{description*}\n",
       "\\item[1] 7.35980072193987\n",
       "\\item[2] 7.35980072193987\n",
       "\\end{description*}\n"
      ],
      "text/markdown": [
       "1\n",
       ":   7.359800721939872\n",
       ":   7.35980072193987\n",
       "\n"
      ],
      "text/plain": [
       "       1        2 \n",
       "7.359801 7.359801 "
      ]
     },
     "metadata": {},
     "output_type": "display_data"
    }
   ],
   "source": [
    "numbers  <- c(101:150)\n",
    "\n",
    "half <- gl(2,length(numbers)/2)\n",
    "\n",
    "\n",
    "tapply(numbers, half, mean)\n",
    "tapply(numbers, half, sd)"
   ]
  },
  {
   "cell_type": "code",
   "execution_count": null,
   "metadata": {},
   "outputs": [],
   "source": [
    "#### End solution ####"
   ]
  },
  {
   "cell_type": "markdown",
   "metadata": {},
   "source": [
    "### Question 2\n",
    "**Create a matrix of dimensions 4x4**\n",
    "1. Find the row-wise and column-wise mean of the matrix.\n",
    "2. Print the values."
   ]
  },
  {
   "cell_type": "code",
   "execution_count": null,
   "metadata": {},
   "outputs": [],
   "source": [
    "#### Start solution ####"
   ]
  },
  {
   "cell_type": "code",
   "execution_count": 179,
   "metadata": {},
   "outputs": [
    {
     "data": {
      "text/html": [
       "<table>\n",
       "<tbody>\n",
       "\t<tr><td>-1.1891402</td><td>-0.5621150</td><td> 0.8165698</td><td> 0.8876525</td></tr>\n",
       "\t<tr><td> 0.1641317</td><td>-1.5955532</td><td>-0.6190930</td><td>-1.9457432</td></tr>\n",
       "\t<tr><td>-2.3899499</td><td> 0.3545693</td><td>-1.1083007</td><td> 0.3459636</td></tr>\n",
       "\t<tr><td> 0.1459202</td><td> 0.7123108</td><td>-0.9472979</td><td> 0.6391232</td></tr>\n",
       "</tbody>\n",
       "</table>\n"
      ],
      "text/latex": [
       "\\begin{tabular}{llll}\n",
       "\t -1.1891402 & -0.5621150 &  0.8165698 &  0.8876525\\\\\n",
       "\t  0.1641317 & -1.5955532 & -0.6190930 & -1.9457432\\\\\n",
       "\t -2.3899499 &  0.3545693 & -1.1083007 &  0.3459636\\\\\n",
       "\t  0.1459202 &  0.7123108 & -0.9472979 &  0.6391232\\\\\n",
       "\\end{tabular}\n"
      ],
      "text/markdown": [
       "\n",
       "| -1.1891402 | -0.5621150 |  0.8165698 |  0.8876525 |\n",
       "|  0.1641317 | -1.5955532 | -0.6190930 | -1.9457432 |\n",
       "| -2.3899499 |  0.3545693 | -1.1083007 |  0.3459636 |\n",
       "|  0.1459202 |  0.7123108 | -0.9472979 |  0.6391232 |\n",
       "\n"
      ],
      "text/plain": [
       "     [,1]       [,2]       [,3]       [,4]      \n",
       "[1,] -1.1891402 -0.5621150  0.8165698  0.8876525\n",
       "[2,]  0.1641317 -1.5955532 -0.6190930 -1.9457432\n",
       "[3,] -2.3899499  0.3545693 -1.1083007  0.3459636\n",
       "[4,]  0.1459202  0.7123108 -0.9472979  0.6391232"
      ]
     },
     "metadata": {},
     "output_type": "display_data"
    }
   ],
   "source": [
    "num_matrix <- matrix(rnorm(16), 4, 4)\n",
    "num_matrix"
   ]
  },
  {
   "cell_type": "code",
   "execution_count": 182,
   "metadata": {},
   "outputs": [
    {
     "data": {
      "text/html": [
       "<ol class=list-inline>\n",
       "\t<li>-0.0117582457196231</li>\n",
       "\t<li>-0.99906443189608</li>\n",
       "\t<li>-0.699429415811502</li>\n",
       "\t<li>0.137514091385864</li>\n",
       "</ol>\n"
      ],
      "text/latex": [
       "\\begin{enumerate*}\n",
       "\\item -0.0117582457196231\n",
       "\\item -0.99906443189608\n",
       "\\item -0.699429415811502\n",
       "\\item 0.137514091385864\n",
       "\\end{enumerate*}\n"
      ],
      "text/markdown": [
       "1. -0.0117582457196231\n",
       "2. -0.99906443189608\n",
       "3. -0.699429415811502\n",
       "4. 0.137514091385864\n",
       "\n",
       "\n"
      ],
      "text/plain": [
       "[1] -0.01175825 -0.99906443 -0.69942942  0.13751409"
      ]
     },
     "metadata": {},
     "output_type": "display_data"
    }
   ],
   "source": [
    "mean_row <- apply(num_matrix, 1, mean)\n",
    "mean_row\n"
   ]
  },
  {
   "cell_type": "code",
   "execution_count": 183,
   "metadata": {},
   "outputs": [
    {
     "data": {
      "text/html": [
       "<ol class=list-inline>\n",
       "\t<li>-0.817259529662038</li>\n",
       "\t<li>-0.272697020005464</li>\n",
       "\t<li>-0.464530455051723</li>\n",
       "\t<li>-0.018250997322116</li>\n",
       "</ol>\n"
      ],
      "text/latex": [
       "\\begin{enumerate*}\n",
       "\\item -0.817259529662038\n",
       "\\item -0.272697020005464\n",
       "\\item -0.464530455051723\n",
       "\\item -0.018250997322116\n",
       "\\end{enumerate*}\n"
      ],
      "text/markdown": [
       "1. -0.817259529662038\n",
       "2. -0.272697020005464\n",
       "3. -0.464530455051723\n",
       "4. -0.018250997322116\n",
       "\n",
       "\n"
      ],
      "text/plain": [
       "[1] -0.8172595 -0.2726970 -0.4645305 -0.0182510"
      ]
     },
     "metadata": {},
     "output_type": "display_data"
    }
   ],
   "source": [
    "mean_col <- apply(num_matrix, 2, mean)\n",
    "mean_col"
   ]
  },
  {
   "cell_type": "code",
   "execution_count": null,
   "metadata": {},
   "outputs": [],
   "source": []
  },
  {
   "cell_type": "code",
   "execution_count": null,
   "metadata": {},
   "outputs": [],
   "source": []
  },
  {
   "cell_type": "code",
   "execution_count": null,
   "metadata": {},
   "outputs": [],
   "source": [
    "#### End solution ####"
   ]
  },
  {
   "cell_type": "markdown",
   "metadata": {},
   "source": [
    "### Good Job! You have successfully completed the section!"
   ]
  },
  {
   "cell_type": "markdown",
   "metadata": {},
   "source": [
    "## Section 7: Data Split"
   ]
  },
  {
   "cell_type": "markdown",
   "metadata": {},
   "source": [
    "### Question 1\n",
    "**Using the data frame Orange:**\n",
    "1. Using split function to break down the dataset on circumference and store it in 'split_data' variable. \n",
    "2. Print the values for split_data where circumference is 30 and 75.\n",
    "3. Find the average age of the tree when the circumference is 30 and when circumference is 214.\n",
    "\n",
    "\n",
    "The dataset is loaded and the variable Orange contains the respective dataset."
   ]
  },
  {
   "cell_type": "code",
   "execution_count": 184,
   "metadata": {},
   "outputs": [],
   "source": [
    "library(datasets)"
   ]
  },
  {
   "cell_type": "code",
   "execution_count": 185,
   "metadata": {},
   "outputs": [
    {
     "data": {
      "text/html": [
       "<table>\n",
       "<thead><tr><th scope=col>Tree</th><th scope=col>age</th><th scope=col>circumference</th></tr></thead>\n",
       "<tbody>\n",
       "\t<tr><td>1   </td><td> 118</td><td> 30 </td></tr>\n",
       "\t<tr><td>1   </td><td> 484</td><td> 58 </td></tr>\n",
       "\t<tr><td>1   </td><td> 664</td><td> 87 </td></tr>\n",
       "\t<tr><td>1   </td><td>1004</td><td>115 </td></tr>\n",
       "\t<tr><td>1   </td><td>1231</td><td>120 </td></tr>\n",
       "\t<tr><td>1   </td><td>1372</td><td>142 </td></tr>\n",
       "</tbody>\n",
       "</table>\n"
      ],
      "text/latex": [
       "\\begin{tabular}{r|lll}\n",
       " Tree & age & circumference\\\\\n",
       "\\hline\n",
       "\t 1    &  118 &  30 \\\\\n",
       "\t 1    &  484 &  58 \\\\\n",
       "\t 1    &  664 &  87 \\\\\n",
       "\t 1    & 1004 & 115 \\\\\n",
       "\t 1    & 1231 & 120 \\\\\n",
       "\t 1    & 1372 & 142 \\\\\n",
       "\\end{tabular}\n"
      ],
      "text/markdown": [
       "\n",
       "| Tree | age | circumference |\n",
       "|---|---|---|\n",
       "| 1    |  118 |  30  |\n",
       "| 1    |  484 |  58  |\n",
       "| 1    |  664 |  87  |\n",
       "| 1    | 1004 | 115  |\n",
       "| 1    | 1231 | 120  |\n",
       "| 1    | 1372 | 142  |\n",
       "\n"
      ],
      "text/plain": [
       "  Tree age  circumference\n",
       "1 1     118  30          \n",
       "2 1     484  58          \n",
       "3 1     664  87          \n",
       "4 1    1004 115          \n",
       "5 1    1231 120          \n",
       "6 1    1372 142          "
      ]
     },
     "metadata": {},
     "output_type": "display_data"
    }
   ],
   "source": [
    "head(Orange)"
   ]
  },
  {
   "cell_type": "code",
   "execution_count": null,
   "metadata": {},
   "outputs": [],
   "source": [
    "#### Start solution ####"
   ]
  },
  {
   "cell_type": "code",
   "execution_count": 187,
   "metadata": {},
   "outputs": [
    {
     "data": {
      "text/html": [
       "<dl>\n",
       "\t<dt>$`30`</dt>\n",
       "\t\t<dd><table>\n",
       "<thead><tr><th></th><th scope=col>Tree</th><th scope=col>age</th><th scope=col>circumference</th></tr></thead>\n",
       "<tbody>\n",
       "\t<tr><th scope=row>1</th><td>1  </td><td>118</td><td>30 </td></tr>\n",
       "\t<tr><th scope=row>15</th><td>3  </td><td>118</td><td>30 </td></tr>\n",
       "\t<tr><th scope=row>29</th><td>5  </td><td>118</td><td>30 </td></tr>\n",
       "</tbody>\n",
       "</table>\n",
       "</dd>\n",
       "\t<dt>$`32`</dt>\n",
       "\t\t<dd><table>\n",
       "<thead><tr><th></th><th scope=col>Tree</th><th scope=col>age</th><th scope=col>circumference</th></tr></thead>\n",
       "<tbody>\n",
       "\t<tr><th scope=row>22</th><td>4  </td><td>118</td><td>32 </td></tr>\n",
       "</tbody>\n",
       "</table>\n",
       "</dd>\n",
       "\t<dt>$`33`</dt>\n",
       "\t\t<dd><table>\n",
       "<thead><tr><th></th><th scope=col>Tree</th><th scope=col>age</th><th scope=col>circumference</th></tr></thead>\n",
       "<tbody>\n",
       "\t<tr><th scope=row>8</th><td>2  </td><td>118</td><td>33 </td></tr>\n",
       "</tbody>\n",
       "</table>\n",
       "</dd>\n",
       "\t<dt>$`49`</dt>\n",
       "\t\t<dd><table>\n",
       "<thead><tr><th></th><th scope=col>Tree</th><th scope=col>age</th><th scope=col>circumference</th></tr></thead>\n",
       "<tbody>\n",
       "\t<tr><th scope=row>30</th><td>5  </td><td>484</td><td>49 </td></tr>\n",
       "</tbody>\n",
       "</table>\n",
       "</dd>\n",
       "\t<dt>$`51`</dt>\n",
       "\t\t<dd><table>\n",
       "<thead><tr><th></th><th scope=col>Tree</th><th scope=col>age</th><th scope=col>circumference</th></tr></thead>\n",
       "<tbody>\n",
       "\t<tr><th scope=row>16</th><td>3  </td><td>484</td><td>51 </td></tr>\n",
       "</tbody>\n",
       "</table>\n",
       "</dd>\n",
       "\t<dt>$`58`</dt>\n",
       "\t\t<dd><table>\n",
       "<thead><tr><th></th><th scope=col>Tree</th><th scope=col>age</th><th scope=col>circumference</th></tr></thead>\n",
       "<tbody>\n",
       "\t<tr><th scope=row>2</th><td>1  </td><td>484</td><td>58 </td></tr>\n",
       "</tbody>\n",
       "</table>\n",
       "</dd>\n",
       "\t<dt>$`62`</dt>\n",
       "\t\t<dd><table>\n",
       "<thead><tr><th></th><th scope=col>Tree</th><th scope=col>age</th><th scope=col>circumference</th></tr></thead>\n",
       "<tbody>\n",
       "\t<tr><th scope=row>23</th><td>4  </td><td>484</td><td>62 </td></tr>\n",
       "</tbody>\n",
       "</table>\n",
       "</dd>\n",
       "\t<dt>$`69`</dt>\n",
       "\t\t<dd><table>\n",
       "<thead><tr><th></th><th scope=col>Tree</th><th scope=col>age</th><th scope=col>circumference</th></tr></thead>\n",
       "<tbody>\n",
       "\t<tr><th scope=row>9</th><td>2  </td><td>484</td><td>69 </td></tr>\n",
       "</tbody>\n",
       "</table>\n",
       "</dd>\n",
       "\t<dt>$`75`</dt>\n",
       "\t\t<dd><table>\n",
       "<thead><tr><th></th><th scope=col>Tree</th><th scope=col>age</th><th scope=col>circumference</th></tr></thead>\n",
       "<tbody>\n",
       "\t<tr><th scope=row>17</th><td>3  </td><td>664</td><td>75 </td></tr>\n",
       "</tbody>\n",
       "</table>\n",
       "</dd>\n",
       "\t<dt>$`81`</dt>\n",
       "\t\t<dd><table>\n",
       "<thead><tr><th></th><th scope=col>Tree</th><th scope=col>age</th><th scope=col>circumference</th></tr></thead>\n",
       "<tbody>\n",
       "\t<tr><th scope=row>31</th><td>5  </td><td>664</td><td>81 </td></tr>\n",
       "</tbody>\n",
       "</table>\n",
       "</dd>\n",
       "\t<dt>$`87`</dt>\n",
       "\t\t<dd><table>\n",
       "<thead><tr><th></th><th scope=col>Tree</th><th scope=col>age</th><th scope=col>circumference</th></tr></thead>\n",
       "<tbody>\n",
       "\t<tr><th scope=row>3</th><td>1  </td><td>664</td><td>87 </td></tr>\n",
       "</tbody>\n",
       "</table>\n",
       "</dd>\n",
       "\t<dt>$`108`</dt>\n",
       "\t\t<dd><table>\n",
       "<thead><tr><th></th><th scope=col>Tree</th><th scope=col>age</th><th scope=col>circumference</th></tr></thead>\n",
       "<tbody>\n",
       "\t<tr><th scope=row>18</th><td>3   </td><td>1004</td><td>108 </td></tr>\n",
       "</tbody>\n",
       "</table>\n",
       "</dd>\n",
       "\t<dt>$`111`</dt>\n",
       "\t\t<dd><table>\n",
       "<thead><tr><th></th><th scope=col>Tree</th><th scope=col>age</th><th scope=col>circumference</th></tr></thead>\n",
       "<tbody>\n",
       "\t<tr><th scope=row>10</th><td>2  </td><td>664</td><td>111</td></tr>\n",
       "</tbody>\n",
       "</table>\n",
       "</dd>\n",
       "\t<dt>$`112`</dt>\n",
       "\t\t<dd><table>\n",
       "<thead><tr><th></th><th scope=col>Tree</th><th scope=col>age</th><th scope=col>circumference</th></tr></thead>\n",
       "<tbody>\n",
       "\t<tr><th scope=row>24</th><td>4  </td><td>664</td><td>112</td></tr>\n",
       "</tbody>\n",
       "</table>\n",
       "</dd>\n",
       "\t<dt>$`115`</dt>\n",
       "\t\t<dd><table>\n",
       "<thead><tr><th></th><th scope=col>Tree</th><th scope=col>age</th><th scope=col>circumference</th></tr></thead>\n",
       "<tbody>\n",
       "\t<tr><th scope=row>4</th><td>1   </td><td>1004</td><td>115 </td></tr>\n",
       "\t<tr><th scope=row>19</th><td>3   </td><td>1231</td><td>115 </td></tr>\n",
       "</tbody>\n",
       "</table>\n",
       "</dd>\n",
       "\t<dt>$`120`</dt>\n",
       "\t\t<dd><table>\n",
       "<thead><tr><th></th><th scope=col>Tree</th><th scope=col>age</th><th scope=col>circumference</th></tr></thead>\n",
       "<tbody>\n",
       "\t<tr><th scope=row>5</th><td>1   </td><td>1231</td><td>120 </td></tr>\n",
       "</tbody>\n",
       "</table>\n",
       "</dd>\n",
       "\t<dt>$`125`</dt>\n",
       "\t\t<dd><table>\n",
       "<thead><tr><th></th><th scope=col>Tree</th><th scope=col>age</th><th scope=col>circumference</th></tr></thead>\n",
       "<tbody>\n",
       "\t<tr><th scope=row>32</th><td>5   </td><td>1004</td><td>125 </td></tr>\n",
       "</tbody>\n",
       "</table>\n",
       "</dd>\n",
       "\t<dt>$`139`</dt>\n",
       "\t\t<dd><table>\n",
       "<thead><tr><th></th><th scope=col>Tree</th><th scope=col>age</th><th scope=col>circumference</th></tr></thead>\n",
       "<tbody>\n",
       "\t<tr><th scope=row>20</th><td>3   </td><td>1372</td><td>139 </td></tr>\n",
       "</tbody>\n",
       "</table>\n",
       "</dd>\n",
       "\t<dt>$`140`</dt>\n",
       "\t\t<dd><table>\n",
       "<thead><tr><th></th><th scope=col>Tree</th><th scope=col>age</th><th scope=col>circumference</th></tr></thead>\n",
       "<tbody>\n",
       "\t<tr><th scope=row>21</th><td>3   </td><td>1582</td><td>140 </td></tr>\n",
       "</tbody>\n",
       "</table>\n",
       "</dd>\n",
       "\t<dt>$`142`</dt>\n",
       "\t\t<dd><table>\n",
       "<thead><tr><th></th><th scope=col>Tree</th><th scope=col>age</th><th scope=col>circumference</th></tr></thead>\n",
       "<tbody>\n",
       "\t<tr><th scope=row>6</th><td>1   </td><td>1372</td><td>142 </td></tr>\n",
       "\t<tr><th scope=row>33</th><td>5   </td><td>1231</td><td>142 </td></tr>\n",
       "</tbody>\n",
       "</table>\n",
       "</dd>\n",
       "\t<dt>$`145`</dt>\n",
       "\t\t<dd><table>\n",
       "<thead><tr><th></th><th scope=col>Tree</th><th scope=col>age</th><th scope=col>circumference</th></tr></thead>\n",
       "<tbody>\n",
       "\t<tr><th scope=row>7</th><td>1   </td><td>1582</td><td>145 </td></tr>\n",
       "</tbody>\n",
       "</table>\n",
       "</dd>\n",
       "\t<dt>$`156`</dt>\n",
       "\t\t<dd><table>\n",
       "<thead><tr><th></th><th scope=col>Tree</th><th scope=col>age</th><th scope=col>circumference</th></tr></thead>\n",
       "<tbody>\n",
       "\t<tr><th scope=row>11</th><td>2   </td><td>1004</td><td>156 </td></tr>\n",
       "</tbody>\n",
       "</table>\n",
       "</dd>\n",
       "\t<dt>$`167`</dt>\n",
       "\t\t<dd><table>\n",
       "<thead><tr><th></th><th scope=col>Tree</th><th scope=col>age</th><th scope=col>circumference</th></tr></thead>\n",
       "<tbody>\n",
       "\t<tr><th scope=row>25</th><td>4   </td><td>1004</td><td>167 </td></tr>\n",
       "</tbody>\n",
       "</table>\n",
       "</dd>\n",
       "\t<dt>$`172`</dt>\n",
       "\t\t<dd><table>\n",
       "<thead><tr><th></th><th scope=col>Tree</th><th scope=col>age</th><th scope=col>circumference</th></tr></thead>\n",
       "<tbody>\n",
       "\t<tr><th scope=row>12</th><td>2   </td><td>1231</td><td>172 </td></tr>\n",
       "</tbody>\n",
       "</table>\n",
       "</dd>\n",
       "\t<dt>$`174`</dt>\n",
       "\t\t<dd><table>\n",
       "<thead><tr><th></th><th scope=col>Tree</th><th scope=col>age</th><th scope=col>circumference</th></tr></thead>\n",
       "<tbody>\n",
       "\t<tr><th scope=row>34</th><td>5   </td><td>1372</td><td>174 </td></tr>\n",
       "</tbody>\n",
       "</table>\n",
       "</dd>\n",
       "\t<dt>$`177`</dt>\n",
       "\t\t<dd><table>\n",
       "<thead><tr><th></th><th scope=col>Tree</th><th scope=col>age</th><th scope=col>circumference</th></tr></thead>\n",
       "<tbody>\n",
       "\t<tr><th scope=row>35</th><td>5   </td><td>1582</td><td>177 </td></tr>\n",
       "</tbody>\n",
       "</table>\n",
       "</dd>\n",
       "\t<dt>$`179`</dt>\n",
       "\t\t<dd><table>\n",
       "<thead><tr><th></th><th scope=col>Tree</th><th scope=col>age</th><th scope=col>circumference</th></tr></thead>\n",
       "<tbody>\n",
       "\t<tr><th scope=row>26</th><td>4   </td><td>1231</td><td>179 </td></tr>\n",
       "</tbody>\n",
       "</table>\n",
       "</dd>\n",
       "\t<dt>$`203`</dt>\n",
       "\t\t<dd><table>\n",
       "<thead><tr><th></th><th scope=col>Tree</th><th scope=col>age</th><th scope=col>circumference</th></tr></thead>\n",
       "<tbody>\n",
       "\t<tr><th scope=row>13</th><td>2   </td><td>1372</td><td>203 </td></tr>\n",
       "\t<tr><th scope=row>14</th><td>2   </td><td>1582</td><td>203 </td></tr>\n",
       "</tbody>\n",
       "</table>\n",
       "</dd>\n",
       "\t<dt>$`209`</dt>\n",
       "\t\t<dd><table>\n",
       "<thead><tr><th></th><th scope=col>Tree</th><th scope=col>age</th><th scope=col>circumference</th></tr></thead>\n",
       "<tbody>\n",
       "\t<tr><th scope=row>27</th><td>4   </td><td>1372</td><td>209 </td></tr>\n",
       "</tbody>\n",
       "</table>\n",
       "</dd>\n",
       "\t<dt>$`214`</dt>\n",
       "\t\t<dd><table>\n",
       "<thead><tr><th></th><th scope=col>Tree</th><th scope=col>age</th><th scope=col>circumference</th></tr></thead>\n",
       "<tbody>\n",
       "\t<tr><th scope=row>28</th><td>4   </td><td>1582</td><td>214 </td></tr>\n",
       "</tbody>\n",
       "</table>\n",
       "</dd>\n",
       "</dl>\n"
      ],
      "text/latex": [
       "\\begin{description}\n",
       "\\item[\\$`30`] \\begin{tabular}{r|lll}\n",
       "  & Tree & age & circumference\\\\\n",
       "\\hline\n",
       "\t1 & 1   & 118 & 30 \\\\\n",
       "\t15 & 3   & 118 & 30 \\\\\n",
       "\t29 & 5   & 118 & 30 \\\\\n",
       "\\end{tabular}\n",
       "\n",
       "\\item[\\$`32`] \\begin{tabular}{r|lll}\n",
       "  & Tree & age & circumference\\\\\n",
       "\\hline\n",
       "\t22 & 4   & 118 & 32 \\\\\n",
       "\\end{tabular}\n",
       "\n",
       "\\item[\\$`33`] \\begin{tabular}{r|lll}\n",
       "  & Tree & age & circumference\\\\\n",
       "\\hline\n",
       "\t8 & 2   & 118 & 33 \\\\\n",
       "\\end{tabular}\n",
       "\n",
       "\\item[\\$`49`] \\begin{tabular}{r|lll}\n",
       "  & Tree & age & circumference\\\\\n",
       "\\hline\n",
       "\t30 & 5   & 484 & 49 \\\\\n",
       "\\end{tabular}\n",
       "\n",
       "\\item[\\$`51`] \\begin{tabular}{r|lll}\n",
       "  & Tree & age & circumference\\\\\n",
       "\\hline\n",
       "\t16 & 3   & 484 & 51 \\\\\n",
       "\\end{tabular}\n",
       "\n",
       "\\item[\\$`58`] \\begin{tabular}{r|lll}\n",
       "  & Tree & age & circumference\\\\\n",
       "\\hline\n",
       "\t2 & 1   & 484 & 58 \\\\\n",
       "\\end{tabular}\n",
       "\n",
       "\\item[\\$`62`] \\begin{tabular}{r|lll}\n",
       "  & Tree & age & circumference\\\\\n",
       "\\hline\n",
       "\t23 & 4   & 484 & 62 \\\\\n",
       "\\end{tabular}\n",
       "\n",
       "\\item[\\$`69`] \\begin{tabular}{r|lll}\n",
       "  & Tree & age & circumference\\\\\n",
       "\\hline\n",
       "\t9 & 2   & 484 & 69 \\\\\n",
       "\\end{tabular}\n",
       "\n",
       "\\item[\\$`75`] \\begin{tabular}{r|lll}\n",
       "  & Tree & age & circumference\\\\\n",
       "\\hline\n",
       "\t17 & 3   & 664 & 75 \\\\\n",
       "\\end{tabular}\n",
       "\n",
       "\\item[\\$`81`] \\begin{tabular}{r|lll}\n",
       "  & Tree & age & circumference\\\\\n",
       "\\hline\n",
       "\t31 & 5   & 664 & 81 \\\\\n",
       "\\end{tabular}\n",
       "\n",
       "\\item[\\$`87`] \\begin{tabular}{r|lll}\n",
       "  & Tree & age & circumference\\\\\n",
       "\\hline\n",
       "\t3 & 1   & 664 & 87 \\\\\n",
       "\\end{tabular}\n",
       "\n",
       "\\item[\\$`108`] \\begin{tabular}{r|lll}\n",
       "  & Tree & age & circumference\\\\\n",
       "\\hline\n",
       "\t18 & 3    & 1004 & 108 \\\\\n",
       "\\end{tabular}\n",
       "\n",
       "\\item[\\$`111`] \\begin{tabular}{r|lll}\n",
       "  & Tree & age & circumference\\\\\n",
       "\\hline\n",
       "\t10 & 2   & 664 & 111\\\\\n",
       "\\end{tabular}\n",
       "\n",
       "\\item[\\$`112`] \\begin{tabular}{r|lll}\n",
       "  & Tree & age & circumference\\\\\n",
       "\\hline\n",
       "\t24 & 4   & 664 & 112\\\\\n",
       "\\end{tabular}\n",
       "\n",
       "\\item[\\$`115`] \\begin{tabular}{r|lll}\n",
       "  & Tree & age & circumference\\\\\n",
       "\\hline\n",
       "\t4 & 1    & 1004 & 115 \\\\\n",
       "\t19 & 3    & 1231 & 115 \\\\\n",
       "\\end{tabular}\n",
       "\n",
       "\\item[\\$`120`] \\begin{tabular}{r|lll}\n",
       "  & Tree & age & circumference\\\\\n",
       "\\hline\n",
       "\t5 & 1    & 1231 & 120 \\\\\n",
       "\\end{tabular}\n",
       "\n",
       "\\item[\\$`125`] \\begin{tabular}{r|lll}\n",
       "  & Tree & age & circumference\\\\\n",
       "\\hline\n",
       "\t32 & 5    & 1004 & 125 \\\\\n",
       "\\end{tabular}\n",
       "\n",
       "\\item[\\$`139`] \\begin{tabular}{r|lll}\n",
       "  & Tree & age & circumference\\\\\n",
       "\\hline\n",
       "\t20 & 3    & 1372 & 139 \\\\\n",
       "\\end{tabular}\n",
       "\n",
       "\\item[\\$`140`] \\begin{tabular}{r|lll}\n",
       "  & Tree & age & circumference\\\\\n",
       "\\hline\n",
       "\t21 & 3    & 1582 & 140 \\\\\n",
       "\\end{tabular}\n",
       "\n",
       "\\item[\\$`142`] \\begin{tabular}{r|lll}\n",
       "  & Tree & age & circumference\\\\\n",
       "\\hline\n",
       "\t6 & 1    & 1372 & 142 \\\\\n",
       "\t33 & 5    & 1231 & 142 \\\\\n",
       "\\end{tabular}\n",
       "\n",
       "\\item[\\$`145`] \\begin{tabular}{r|lll}\n",
       "  & Tree & age & circumference\\\\\n",
       "\\hline\n",
       "\t7 & 1    & 1582 & 145 \\\\\n",
       "\\end{tabular}\n",
       "\n",
       "\\item[\\$`156`] \\begin{tabular}{r|lll}\n",
       "  & Tree & age & circumference\\\\\n",
       "\\hline\n",
       "\t11 & 2    & 1004 & 156 \\\\\n",
       "\\end{tabular}\n",
       "\n",
       "\\item[\\$`167`] \\begin{tabular}{r|lll}\n",
       "  & Tree & age & circumference\\\\\n",
       "\\hline\n",
       "\t25 & 4    & 1004 & 167 \\\\\n",
       "\\end{tabular}\n",
       "\n",
       "\\item[\\$`172`] \\begin{tabular}{r|lll}\n",
       "  & Tree & age & circumference\\\\\n",
       "\\hline\n",
       "\t12 & 2    & 1231 & 172 \\\\\n",
       "\\end{tabular}\n",
       "\n",
       "\\item[\\$`174`] \\begin{tabular}{r|lll}\n",
       "  & Tree & age & circumference\\\\\n",
       "\\hline\n",
       "\t34 & 5    & 1372 & 174 \\\\\n",
       "\\end{tabular}\n",
       "\n",
       "\\item[\\$`177`] \\begin{tabular}{r|lll}\n",
       "  & Tree & age & circumference\\\\\n",
       "\\hline\n",
       "\t35 & 5    & 1582 & 177 \\\\\n",
       "\\end{tabular}\n",
       "\n",
       "\\item[\\$`179`] \\begin{tabular}{r|lll}\n",
       "  & Tree & age & circumference\\\\\n",
       "\\hline\n",
       "\t26 & 4    & 1231 & 179 \\\\\n",
       "\\end{tabular}\n",
       "\n",
       "\\item[\\$`203`] \\begin{tabular}{r|lll}\n",
       "  & Tree & age & circumference\\\\\n",
       "\\hline\n",
       "\t13 & 2    & 1372 & 203 \\\\\n",
       "\t14 & 2    & 1582 & 203 \\\\\n",
       "\\end{tabular}\n",
       "\n",
       "\\item[\\$`209`] \\begin{tabular}{r|lll}\n",
       "  & Tree & age & circumference\\\\\n",
       "\\hline\n",
       "\t27 & 4    & 1372 & 209 \\\\\n",
       "\\end{tabular}\n",
       "\n",
       "\\item[\\$`214`] \\begin{tabular}{r|lll}\n",
       "  & Tree & age & circumference\\\\\n",
       "\\hline\n",
       "\t28 & 4    & 1582 & 214 \\\\\n",
       "\\end{tabular}\n",
       "\n",
       "\\end{description}\n"
      ],
      "text/markdown": [
       "$`30`\n",
       ":   \n",
       "| <!--/--> | Tree | age | circumference |\n",
       "|---|---|---|---|\n",
       "| 1 | 1   | 118 | 30  |\n",
       "| 15 | 3   | 118 | 30  |\n",
       "| 29 | 5   | 118 | 30  |\n",
       "\n",
       "\n",
       "$`32`\n",
       ":   \n",
       "| <!--/--> | Tree | age | circumference |\n",
       "|---|---|---|---|\n",
       "| 22 | 4   | 118 | 32  |\n",
       "\n",
       "\n",
       "$`33`\n",
       ":   \n",
       "| <!--/--> | Tree | age | circumference |\n",
       "|---|---|---|---|\n",
       "| 8 | 2   | 118 | 33  |\n",
       "\n",
       "\n",
       "$`49`\n",
       ":   \n",
       "| <!--/--> | Tree | age | circumference |\n",
       "|---|---|---|---|\n",
       "| 30 | 5   | 484 | 49  |\n",
       "\n",
       "\n",
       "$`51`\n",
       ":   \n",
       "| <!--/--> | Tree | age | circumference |\n",
       "|---|---|---|---|\n",
       "| 16 | 3   | 484 | 51  |\n",
       "\n",
       "\n",
       "$`58`\n",
       ":   \n",
       "| <!--/--> | Tree | age | circumference |\n",
       "|---|---|---|---|\n",
       "| 2 | 1   | 484 | 58  |\n",
       "\n",
       "\n",
       "$`62`\n",
       ":   \n",
       "| <!--/--> | Tree | age | circumference |\n",
       "|---|---|---|---|\n",
       "| 23 | 4   | 484 | 62  |\n",
       "\n",
       "\n",
       "$`69`\n",
       ":   \n",
       "| <!--/--> | Tree | age | circumference |\n",
       "|---|---|---|---|\n",
       "| 9 | 2   | 484 | 69  |\n",
       "\n",
       "\n",
       "$`75`\n",
       ":   \n",
       "| <!--/--> | Tree | age | circumference |\n",
       "|---|---|---|---|\n",
       "| 17 | 3   | 664 | 75  |\n",
       "\n",
       "\n",
       "$`81`\n",
       ":   \n",
       "| <!--/--> | Tree | age | circumference |\n",
       "|---|---|---|---|\n",
       "| 31 | 5   | 664 | 81  |\n",
       "\n",
       "\n",
       "$`87`\n",
       ":   \n",
       "| <!--/--> | Tree | age | circumference |\n",
       "|---|---|---|---|\n",
       "| 3 | 1   | 664 | 87  |\n",
       "\n",
       "\n",
       "$`108`\n",
       ":   \n",
       "| <!--/--> | Tree | age | circumference |\n",
       "|---|---|---|---|\n",
       "| 18 | 3    | 1004 | 108  |\n",
       "\n",
       "\n",
       "$`111`\n",
       ":   \n",
       "| <!--/--> | Tree | age | circumference |\n",
       "|---|---|---|---|\n",
       "| 10 | 2   | 664 | 111 |\n",
       "\n",
       "\n",
       "$`112`\n",
       ":   \n",
       "| <!--/--> | Tree | age | circumference |\n",
       "|---|---|---|---|\n",
       "| 24 | 4   | 664 | 112 |\n",
       "\n",
       "\n",
       "$`115`\n",
       ":   \n",
       "| <!--/--> | Tree | age | circumference |\n",
       "|---|---|---|---|\n",
       "| 4 | 1    | 1004 | 115  |\n",
       "| 19 | 3    | 1231 | 115  |\n",
       "\n",
       "\n",
       "$`120`\n",
       ":   \n",
       "| <!--/--> | Tree | age | circumference |\n",
       "|---|---|---|---|\n",
       "| 5 | 1    | 1231 | 120  |\n",
       "\n",
       "\n",
       "$`125`\n",
       ":   \n",
       "| <!--/--> | Tree | age | circumference |\n",
       "|---|---|---|---|\n",
       "| 32 | 5    | 1004 | 125  |\n",
       "\n",
       "\n",
       "$`139`\n",
       ":   \n",
       "| <!--/--> | Tree | age | circumference |\n",
       "|---|---|---|---|\n",
       "| 20 | 3    | 1372 | 139  |\n",
       "\n",
       "\n",
       "$`140`\n",
       ":   \n",
       "| <!--/--> | Tree | age | circumference |\n",
       "|---|---|---|---|\n",
       "| 21 | 3    | 1582 | 140  |\n",
       "\n",
       "\n",
       "$`142`\n",
       ":   \n",
       "| <!--/--> | Tree | age | circumference |\n",
       "|---|---|---|---|\n",
       "| 6 | 1    | 1372 | 142  |\n",
       "| 33 | 5    | 1231 | 142  |\n",
       "\n",
       "\n",
       "$`145`\n",
       ":   \n",
       "| <!--/--> | Tree | age | circumference |\n",
       "|---|---|---|---|\n",
       "| 7 | 1    | 1582 | 145  |\n",
       "\n",
       "\n",
       "$`156`\n",
       ":   \n",
       "| <!--/--> | Tree | age | circumference |\n",
       "|---|---|---|---|\n",
       "| 11 | 2    | 1004 | 156  |\n",
       "\n",
       "\n",
       "$`167`\n",
       ":   \n",
       "| <!--/--> | Tree | age | circumference |\n",
       "|---|---|---|---|\n",
       "| 25 | 4    | 1004 | 167  |\n",
       "\n",
       "\n",
       "$`172`\n",
       ":   \n",
       "| <!--/--> | Tree | age | circumference |\n",
       "|---|---|---|---|\n",
       "| 12 | 2    | 1231 | 172  |\n",
       "\n",
       "\n",
       "$`174`\n",
       ":   \n",
       "| <!--/--> | Tree | age | circumference |\n",
       "|---|---|---|---|\n",
       "| 34 | 5    | 1372 | 174  |\n",
       "\n",
       "\n",
       "$`177`\n",
       ":   \n",
       "| <!--/--> | Tree | age | circumference |\n",
       "|---|---|---|---|\n",
       "| 35 | 5    | 1582 | 177  |\n",
       "\n",
       "\n",
       "$`179`\n",
       ":   \n",
       "| <!--/--> | Tree | age | circumference |\n",
       "|---|---|---|---|\n",
       "| 26 | 4    | 1231 | 179  |\n",
       "\n",
       "\n",
       "$`203`\n",
       ":   \n",
       "| <!--/--> | Tree | age | circumference |\n",
       "|---|---|---|---|\n",
       "| 13 | 2    | 1372 | 203  |\n",
       "| 14 | 2    | 1582 | 203  |\n",
       "\n",
       "\n",
       "$`209`\n",
       ":   \n",
       "| <!--/--> | Tree | age | circumference |\n",
       "|---|---|---|---|\n",
       "| 27 | 4    | 1372 | 209  |\n",
       "\n",
       "\n",
       "$`214`\n",
       ":   \n",
       "| <!--/--> | Tree | age | circumference |\n",
       "|---|---|---|---|\n",
       "| 28 | 4    | 1582 | 214  |\n",
       "\n",
       "\n",
       "\n",
       "\n"
      ],
      "text/plain": [
       "$`30`\n",
       "   Tree age circumference\n",
       "1     1 118            30\n",
       "15    3 118            30\n",
       "29    5 118            30\n",
       "\n",
       "$`32`\n",
       "   Tree age circumference\n",
       "22    4 118            32\n",
       "\n",
       "$`33`\n",
       "  Tree age circumference\n",
       "8    2 118            33\n",
       "\n",
       "$`49`\n",
       "   Tree age circumference\n",
       "30    5 484            49\n",
       "\n",
       "$`51`\n",
       "   Tree age circumference\n",
       "16    3 484            51\n",
       "\n",
       "$`58`\n",
       "  Tree age circumference\n",
       "2    1 484            58\n",
       "\n",
       "$`62`\n",
       "   Tree age circumference\n",
       "23    4 484            62\n",
       "\n",
       "$`69`\n",
       "  Tree age circumference\n",
       "9    2 484            69\n",
       "\n",
       "$`75`\n",
       "   Tree age circumference\n",
       "17    3 664            75\n",
       "\n",
       "$`81`\n",
       "   Tree age circumference\n",
       "31    5 664            81\n",
       "\n",
       "$`87`\n",
       "  Tree age circumference\n",
       "3    1 664            87\n",
       "\n",
       "$`108`\n",
       "   Tree  age circumference\n",
       "18    3 1004           108\n",
       "\n",
       "$`111`\n",
       "   Tree age circumference\n",
       "10    2 664           111\n",
       "\n",
       "$`112`\n",
       "   Tree age circumference\n",
       "24    4 664           112\n",
       "\n",
       "$`115`\n",
       "   Tree  age circumference\n",
       "4     1 1004           115\n",
       "19    3 1231           115\n",
       "\n",
       "$`120`\n",
       "  Tree  age circumference\n",
       "5    1 1231           120\n",
       "\n",
       "$`125`\n",
       "   Tree  age circumference\n",
       "32    5 1004           125\n",
       "\n",
       "$`139`\n",
       "   Tree  age circumference\n",
       "20    3 1372           139\n",
       "\n",
       "$`140`\n",
       "   Tree  age circumference\n",
       "21    3 1582           140\n",
       "\n",
       "$`142`\n",
       "   Tree  age circumference\n",
       "6     1 1372           142\n",
       "33    5 1231           142\n",
       "\n",
       "$`145`\n",
       "  Tree  age circumference\n",
       "7    1 1582           145\n",
       "\n",
       "$`156`\n",
       "   Tree  age circumference\n",
       "11    2 1004           156\n",
       "\n",
       "$`167`\n",
       "   Tree  age circumference\n",
       "25    4 1004           167\n",
       "\n",
       "$`172`\n",
       "   Tree  age circumference\n",
       "12    2 1231           172\n",
       "\n",
       "$`174`\n",
       "   Tree  age circumference\n",
       "34    5 1372           174\n",
       "\n",
       "$`177`\n",
       "   Tree  age circumference\n",
       "35    5 1582           177\n",
       "\n",
       "$`179`\n",
       "   Tree  age circumference\n",
       "26    4 1231           179\n",
       "\n",
       "$`203`\n",
       "   Tree  age circumference\n",
       "13    2 1372           203\n",
       "14    2 1582           203\n",
       "\n",
       "$`209`\n",
       "   Tree  age circumference\n",
       "27    4 1372           209\n",
       "\n",
       "$`214`\n",
       "   Tree  age circumference\n",
       "28    4 1582           214\n"
      ]
     },
     "metadata": {},
     "output_type": "display_data"
    }
   ],
   "source": [
    "split_data <- split(Orange, Orange$circumference)\n",
    "split_data"
   ]
  },
  {
   "cell_type": "code",
   "execution_count": 188,
   "metadata": {},
   "outputs": [
    {
     "data": {
      "text/html": [
       "<table>\n",
       "<thead><tr><th></th><th scope=col>Tree</th><th scope=col>age</th><th scope=col>circumference</th></tr></thead>\n",
       "<tbody>\n",
       "\t<tr><th scope=row>1</th><td>1  </td><td>118</td><td>30 </td></tr>\n",
       "\t<tr><th scope=row>15</th><td>3  </td><td>118</td><td>30 </td></tr>\n",
       "\t<tr><th scope=row>29</th><td>5  </td><td>118</td><td>30 </td></tr>\n",
       "</tbody>\n",
       "</table>\n"
      ],
      "text/latex": [
       "\\begin{tabular}{r|lll}\n",
       "  & Tree & age & circumference\\\\\n",
       "\\hline\n",
       "\t1 & 1   & 118 & 30 \\\\\n",
       "\t15 & 3   & 118 & 30 \\\\\n",
       "\t29 & 5   & 118 & 30 \\\\\n",
       "\\end{tabular}\n"
      ],
      "text/markdown": [
       "\n",
       "| <!--/--> | Tree | age | circumference |\n",
       "|---|---|---|---|\n",
       "| 1 | 1   | 118 | 30  |\n",
       "| 15 | 3   | 118 | 30  |\n",
       "| 29 | 5   | 118 | 30  |\n",
       "\n"
      ],
      "text/plain": [
       "   Tree age circumference\n",
       "1  1    118 30           \n",
       "15 3    118 30           \n",
       "29 5    118 30           "
      ]
     },
     "metadata": {},
     "output_type": "display_data"
    },
    {
     "data": {
      "text/html": [
       "<table>\n",
       "<thead><tr><th></th><th scope=col>Tree</th><th scope=col>age</th><th scope=col>circumference</th></tr></thead>\n",
       "<tbody>\n",
       "\t<tr><th scope=row>17</th><td>3  </td><td>664</td><td>75 </td></tr>\n",
       "</tbody>\n",
       "</table>\n"
      ],
      "text/latex": [
       "\\begin{tabular}{r|lll}\n",
       "  & Tree & age & circumference\\\\\n",
       "\\hline\n",
       "\t17 & 3   & 664 & 75 \\\\\n",
       "\\end{tabular}\n"
      ],
      "text/markdown": [
       "\n",
       "| <!--/--> | Tree | age | circumference |\n",
       "|---|---|---|---|\n",
       "| 17 | 3   | 664 | 75  |\n",
       "\n"
      ],
      "text/plain": [
       "   Tree age circumference\n",
       "17 3    664 75           "
      ]
     },
     "metadata": {},
     "output_type": "display_data"
    },
    {
     "data": {
      "text/html": [
       "<pre class=language-r><code>function (x) \n",
       "colMeans(x[, c(\"Tree\", \"circumference\")], na.rm = TRUE)</code></pre>"
      ],
      "text/latex": [
       "\\begin{minted}{r}\n",
       "function (x) \n",
       "colMeans(x{[}, c(\"Tree\", \"circumference\"){]}, na.rm = TRUE)\n",
       "\\end{minted}"
      ],
      "text/markdown": [
       "```r\n",
       "function (x) \n",
       "colMeans(x[, c(\"Tree\", \"circumference\")], na.rm = TRUE)\n",
       "```"
      ],
      "text/plain": [
       "function(x) colMeans(x[, c(\"Tree\", \"circumference\")], na.rm = TRUE)"
      ]
     },
     "metadata": {},
     "output_type": "display_data"
    }
   ],
   "source": [
    "split_data$`30`\n",
    "split_data$`75`\n",
    "apply <- function(x) colMeans(x[, c(\"Tree\", \"circumference\")], na.rm = TRUE)\n",
    "apply"
   ]
  },
  {
   "cell_type": "code",
   "execution_count": null,
   "metadata": {},
   "outputs": [],
   "source": []
  },
  {
   "cell_type": "code",
   "execution_count": null,
   "metadata": {},
   "outputs": [],
   "source": []
  },
  {
   "cell_type": "code",
   "execution_count": null,
   "metadata": {},
   "outputs": [],
   "source": []
  },
  {
   "cell_type": "code",
   "execution_count": null,
   "metadata": {},
   "outputs": [],
   "source": [
    "#### End solution ####"
   ]
  },
  {
   "cell_type": "markdown",
   "metadata": {},
   "source": [
    "\n",
    "### Save it and push .ipynb and .html file to your Github Repository\n",
    "## GOOD JOB! You have successfully finished the course!"
   ]
  },
  {
   "cell_type": "code",
   "execution_count": null,
   "metadata": {},
   "outputs": [],
   "source": []
  }
 ],
 "metadata": {
  "kernelspec": {
   "display_name": "R",
   "language": "R",
   "name": "ir"
  },
  "language_info": {
   "codemirror_mode": "r",
   "file_extension": ".r",
   "mimetype": "text/x-r-source",
   "name": "R",
   "pygments_lexer": "r",
   "version": "3.6.1"
  }
 },
 "nbformat": 4,
 "nbformat_minor": 4
}
