{
 "cells": [
  {
   "cell_type": "code",
   "execution_count": 1,
   "id": "748a9a30",
   "metadata": {},
   "outputs": [],
   "source": [
    "# Created by Jamal Hussain Shah topic R prog. \"Operations on Vectors in R\""
   ]
  },
  {
   "cell_type": "code",
   "execution_count": 6,
   "id": "44ecd326",
   "metadata": {},
   "outputs": [
    {
     "name": "stdout",
     "output_type": "stream",
     "text": [
      "[1] \"using c function\"\n",
      "[1] 1 4 5 2 6 7\n",
      "[1] \"using seq() function\"\n",
      "[1]  1.00  3.25  5.50  7.75 10.00\n",
      "[1] \"using colon\"\n",
      "[1]  1.00  3.25  5.50  7.75 10.00\n"
     ]
    }
   ],
   "source": [
    "# Use of 'c' function\n",
    "# to combine the values as a vector.\n",
    "# by default the type will be double\n",
    "X <- c(1, 4, 5, 2, 6, 7)\n",
    "print('using c function')\n",
    "print(X)\n",
    "\n",
    "# using the seq() function to generate\n",
    "# a sequence of continuous values\n",
    "# with different step-size and length.\n",
    "# length.out defines the length of vector.\n",
    "Y <- seq(1, 10, length.out = 5)\n",
    "print('using seq() function')\n",
    "print(Y)\n",
    "\n",
    "# using ':' operator to create\n",
    "# a vector of continuous values.\n",
    "Z <- 5:10\n",
    "print('using colon')\n",
    "print(Y)\n"
   ]
  },
  {
   "cell_type": "code",
   "execution_count": 7,
   "id": "647b09df",
   "metadata": {},
   "outputs": [
    {
     "name": "stdout",
     "output_type": "stream",
     "text": [
      "[1] \"using Subscript operator\"\n",
      "[1] 5\n",
      "[1] \"using c function\"\n",
      "[1] 1 4\n",
      "[1] \"Logical indexing\"\n",
      "[1] 5 4 4\n"
     ]
    }
   ],
   "source": [
    "# Accessing elements using the position number.\n",
    "X <- c(2, 5, 8, 1, 2)\n",
    "print('using Subscript operator')\n",
    "print(X[2])\n",
    "\n",
    "# Accessing specific values by passing\n",
    "# a vector inside another vector.\n",
    "Y <- c(4, 5, 2, 1, 7)\n",
    "print('using c function')\n",
    "print(Y[c(4, 1)])\n",
    "\n",
    "# Logical indexing\n",
    "Z <- c(5, 2, 1, 4, 4, 3)\n",
    "print('Logical indexing')\n",
    "print(Z[Z>3])\n"
   ]
  },
  {
   "cell_type": "code",
   "execution_count": 8,
   "id": "7867ac7a",
   "metadata": {},
   "outputs": [
    {
     "name": "stdout",
     "output_type": "stream",
     "text": [
      "[1] \"Using subscript operator\"\n",
      "[1]  2  5 11  7  8  2\n",
      "[1] \"Logical indexing\"\n",
      "[1] 2 5 0 7 8 2\n",
      "[1] \"using c function\"\n",
      "[1] 8 5 2\n"
     ]
    }
   ],
   "source": [
    "# Creating a vector\n",
    "X <- c(2, 5, 1, 7, 8, 2)\n",
    "\n",
    "# modify a specific element\n",
    "X[3] <- 11\n",
    "print('Using subscript operator')\n",
    "print(X)\n",
    "\n",
    "# Modify using different logics.\n",
    "X[X>9] <- 0\n",
    "print('Logical indexing')\n",
    "print(X)\n",
    "\n",
    "# Modify by specifying the position or elements.\n",
    "X <- X[c(5, 2, 1)]\n",
    "print('using c function')\n",
    "print(X)\n"
   ]
  },
  {
   "cell_type": "code",
   "execution_count": 9,
   "id": "b778f88f",
   "metadata": {},
   "outputs": [
    {
     "name": "stdout",
     "output_type": "stream",
     "text": [
      "[1] \"Deleted vector\"\n",
      "NULL\n"
     ]
    }
   ],
   "source": [
    "# Creating a vector\n",
    "X <- c(5, 2, 1, 6)\n",
    "\n",
    "# Deleting a vector\n",
    "X <- NULL\n",
    "print('Deleted vector')\n",
    "print(X)\n"
   ]
  },
  {
   "cell_type": "code",
   "execution_count": 10,
   "id": "51a17a86",
   "metadata": {},
   "outputs": [
    {
     "name": "stdout",
     "output_type": "stream",
     "text": [
      "[1] \"Addition\"\n",
      "[1] 12 11  6  6 53  3\n",
      "[1] \"Subtraction\"\n",
      "[1] -2 -7  4 -4 49  1\n",
      "[1] \"Multiplication\"\n",
      "[1]  35  18   5   5 102   2\n",
      "[1] \"Division\"\n",
      "[1]  0.7142857  0.2222222  5.0000000  0.2000000 25.5000000  2.0000000\n"
     ]
    }
   ],
   "source": [
    "# Creating Vectors\n",
    "X <- c(5, 2, 5, 1, 51, 2)\n",
    "Y <- c(7, 9, 1, 5, 2, 1)\n",
    "\n",
    "# Addition\n",
    "Z <- X + Y\n",
    "print('Addition')\n",
    "print(Z)\n",
    "\n",
    "# Subtraction\n",
    "S <- X - Y\n",
    "print('Subtraction')\n",
    "print(S)\n",
    "\n",
    "# Multiplication\n",
    "M <- X * Y\n",
    "print('Multiplication')\n",
    "print(M)\n",
    "\n",
    "# Division\n",
    "D <- X / Y\n",
    "print('Division')\n",
    "print(D)\n"
   ]
  },
  {
   "cell_type": "code",
   "execution_count": 11,
   "id": "16a68a15",
   "metadata": {},
   "outputs": [
    {
     "name": "stdout",
     "output_type": "stream",
     "text": [
      "[1] \"sorting done in ascending order\"\n",
      "[1]  1  2  2  5  5 51\n",
      "[1] \"sorting done in descending order\"\n",
      "[1] 51  5  5  2  2  1\n"
     ]
    }
   ],
   "source": [
    "# Creating a Vector\n",
    "X <- c(5, 2, 5, 1, 51, 2)\n",
    "\n",
    "# Sort in ascending order\n",
    "A <- sort(X)\n",
    "print('sorting done in ascending order')\n",
    "print(A)\n",
    "\n",
    "# sort in descending order.\n",
    "B <- sort(X, decreasing = TRUE)\n",
    "print('sorting done in descending order')\n",
    "print(B)\n"
   ]
  },
  {
   "cell_type": "code",
   "execution_count": null,
   "id": "5be753ac",
   "metadata": {},
   "outputs": [],
   "source": []
  }
 ],
 "metadata": {
  "kernelspec": {
   "display_name": "R",
   "language": "R",
   "name": "ir"
  },
  "language_info": {
   "codemirror_mode": "r",
   "file_extension": ".r",
   "mimetype": "text/x-r-source",
   "name": "R",
   "pygments_lexer": "r",
   "version": "3.6.1"
  }
 },
 "nbformat": 4,
 "nbformat_minor": 5
}
