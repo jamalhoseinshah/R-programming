{
 "cells": [
  {
   "cell_type": "code",
   "execution_count": 1,
   "id": "8835311a",
   "metadata": {},
   "outputs": [],
   "source": [
    "library(\"ggplot2\")"
   ]
  },
  {
   "cell_type": "code",
   "execution_count": 2,
   "id": "29a182e2",
   "metadata": {},
   "outputs": [],
   "source": [
    "foo <- c(1.1,2,3.5,3.9,4.2)"
   ]
  },
  {
   "cell_type": "code",
   "execution_count": 3,
   "id": "d1bccfaa",
   "metadata": {},
   "outputs": [],
   "source": [
    " bar <- c(2,2.2,-1.3,0,0.2)\n"
   ]
  },
  {
   "cell_type": "code",
   "execution_count": 4,
   "id": "74f1314a",
   "metadata": {},
   "outputs": [
    {
     "data": {
      "image/png": "[encoded data removed]",
      "text/plain": [
       "plot without title"
      ]
     },
     "metadata": {},
     "output_type": "display_data"
    }
   ],
   "source": [
    "qplot(foo,bar)\n"
   ]
  },
  {
   "cell_type": "code",
   "execution_count": 16,
   "id": "1d066b27",
   "metadata": {},
   "outputs": [
    {
     "name": "stdout",
     "output_type": "stream",
     "text": [
      "\n",
      "  There is a binary version available but the source version is later:\n",
      "         binary  source needs_compilation\n",
      "tseries 0.10-48 0.10-51              TRUE\n",
      "\n",
      "  Binaries will be installed\n",
      "package 'tseries' successfully unpacked and MD5 sums checked\n",
      "\n",
      "The downloaded binary packages are in\n",
      "\tC:\\Users\\jamal\\AppData\\Local\\Temp\\RtmpUD3c1T\\downloaded_packages\n"
     ]
    }
   ],
   "source": [
    "install.packages(\"tseries\")"
   ]
  },
  {
   "cell_type": "code",
   "execution_count": 18,
   "id": "80cbe5a3",
   "metadata": {},
   "outputs": [],
   "source": [
    "library(\"tseries\")"
   ]
  },
  {
   "cell_type": "code",
   "execution_count": 19,
   "id": "c0f8025a",
   "metadata": {},
   "outputs": [],
   "source": [
    "data(ice.river)"
   ]
  },
  {
   "cell_type": "code",
   "execution_count": 20,
   "id": "15ab8cff",
   "metadata": {},
   "outputs": [
    {
     "data": {
      "text/html": [
       "<table>\n",
       "<thead><tr><th scope=col>flow.vat</th><th scope=col>flow.jok</th><th scope=col>prec</th><th scope=col>temp</th></tr></thead>\n",
       "<tbody>\n",
       "\t<tr><td>16.1</td><td>30.2</td><td>8.1 </td><td>0.9 </td></tr>\n",
       "\t<tr><td>19.2</td><td>29.0</td><td>4.4 </td><td>1.6 </td></tr>\n",
       "\t<tr><td>14.5</td><td>28.4</td><td>7.0 </td><td>0.1 </td></tr>\n",
       "\t<tr><td>11.0</td><td>27.8</td><td>0.0 </td><td>0.6 </td></tr>\n",
       "\t<tr><td>13.6</td><td>27.8</td><td>0.0 </td><td>2.0 </td></tr>\n",
       "</tbody>\n",
       "</table>\n"
      ],
      "text/latex": [
       "\\begin{tabular}{llll}\n",
       " flow.vat & flow.jok & prec & temp\\\\\n",
       "\\hline\n",
       "\t 16.1 & 30.2 & 8.1  & 0.9 \\\\\n",
       "\t 19.2 & 29.0 & 4.4  & 1.6 \\\\\n",
       "\t 14.5 & 28.4 & 7.0  & 0.1 \\\\\n",
       "\t 11.0 & 27.8 & 0.0  & 0.6 \\\\\n",
       "\t 13.6 & 27.8 & 0.0  & 2.0 \\\\\n",
       "\\end{tabular}\n"
      ],
      "text/markdown": [
       "\n",
       "| flow.vat | flow.jok | prec | temp |\n",
       "|---|---|---|---|\n",
       "| 16.1 | 30.2 | 8.1  | 0.9  |\n",
       "| 19.2 | 29.0 | 4.4  | 1.6  |\n",
       "| 14.5 | 28.4 | 7.0  | 0.1  |\n",
       "| 11.0 | 27.8 | 0.0  | 0.6  |\n",
       "| 13.6 | 27.8 | 0.0  | 2.0  |\n",
       "\n"
      ],
      "text/plain": [
       "     flow.vat flow.jok prec temp\n",
       "[1,] 16.1     30.2     8.1  0.9 \n",
       "[2,] 19.2     29.0     4.4  1.6 \n",
       "[3,] 14.5     28.4     7.0  0.1 \n",
       "[4,] 11.0     27.8     0.0  0.6 \n",
       "[5,] 13.6     27.8     0.0  2.0 "
      ]
     },
     "metadata": {},
     "output_type": "display_data"
    }
   ],
   "source": [
    " ice.river[1:5,]"
   ]
  },
  {
   "cell_type": "code",
   "execution_count": 21,
   "id": "0f7d380c",
   "metadata": {},
   "outputs": [],
   "source": [
    " mydatafile <- read.table(file=\"/Users/jamal/mydatafile.txt\",\n",
    "header=TRUE,sep=\" \",na.strings=\"*\",\n",
    "stringsAsFactors=FALSE)\n",
    "\n"
   ]
  },
  {
   "cell_type": "code",
   "execution_count": 22,
   "id": "16e02670",
   "metadata": {},
   "outputs": [
    {
     "data": {
      "text/html": [
       "<table>\n",
       "<thead><tr><th scope=col>person</th><th scope=col>age</th><th scope=col>sex</th><th scope=col>funny</th><th scope=col>age.mon</th></tr></thead>\n",
       "<tbody>\n",
       "\t<tr><td>Peter </td><td>NA    </td><td>M     </td><td>High  </td><td>504   </td></tr>\n",
       "\t<tr><td><span style=white-space:pre-wrap>Lois  </span></td><td>40                                            </td><td>F                                             </td><td>&lt;NA&gt;                                    </td><td>480                                           </td></tr>\n",
       "\t<tr><td>Meg   </td><td>17    </td><td>F     </td><td>Low   </td><td>204   </td></tr>\n",
       "\t<tr><td>Chris </td><td>14    </td><td>M     </td><td>Med   </td><td>168   </td></tr>\n",
       "\t<tr><td>Stewie</td><td>1     </td><td>M     </td><td>High  </td><td>NA    </td></tr>\n",
       "\t<tr><td>Brian </td><td>NA    </td><td>M     </td><td>Med   </td><td>NA    </td></tr>\n",
       "</tbody>\n",
       "</table>\n"
      ],
      "text/latex": [
       "\\begin{tabular}{r|lllll}\n",
       " person & age & sex & funny & age.mon\\\\\n",
       "\\hline\n",
       "\t Peter  & NA     & M      & High   & 504   \\\\\n",
       "\t Lois   & 40     & F      & <NA>   & 480   \\\\\n",
       "\t Meg    & 17     & F      & Low    & 204   \\\\\n",
       "\t Chris  & 14     & M      & Med    & 168   \\\\\n",
       "\t Stewie & 1      & M      & High   & NA    \\\\\n",
       "\t Brian  & NA     & M      & Med    & NA    \\\\\n",
       "\\end{tabular}\n"
      ],
      "text/markdown": [
       "\n",
       "| person | age | sex | funny | age.mon |\n",
       "|---|---|---|---|---|\n",
       "| Peter  | NA     | M      | High   | 504    |\n",
       "| Lois   | 40     | F      | <NA>   | 480    |\n",
       "| Meg    | 17     | F      | Low    | 204    |\n",
       "| Chris  | 14     | M      | Med    | 168    |\n",
       "| Stewie | 1      | M      | High   | NA     |\n",
       "| Brian  | NA     | M      | Med    | NA     |\n",
       "\n"
      ],
      "text/plain": [
       "  person age sex funny age.mon\n",
       "1 Peter  NA  M   High  504    \n",
       "2 Lois   40  F   <NA>  480    \n",
       "3 Meg    17  F   Low   204    \n",
       "4 Chris  14  M   Med   168    \n",
       "5 Stewie 1   M   High  NA     \n",
       "6 Brian  NA  M   Med   NA     "
      ]
     },
     "metadata": {},
     "output_type": "display_data"
    }
   ],
   "source": [
    " mydatafile"
   ]
  },
  {
   "cell_type": "code",
   "execution_count": 23,
   "id": "a4b76d41",
   "metadata": {},
   "outputs": [
    {
     "data": {
      "text/html": [
       "<ol class=list-inline>\n",
       "\t<li>' Subsetting in R Programming.ipynb'</li>\n",
       "\t<li>'3D Objects'</li>\n",
       "\t<li>'Aggregate Data table by Group in R.ipynb'</li>\n",
       "\t<li>'Aggregate data.table by Group in R'</li>\n",
       "\t<li>'anaconda3'</li>\n",
       "\t<li>'AppData'</li>\n",
       "\t<li>'Application Data'</li>\n",
       "\t<li>'Appy,tappy,sappy,lappy Examples.ipynb'</li>\n",
       "\t<li>'Basic Text Analysis in R.ipynb'</li>\n",
       "\t<li>'Change Continuous Color Range in ggplot2 Plot in R.ipynb'</li>\n",
       "\t<li>'checking.ipynb'</li>\n",
       "\t<li>'Combine Two Data Frames with Different Variables by Rows in R.ipynb'</li>\n",
       "\t<li>'Contacts'</li>\n",
       "\t<li>'Cookies'</li>\n",
       "\t<li>'Create data table in R.ipynb'</li>\n",
       "\t<li>'Create data.table in R'</li>\n",
       "\t<li>'data'</li>\n",
       "\t<li>'Data Exploration in R.ipynb'</li>\n",
       "\t<li>'Data Manipulation in R.ipynb'</li>\n",
       "\t<li>'Data Visualization in R.ipynb'</li>\n",
       "\t<li>'data_output'</li>\n",
       "\t<li>'Dataset analysis from .csv file'</li>\n",
       "\t<li>'Date &amp; Time examples.ipynb'</li>\n",
       "\t<li>'diamonds.csv'</li>\n",
       "\t<li>'Documents'</li>\n",
       "\t<li>'Downloads'</li>\n",
       "\t<li>'dplyr Package in R .ipynb'</li>\n",
       "\t<li>'Dplyr select filter group arrange join .ipynb'</li>\n",
       "\t<li>'dyplyr mutate transmutate mutate with logical ifelse.ipynb'</li>\n",
       "\t<li>'Exporatory Data Analysis.ipynb'</li>\n",
       "\t<li>'Extract Subset of Data Frame Rows Containing NA in R.ipynb'</li>\n",
       "\t<li>'Favorites'</li>\n",
       "\t<li>'fig_output'</li>\n",
       "\t<li>'ggplot2 Data visualization with R.ipynb'</li>\n",
       "\t<li>'h1b_kaggle.csv'</li>\n",
       "\t<li>'Import Excel Files into R.ipynb'</li>\n",
       "\t<li>'iris(2).data'</li>\n",
       "\t<li>'jamal.csv'</li>\n",
       "\t<li>'jamaldata1.csv'</li>\n",
       "\t<li>'Join Data Frames with Base R vs dplyr.ipynb'</li>\n",
       "\t<li>'Links'</li>\n",
       "\t<li>'Local Settings'</li>\n",
       "\t<li>'Merge Two data table Objects in R .ipynb'</li>\n",
       "\t<li>'Merge Two data.table Objects in R'</li>\n",
       "\t<li>'Music'</li>\n",
       "\t<li><span style=white-space:pre-wrap>'mutate()  with ifelse and grepl functions.ipynb'</span></li>\n",
       "\t<li>'My Documents'</li>\n",
       "\t<li>'mydatafile.txt'</li>\n",
       "\t<li>'NetHood'</li>\n",
       "\t<li>'NTUSER.DAT'</li>\n",
       "\t<li>'ntuser.dat.LOG1'</li>\n",
       "\t<li>'ntuser.dat.LOG2'</li>\n",
       "\t<li>'NTUSER.DAT{53b39e88-18c4-11ea-a811-000d3aa4692b}.TM.blf'</li>\n",
       "\t<li>'NTUSER.DAT{53b39e88-18c4-11ea-a811-000d3aa4692b}.TMContainer00000000000000000001.regtrans-ms'</li>\n",
       "\t<li>'NTUSER.DAT{53b39e88-18c4-11ea-a811-000d3aa4692b}.TMContainer00000000000000000002.regtrans-ms'</li>\n",
       "\t<li>'ntuser.ini'</li>\n",
       "\t<li>'OneDrive'</li>\n",
       "\t<li>'OpenVPN'</li>\n",
       "\t<li>'Operations on Vectors in R.ipynb'</li>\n",
       "\t<li>'PrintHood'</li>\n",
       "\t<li>'Projects R Programming .ipynb'</li>\n",
       "\t<li>'R Merge Multiple Data Frames in List.ipynb'</li>\n",
       "\t<li>'R Pro. Date &amp; Time'</li>\n",
       "\t<li>'R Pro. Split data'</li>\n",
       "\t<li>'R prog- Control Structure Exercise.ipynb'</li>\n",
       "\t<li>'R Prog - Topic Varibles.ipynb'</li>\n",
       "\t<li>'R Prog Top Functions.ipynb'</li>\n",
       "\t<li>'Read Text or CSV File Line by Line.ipynb'</li>\n",
       "\t<li>'Read xlsx &amp; xls Excel File in R.ipynb'</li>\n",
       "\t<li>'Reading Multiple CSV Files from Folder Using for-Loop.ipynb'</li>\n",
       "\t<li>'Recent'</li>\n",
       "\t<li>'Report missing Values in Data Frame in R.ipynb'</li>\n",
       "\t<li>'Reshape Data Frame from Long to Wide Format in R.ipynb'</li>\n",
       "\t<li>'Saved Games'</li>\n",
       "\t<li>'Searches'</li>\n",
       "\t<li>'SendTo'</li>\n",
       "\t<li>'Set Color by Group in ggplot2 Plot in R.ipynb'</li>\n",
       "\t<li>'Sort Data Frame by Multiple Columns in R .ipynb'</li>\n",
       "\t<li>'Sort Data Frame in R.ipynb'</li>\n",
       "\t<li>'Split Data Exercise.ipynb'</li>\n",
       "\t<li>'Start Menu'</li>\n",
       "\t<li>'Templates'</li>\n",
       "\t<li>'The tidy text format dealing with Text.ipynb'</li>\n",
       "\t<li>'Tidy data .ipynb'</li>\n",
       "\t<li>'Tidy Data in R.ipynb'</li>\n",
       "\t<li>'Tidy data principle dealing text in R.ipynb'</li>\n",
       "\t<li>'tidyr Package in R Programming.ipynb'</li>\n",
       "\t<li>'tolower, toupper, casefold &amp; chartr R Functions.ipynb'</li>\n",
       "\t<li>'Untitled.ipynb'</li>\n",
       "\t<li>'Untitled1.ipynb'</li>\n",
       "\t<li>'Untitled10.ipynb'</li>\n",
       "\t<li>'Untitled11.ipynb'</li>\n",
       "\t<li>'Untitled12.ipynb'</li>\n",
       "\t<li>'Untitled13.ipynb'</li>\n",
       "\t<li>'Untitled14.ipynb'</li>\n",
       "\t<li>'Untitled15.ipynb'</li>\n",
       "\t<li>'Untitled16.ipynb'</li>\n",
       "\t<li>'Untitled17.ipynb'</li>\n",
       "\t<li>'Untitled18.ipynb'</li>\n",
       "\t<li>'Untitled19.ipynb'</li>\n",
       "\t<li>'Untitled2.ipynb'</li>\n",
       "\t<li>'Untitled20.ipynb'</li>\n",
       "\t<li>'Untitled21.ipynb'</li>\n",
       "\t<li>'Untitled22.ipynb'</li>\n",
       "\t<li>'Untitled23.ipynb'</li>\n",
       "\t<li>'Untitled24.ipynb'</li>\n",
       "\t<li>'Untitled25.ipynb'</li>\n",
       "\t<li>'Untitled26.ipynb'</li>\n",
       "\t<li>'Untitled27.ipynb'</li>\n",
       "\t<li>'Untitled28.ipynb'</li>\n",
       "\t<li>'Untitled29.ipynb'</li>\n",
       "\t<li>'Untitled3.ipynb'</li>\n",
       "\t<li>'Untitled30.ipynb'</li>\n",
       "\t<li>'Untitled31.ipynb'</li>\n",
       "\t<li>'Untitled32.ipynb'</li>\n",
       "\t<li>'Untitled33.ipynb'</li>\n",
       "\t<li>'Untitled34.ipynb'</li>\n",
       "\t<li>'Untitled35.ipynb'</li>\n",
       "\t<li>'Untitled36.ipynb'</li>\n",
       "\t<li>'Untitled37.ipynb'</li>\n",
       "\t<li>'Untitled38.ipynb'</li>\n",
       "\t<li>'Untitled39.ipynb'</li>\n",
       "\t<li>'Untitled4.ipynb'</li>\n",
       "\t<li>'Untitled40.ipynb'</li>\n",
       "\t<li>'Untitled41.ipynb'</li>\n",
       "\t<li>'Untitled42.ipynb'</li>\n",
       "\t<li>'Untitled43.ipynb'</li>\n",
       "\t<li>'Untitled44.ipynb'</li>\n",
       "\t<li>'Untitled45.ipynb'</li>\n",
       "\t<li>'Untitled46.ipynb'</li>\n",
       "\t<li>'Untitled47.ipynb'</li>\n",
       "\t<li>'Untitled48.ipynb'</li>\n",
       "\t<li>'Untitled49.ipynb'</li>\n",
       "\t<li>'Untitled5.ipynb'</li>\n",
       "\t<li>'Untitled50.ipynb'</li>\n",
       "\t<li>'Untitled51.ipynb'</li>\n",
       "\t<li>'Untitled52.ipynb'</li>\n",
       "\t<li>'Untitled53.ipynb'</li>\n",
       "\t<li>'Untitled54.ipynb'</li>\n",
       "\t<li>'Untitled55.ipynb'</li>\n",
       "\t<li>'Untitled56.ipynb'</li>\n",
       "\t<li>'Untitled57.ipynb'</li>\n",
       "\t<li>'Untitled58.ipynb'</li>\n",
       "\t<li>'Untitled59.ipynb'</li>\n",
       "\t<li>'Untitled6.ipynb'</li>\n",
       "\t<li>'Untitled60.ipynb'</li>\n",
       "\t<li>'Untitled61.ipynb'</li>\n",
       "\t<li>'Untitled62.ipynb'</li>\n",
       "\t<li>'Untitled63.ipynb'</li>\n",
       "\t<li>'Untitled64.ipynb'</li>\n",
       "\t<li>'Untitled65.ipynb'</li>\n",
       "\t<li>'Untitled66.ipynb'</li>\n",
       "\t<li>'Untitled67.ipynb'</li>\n",
       "\t<li>'Untitled68.ipynb'</li>\n",
       "\t<li>'Untitled69.ipynb'</li>\n",
       "\t<li>'Untitled7.ipynb'</li>\n",
       "\t<li>'Untitled70.ipynb'</li>\n",
       "\t<li>'Untitled71.ipynb'</li>\n",
       "\t<li>'Untitled72.ipynb'</li>\n",
       "\t<li>'Untitled73-Copy1.ipynb'</li>\n",
       "\t<li>'Untitled73.ipynb'</li>\n",
       "\t<li>'Untitled74.ipynb'</li>\n",
       "\t<li>'Untitled75.ipynb'</li>\n",
       "\t<li>'Untitled76.ipynb'</li>\n",
       "\t<li>'Untitled77.ipynb'</li>\n",
       "\t<li>'Untitled78.ipynb'</li>\n",
       "\t<li>'Untitled79.ipynb'</li>\n",
       "\t<li>'Untitled8.ipynb'</li>\n",
       "\t<li>'Untitled80.ipynb'</li>\n",
       "\t<li>'Untitled81.ipynb'</li>\n",
       "\t<li>'Untitled82.ipynb'</li>\n",
       "\t<li>'Untitled83.ipynb'</li>\n",
       "\t<li>'Untitled84.ipynb'</li>\n",
       "\t<li>'Untitled85.ipynb'</li>\n",
       "\t<li>'Untitled86.ipynb'</li>\n",
       "\t<li>'Untitled87.ipynb'</li>\n",
       "\t<li>'Untitled88.ipynb'</li>\n",
       "\t<li>'Untitled89.ipynb'</li>\n",
       "\t<li>'Untitled9.ipynb'</li>\n",
       "\t<li>'Untitled90.ipynb'</li>\n",
       "\t<li>'Untitled91.ipynb'</li>\n",
       "\t<li>'Untitled92.ipynb'</li>\n",
       "\t<li>'Untitled93.ipynb'</li>\n",
       "\t<li>'Untitled94.ipynb'</li>\n",
       "\t<li>'Using MySQL with R.ipynb'</li>\n",
       "\t<li>'Videos'</li>\n",
       "\t<li>'VirtualBox VMs'</li>\n",
       "\t<li>'Web Scraping by Rvest R Prog'</li>\n",
       "\t<li>'Web scraping by using Rvest .ipynb'</li>\n",
       "\t<li>'Web Scraping Rvest R prog.ipynb'</li>\n",
       "\t<li>'Web scraping.ipynb'</li>\n",
       "</ol>\n"
      ],
      "text/latex": [
       "\\begin{enumerate*}\n",
       "\\item ' Subsetting in R Programming.ipynb'\n",
       "\\item '3D Objects'\n",
       "\\item 'Aggregate Data table by Group in R.ipynb'\n",
       "\\item 'Aggregate data.table by Group in R'\n",
       "\\item 'anaconda3'\n",
       "\\item 'AppData'\n",
       "\\item 'Application Data'\n",
       "\\item 'Appy,tappy,sappy,lappy Examples.ipynb'\n",
       "\\item 'Basic Text Analysis in R.ipynb'\n",
       "\\item 'Change Continuous Color Range in ggplot2 Plot in R.ipynb'\n",
       "\\item 'checking.ipynb'\n",
       "\\item 'Combine Two Data Frames with Different Variables by Rows in R.ipynb'\n",
       "\\item 'Contacts'\n",
       "\\item 'Cookies'\n",
       "\\item 'Create data table in R.ipynb'\n",
       "\\item 'Create data.table in R'\n",
       "\\item 'data'\n",
       "\\item 'Data Exploration in R.ipynb'\n",
       "\\item 'Data Manipulation in R.ipynb'\n",
       "\\item 'Data Visualization in R.ipynb'\n",
       "\\item 'data\\_output'\n",
       "\\item 'Dataset analysis from .csv file'\n",
       "\\item 'Date \\& Time examples.ipynb'\n",
       "\\item 'diamonds.csv'\n",
       "\\item 'Documents'\n",
       "\\item 'Downloads'\n",
       "\\item 'dplyr Package in R .ipynb'\n",
       "\\item 'Dplyr select filter group arrange join .ipynb'\n",
       "\\item 'dyplyr mutate transmutate mutate with logical ifelse.ipynb'\n",
       "\\item 'Exporatory Data Analysis.ipynb'\n",
       "\\item 'Extract Subset of Data Frame Rows Containing NA in R.ipynb'\n",
       "\\item 'Favorites'\n",
       "\\item 'fig\\_output'\n",
       "\\item 'ggplot2 Data visualization with R.ipynb'\n",
       "\\item 'h1b\\_kaggle.csv'\n",
       "\\item 'Import Excel Files into R.ipynb'\n",
       "\\item 'iris(2).data'\n",
       "\\item 'jamal.csv'\n",
       "\\item 'jamaldata1.csv'\n",
       "\\item 'Join Data Frames with Base R vs dplyr.ipynb'\n",
       "\\item 'Links'\n",
       "\\item 'Local Settings'\n",
       "\\item 'Merge Two data table Objects in R .ipynb'\n",
       "\\item 'Merge Two data.table Objects in R'\n",
       "\\item 'Music'\n",
       "\\item 'mutate()  with ifelse and grepl functions.ipynb'\n",
       "\\item 'My Documents'\n",
       "\\item 'mydatafile.txt'\n",
       "\\item 'NetHood'\n",
       "\\item 'NTUSER.DAT'\n",
       "\\item 'ntuser.dat.LOG1'\n",
       "\\item 'ntuser.dat.LOG2'\n",
       "\\item 'NTUSER.DAT\\{53b39e88-18c4-11ea-a811-000d3aa4692b\\}.TM.blf'\n",
       "\\item 'NTUSER.DAT\\{53b39e88-18c4-11ea-a811-000d3aa4692b\\}.TMContainer00000000000000000001.regtrans-ms'\n",
       "\\item 'NTUSER.DAT\\{53b39e88-18c4-11ea-a811-000d3aa4692b\\}.TMContainer00000000000000000002.regtrans-ms'\n",
       "\\item 'ntuser.ini'\n",
       "\\item 'OneDrive'\n",
       "\\item 'OpenVPN'\n",
       "\\item 'Operations on Vectors in R.ipynb'\n",
       "\\item 'PrintHood'\n",
       "\\item 'Projects R Programming .ipynb'\n",
       "\\item 'R Merge Multiple Data Frames in List.ipynb'\n",
       "\\item 'R Pro. Date \\& Time'\n",
       "\\item 'R Pro. Split data'\n",
       "\\item 'R prog- Control Structure Exercise.ipynb'\n",
       "\\item 'R Prog - Topic Varibles.ipynb'\n",
       "\\item 'R Prog Top Functions.ipynb'\n",
       "\\item 'Read Text or CSV File Line by Line.ipynb'\n",
       "\\item 'Read xlsx \\& xls Excel File in R.ipynb'\n",
       "\\item 'Reading Multiple CSV Files from Folder Using for-Loop.ipynb'\n",
       "\\item 'Recent'\n",
       "\\item 'Report missing Values in Data Frame in R.ipynb'\n",
       "\\item 'Reshape Data Frame from Long to Wide Format in R.ipynb'\n",
       "\\item 'Saved Games'\n",
       "\\item 'Searches'\n",
       "\\item 'SendTo'\n",
       "\\item 'Set Color by Group in ggplot2 Plot in R.ipynb'\n",
       "\\item 'Sort Data Frame by Multiple Columns in R .ipynb'\n",
       "\\item 'Sort Data Frame in R.ipynb'\n",
       "\\item 'Split Data Exercise.ipynb'\n",
       "\\item 'Start Menu'\n",
       "\\item 'Templates'\n",
       "\\item 'The tidy text format dealing with Text.ipynb'\n",
       "\\item 'Tidy data .ipynb'\n",
       "\\item 'Tidy Data in R.ipynb'\n",
       "\\item 'Tidy data principle dealing text in R.ipynb'\n",
       "\\item 'tidyr Package in R Programming.ipynb'\n",
       "\\item 'tolower, toupper, casefold \\& chartr R Functions.ipynb'\n",
       "\\item 'Untitled.ipynb'\n",
       "\\item 'Untitled1.ipynb'\n",
       "\\item 'Untitled10.ipynb'\n",
       "\\item 'Untitled11.ipynb'\n",
       "\\item 'Untitled12.ipynb'\n",
       "\\item 'Untitled13.ipynb'\n",
       "\\item 'Untitled14.ipynb'\n",
       "\\item 'Untitled15.ipynb'\n",
       "\\item 'Untitled16.ipynb'\n",
       "\\item 'Untitled17.ipynb'\n",
       "\\item 'Untitled18.ipynb'\n",
       "\\item 'Untitled19.ipynb'\n",
       "\\item 'Untitled2.ipynb'\n",
       "\\item 'Untitled20.ipynb'\n",
       "\\item 'Untitled21.ipynb'\n",
       "\\item 'Untitled22.ipynb'\n",
       "\\item 'Untitled23.ipynb'\n",
       "\\item 'Untitled24.ipynb'\n",
       "\\item 'Untitled25.ipynb'\n",
       "\\item 'Untitled26.ipynb'\n",
       "\\item 'Untitled27.ipynb'\n",
       "\\item 'Untitled28.ipynb'\n",
       "\\item 'Untitled29.ipynb'\n",
       "\\item 'Untitled3.ipynb'\n",
       "\\item 'Untitled30.ipynb'\n",
       "\\item 'Untitled31.ipynb'\n",
       "\\item 'Untitled32.ipynb'\n",
       "\\item 'Untitled33.ipynb'\n",
       "\\item 'Untitled34.ipynb'\n",
       "\\item 'Untitled35.ipynb'\n",
       "\\item 'Untitled36.ipynb'\n",
       "\\item 'Untitled37.ipynb'\n",
       "\\item 'Untitled38.ipynb'\n",
       "\\item 'Untitled39.ipynb'\n",
       "\\item 'Untitled4.ipynb'\n",
       "\\item 'Untitled40.ipynb'\n",
       "\\item 'Untitled41.ipynb'\n",
       "\\item 'Untitled42.ipynb'\n",
       "\\item 'Untitled43.ipynb'\n",
       "\\item 'Untitled44.ipynb'\n",
       "\\item 'Untitled45.ipynb'\n",
       "\\item 'Untitled46.ipynb'\n",
       "\\item 'Untitled47.ipynb'\n",
       "\\item 'Untitled48.ipynb'\n",
       "\\item 'Untitled49.ipynb'\n",
       "\\item 'Untitled5.ipynb'\n",
       "\\item 'Untitled50.ipynb'\n",
       "\\item 'Untitled51.ipynb'\n",
       "\\item 'Untitled52.ipynb'\n",
       "\\item 'Untitled53.ipynb'\n",
       "\\item 'Untitled54.ipynb'\n",
       "\\item 'Untitled55.ipynb'\n",
       "\\item 'Untitled56.ipynb'\n",
       "\\item 'Untitled57.ipynb'\n",
       "\\item 'Untitled58.ipynb'\n",
       "\\item 'Untitled59.ipynb'\n",
       "\\item 'Untitled6.ipynb'\n",
       "\\item 'Untitled60.ipynb'\n",
       "\\item 'Untitled61.ipynb'\n",
       "\\item 'Untitled62.ipynb'\n",
       "\\item 'Untitled63.ipynb'\n",
       "\\item 'Untitled64.ipynb'\n",
       "\\item 'Untitled65.ipynb'\n",
       "\\item 'Untitled66.ipynb'\n",
       "\\item 'Untitled67.ipynb'\n",
       "\\item 'Untitled68.ipynb'\n",
       "\\item 'Untitled69.ipynb'\n",
       "\\item 'Untitled7.ipynb'\n",
       "\\item 'Untitled70.ipynb'\n",
       "\\item 'Untitled71.ipynb'\n",
       "\\item 'Untitled72.ipynb'\n",
       "\\item 'Untitled73-Copy1.ipynb'\n",
       "\\item 'Untitled73.ipynb'\n",
       "\\item 'Untitled74.ipynb'\n",
       "\\item 'Untitled75.ipynb'\n",
       "\\item 'Untitled76.ipynb'\n",
       "\\item 'Untitled77.ipynb'\n",
       "\\item 'Untitled78.ipynb'\n",
       "\\item 'Untitled79.ipynb'\n",
       "\\item 'Untitled8.ipynb'\n",
       "\\item 'Untitled80.ipynb'\n",
       "\\item 'Untitled81.ipynb'\n",
       "\\item 'Untitled82.ipynb'\n",
       "\\item 'Untitled83.ipynb'\n",
       "\\item 'Untitled84.ipynb'\n",
       "\\item 'Untitled85.ipynb'\n",
       "\\item 'Untitled86.ipynb'\n",
       "\\item 'Untitled87.ipynb'\n",
       "\\item 'Untitled88.ipynb'\n",
       "\\item 'Untitled89.ipynb'\n",
       "\\item 'Untitled9.ipynb'\n",
       "\\item 'Untitled90.ipynb'\n",
       "\\item 'Untitled91.ipynb'\n",
       "\\item 'Untitled92.ipynb'\n",
       "\\item 'Untitled93.ipynb'\n",
       "\\item 'Untitled94.ipynb'\n",
       "\\item 'Using MySQL with R.ipynb'\n",
       "\\item 'Videos'\n",
       "\\item 'VirtualBox VMs'\n",
       "\\item 'Web Scraping by Rvest R Prog'\n",
       "\\item 'Web scraping by using Rvest .ipynb'\n",
       "\\item 'Web Scraping Rvest R prog.ipynb'\n",
       "\\item 'Web scraping.ipynb'\n",
       "\\end{enumerate*}\n"
      ],
      "text/markdown": [
       "1. ' Subsetting in R Programming.ipynb'\n",
       "2. '3D Objects'\n",
       "3. 'Aggregate Data table by Group in R.ipynb'\n",
       "4. 'Aggregate data.table by Group in R'\n",
       "5. 'anaconda3'\n",
       "6. 'AppData'\n",
       "7. 'Application Data'\n",
       "8. 'Appy,tappy,sappy,lappy Examples.ipynb'\n",
       "9. 'Basic Text Analysis in R.ipynb'\n",
       "10. 'Change Continuous Color Range in ggplot2 Plot in R.ipynb'\n",
       "11. 'checking.ipynb'\n",
       "12. 'Combine Two Data Frames with Different Variables by Rows in R.ipynb'\n",
       "13. 'Contacts'\n",
       "14. 'Cookies'\n",
       "15. 'Create data table in R.ipynb'\n",
       "16. 'Create data.table in R'\n",
       "17. 'data'\n",
       "18. 'Data Exploration in R.ipynb'\n",
       "19. 'Data Manipulation in R.ipynb'\n",
       "20. 'Data Visualization in R.ipynb'\n",
       "21. 'data_output'\n",
       "22. 'Dataset analysis from .csv file'\n",
       "23. 'Date &amp; Time examples.ipynb'\n",
       "24. 'diamonds.csv'\n",
       "25. 'Documents'\n",
       "26. 'Downloads'\n",
       "27. 'dplyr Package in R .ipynb'\n",
       "28. 'Dplyr select filter group arrange join .ipynb'\n",
       "29. 'dyplyr mutate transmutate mutate with logical ifelse.ipynb'\n",
       "30. 'Exporatory Data Analysis.ipynb'\n",
       "31. 'Extract Subset of Data Frame Rows Containing NA in R.ipynb'\n",
       "32. 'Favorites'\n",
       "33. 'fig_output'\n",
       "34. 'ggplot2 Data visualization with R.ipynb'\n",
       "35. 'h1b_kaggle.csv'\n",
       "36. 'Import Excel Files into R.ipynb'\n",
       "37. 'iris(2).data'\n",
       "38. 'jamal.csv'\n",
       "39. 'jamaldata1.csv'\n",
       "40. 'Join Data Frames with Base R vs dplyr.ipynb'\n",
       "41. 'Links'\n",
       "42. 'Local Settings'\n",
       "43. 'Merge Two data table Objects in R .ipynb'\n",
       "44. 'Merge Two data.table Objects in R'\n",
       "45. 'Music'\n",
       "46. <span style=white-space:pre-wrap>'mutate()  with ifelse and grepl functions.ipynb'</span>\n",
       "47. 'My Documents'\n",
       "48. 'mydatafile.txt'\n",
       "49. 'NetHood'\n",
       "50. 'NTUSER.DAT'\n",
       "51. 'ntuser.dat.LOG1'\n",
       "52. 'ntuser.dat.LOG2'\n",
       "53. 'NTUSER.DAT{53b39e88-18c4-11ea-a811-000d3aa4692b}.TM.blf'\n",
       "54. 'NTUSER.DAT{53b39e88-18c4-11ea-a811-000d3aa4692b}.TMContainer00000000000000000001.regtrans-ms'\n",
       "55. 'NTUSER.DAT{53b39e88-18c4-11ea-a811-000d3aa4692b}.TMContainer00000000000000000002.regtrans-ms'\n",
       "56. 'ntuser.ini'\n",
       "57. 'OneDrive'\n",
       "58. 'OpenVPN'\n",
       "59. 'Operations on Vectors in R.ipynb'\n",
       "60. 'PrintHood'\n",
       "61. 'Projects R Programming .ipynb'\n",
       "62. 'R Merge Multiple Data Frames in List.ipynb'\n",
       "63. 'R Pro. Date &amp; Time'\n",
       "64. 'R Pro. Split data'\n",
       "65. 'R prog- Control Structure Exercise.ipynb'\n",
       "66. 'R Prog - Topic Varibles.ipynb'\n",
       "67. 'R Prog Top Functions.ipynb'\n",
       "68. 'Read Text or CSV File Line by Line.ipynb'\n",
       "69. 'Read xlsx &amp; xls Excel File in R.ipynb'\n",
       "70. 'Reading Multiple CSV Files from Folder Using for-Loop.ipynb'\n",
       "71. 'Recent'\n",
       "72. 'Report missing Values in Data Frame in R.ipynb'\n",
       "73. 'Reshape Data Frame from Long to Wide Format in R.ipynb'\n",
       "74. 'Saved Games'\n",
       "75. 'Searches'\n",
       "76. 'SendTo'\n",
       "77. 'Set Color by Group in ggplot2 Plot in R.ipynb'\n",
       "78. 'Sort Data Frame by Multiple Columns in R .ipynb'\n",
       "79. 'Sort Data Frame in R.ipynb'\n",
       "80. 'Split Data Exercise.ipynb'\n",
       "81. 'Start Menu'\n",
       "82. 'Templates'\n",
       "83. 'The tidy text format dealing with Text.ipynb'\n",
       "84. 'Tidy data .ipynb'\n",
       "85. 'Tidy Data in R.ipynb'\n",
       "86. 'Tidy data principle dealing text in R.ipynb'\n",
       "87. 'tidyr Package in R Programming.ipynb'\n",
       "88. 'tolower, toupper, casefold &amp; chartr R Functions.ipynb'\n",
       "89. 'Untitled.ipynb'\n",
       "90. 'Untitled1.ipynb'\n",
       "91. 'Untitled10.ipynb'\n",
       "92. 'Untitled11.ipynb'\n",
       "93. 'Untitled12.ipynb'\n",
       "94. 'Untitled13.ipynb'\n",
       "95. 'Untitled14.ipynb'\n",
       "96. 'Untitled15.ipynb'\n",
       "97. 'Untitled16.ipynb'\n",
       "98. 'Untitled17.ipynb'\n",
       "99. 'Untitled18.ipynb'\n",
       "100. 'Untitled19.ipynb'\n",
       "101. 'Untitled2.ipynb'\n",
       "102. 'Untitled20.ipynb'\n",
       "103. 'Untitled21.ipynb'\n",
       "104. 'Untitled22.ipynb'\n",
       "105. 'Untitled23.ipynb'\n",
       "106. 'Untitled24.ipynb'\n",
       "107. 'Untitled25.ipynb'\n",
       "108. 'Untitled26.ipynb'\n",
       "109. 'Untitled27.ipynb'\n",
       "110. 'Untitled28.ipynb'\n",
       "111. 'Untitled29.ipynb'\n",
       "112. 'Untitled3.ipynb'\n",
       "113. 'Untitled30.ipynb'\n",
       "114. 'Untitled31.ipynb'\n",
       "115. 'Untitled32.ipynb'\n",
       "116. 'Untitled33.ipynb'\n",
       "117. 'Untitled34.ipynb'\n",
       "118. 'Untitled35.ipynb'\n",
       "119. 'Untitled36.ipynb'\n",
       "120. 'Untitled37.ipynb'\n",
       "121. 'Untitled38.ipynb'\n",
       "122. 'Untitled39.ipynb'\n",
       "123. 'Untitled4.ipynb'\n",
       "124. 'Untitled40.ipynb'\n",
       "125. 'Untitled41.ipynb'\n",
       "126. 'Untitled42.ipynb'\n",
       "127. 'Untitled43.ipynb'\n",
       "128. 'Untitled44.ipynb'\n",
       "129. 'Untitled45.ipynb'\n",
       "130. 'Untitled46.ipynb'\n",
       "131. 'Untitled47.ipynb'\n",
       "132. 'Untitled48.ipynb'\n",
       "133. 'Untitled49.ipynb'\n",
       "134. 'Untitled5.ipynb'\n",
       "135. 'Untitled50.ipynb'\n",
       "136. 'Untitled51.ipynb'\n",
       "137. 'Untitled52.ipynb'\n",
       "138. 'Untitled53.ipynb'\n",
       "139. 'Untitled54.ipynb'\n",
       "140. 'Untitled55.ipynb'\n",
       "141. 'Untitled56.ipynb'\n",
       "142. 'Untitled57.ipynb'\n",
       "143. 'Untitled58.ipynb'\n",
       "144. 'Untitled59.ipynb'\n",
       "145. 'Untitled6.ipynb'\n",
       "146. 'Untitled60.ipynb'\n",
       "147. 'Untitled61.ipynb'\n",
       "148. 'Untitled62.ipynb'\n",
       "149. 'Untitled63.ipynb'\n",
       "150. 'Untitled64.ipynb'\n",
       "151. 'Untitled65.ipynb'\n",
       "152. 'Untitled66.ipynb'\n",
       "153. 'Untitled67.ipynb'\n",
       "154. 'Untitled68.ipynb'\n",
       "155. 'Untitled69.ipynb'\n",
       "156. 'Untitled7.ipynb'\n",
       "157. 'Untitled70.ipynb'\n",
       "158. 'Untitled71.ipynb'\n",
       "159. 'Untitled72.ipynb'\n",
       "160. 'Untitled73-Copy1.ipynb'\n",
       "161. 'Untitled73.ipynb'\n",
       "162. 'Untitled74.ipynb'\n",
       "163. 'Untitled75.ipynb'\n",
       "164. 'Untitled76.ipynb'\n",
       "165. 'Untitled77.ipynb'\n",
       "166. 'Untitled78.ipynb'\n",
       "167. 'Untitled79.ipynb'\n",
       "168. 'Untitled8.ipynb'\n",
       "169. 'Untitled80.ipynb'\n",
       "170. 'Untitled81.ipynb'\n",
       "171. 'Untitled82.ipynb'\n",
       "172. 'Untitled83.ipynb'\n",
       "173. 'Untitled84.ipynb'\n",
       "174. 'Untitled85.ipynb'\n",
       "175. 'Untitled86.ipynb'\n",
       "176. 'Untitled87.ipynb'\n",
       "177. 'Untitled88.ipynb'\n",
       "178. 'Untitled89.ipynb'\n",
       "179. 'Untitled9.ipynb'\n",
       "180. 'Untitled90.ipynb'\n",
       "181. 'Untitled91.ipynb'\n",
       "182. 'Untitled92.ipynb'\n",
       "183. 'Untitled93.ipynb'\n",
       "184. 'Untitled94.ipynb'\n",
       "185. 'Using MySQL with R.ipynb'\n",
       "186. 'Videos'\n",
       "187. 'VirtualBox VMs'\n",
       "188. 'Web Scraping by Rvest R Prog'\n",
       "189. 'Web scraping by using Rvest .ipynb'\n",
       "190. 'Web Scraping Rvest R prog.ipynb'\n",
       "191. 'Web scraping.ipynb'\n",
       "\n",
       "\n"
      ],
      "text/plain": [
       "  [1] \" Subsetting in R Programming.ipynb\"                                                          \n",
       "  [2] \"3D Objects\"                                                                                  \n",
       "  [3] \"Aggregate Data table by Group in R.ipynb\"                                                    \n",
       "  [4] \"Aggregate data.table by Group in R\"                                                          \n",
       "  [5] \"anaconda3\"                                                                                   \n",
       "  [6] \"AppData\"                                                                                     \n",
       "  [7] \"Application Data\"                                                                            \n",
       "  [8] \"Appy,tappy,sappy,lappy Examples.ipynb\"                                                       \n",
       "  [9] \"Basic Text Analysis in R.ipynb\"                                                              \n",
       " [10] \"Change Continuous Color Range in ggplot2 Plot in R.ipynb\"                                    \n",
       " [11] \"checking.ipynb\"                                                                              \n",
       " [12] \"Combine Two Data Frames with Different Variables by Rows in R.ipynb\"                         \n",
       " [13] \"Contacts\"                                                                                    \n",
       " [14] \"Cookies\"                                                                                     \n",
       " [15] \"Create data table in R.ipynb\"                                                                \n",
       " [16] \"Create data.table in R\"                                                                      \n",
       " [17] \"data\"                                                                                        \n",
       " [18] \"Data Exploration in R.ipynb\"                                                                 \n",
       " [19] \"Data Manipulation in R.ipynb\"                                                                \n",
       " [20] \"Data Visualization in R.ipynb\"                                                               \n",
       " [21] \"data_output\"                                                                                 \n",
       " [22] \"Dataset analysis from .csv file\"                                                             \n",
       " [23] \"Date & Time examples.ipynb\"                                                                  \n",
       " [24] \"diamonds.csv\"                                                                                \n",
       " [25] \"Documents\"                                                                                   \n",
       " [26] \"Downloads\"                                                                                   \n",
       " [27] \"dplyr Package in R .ipynb\"                                                                   \n",
       " [28] \"Dplyr select filter group arrange join .ipynb\"                                               \n",
       " [29] \"dyplyr mutate transmutate mutate with logical ifelse.ipynb\"                                  \n",
       " [30] \"Exporatory Data Analysis.ipynb\"                                                              \n",
       " [31] \"Extract Subset of Data Frame Rows Containing NA in R.ipynb\"                                  \n",
       " [32] \"Favorites\"                                                                                   \n",
       " [33] \"fig_output\"                                                                                  \n",
       " [34] \"ggplot2 Data visualization with R.ipynb\"                                                     \n",
       " [35] \"h1b_kaggle.csv\"                                                                              \n",
       " [36] \"Import Excel Files into R.ipynb\"                                                             \n",
       " [37] \"iris(2).data\"                                                                                \n",
       " [38] \"jamal.csv\"                                                                                   \n",
       " [39] \"jamaldata1.csv\"                                                                              \n",
       " [40] \"Join Data Frames with Base R vs dplyr.ipynb\"                                                 \n",
       " [41] \"Links\"                                                                                       \n",
       " [42] \"Local Settings\"                                                                              \n",
       " [43] \"Merge Two data table Objects in R .ipynb\"                                                    \n",
       " [44] \"Merge Two data.table Objects in R\"                                                           \n",
       " [45] \"Music\"                                                                                       \n",
       " [46] \"mutate()  with ifelse and grepl functions.ipynb\"                                             \n",
       " [47] \"My Documents\"                                                                                \n",
       " [48] \"mydatafile.txt\"                                                                              \n",
       " [49] \"NetHood\"                                                                                     \n",
       " [50] \"NTUSER.DAT\"                                                                                  \n",
       " [51] \"ntuser.dat.LOG1\"                                                                             \n",
       " [52] \"ntuser.dat.LOG2\"                                                                             \n",
       " [53] \"NTUSER.DAT{53b39e88-18c4-11ea-a811-000d3aa4692b}.TM.blf\"                                     \n",
       " [54] \"NTUSER.DAT{53b39e88-18c4-11ea-a811-000d3aa4692b}.TMContainer00000000000000000001.regtrans-ms\"\n",
       " [55] \"NTUSER.DAT{53b39e88-18c4-11ea-a811-000d3aa4692b}.TMContainer00000000000000000002.regtrans-ms\"\n",
       " [56] \"ntuser.ini\"                                                                                  \n",
       " [57] \"OneDrive\"                                                                                    \n",
       " [58] \"OpenVPN\"                                                                                     \n",
       " [59] \"Operations on Vectors in R.ipynb\"                                                            \n",
       " [60] \"PrintHood\"                                                                                   \n",
       " [61] \"Projects R Programming .ipynb\"                                                               \n",
       " [62] \"R Merge Multiple Data Frames in List.ipynb\"                                                  \n",
       " [63] \"R Pro. Date & Time\"                                                                          \n",
       " [64] \"R Pro. Split data\"                                                                           \n",
       " [65] \"R prog- Control Structure Exercise.ipynb\"                                                    \n",
       " [66] \"R Prog - Topic Varibles.ipynb\"                                                               \n",
       " [67] \"R Prog Top Functions.ipynb\"                                                                  \n",
       " [68] \"Read Text or CSV File Line by Line.ipynb\"                                                    \n",
       " [69] \"Read xlsx & xls Excel File in R.ipynb\"                                                       \n",
       " [70] \"Reading Multiple CSV Files from Folder Using for-Loop.ipynb\"                                 \n",
       " [71] \"Recent\"                                                                                      \n",
       " [72] \"Report missing Values in Data Frame in R.ipynb\"                                              \n",
       " [73] \"Reshape Data Frame from Long to Wide Format in R.ipynb\"                                      \n",
       " [74] \"Saved Games\"                                                                                 \n",
       " [75] \"Searches\"                                                                                    \n",
       " [76] \"SendTo\"                                                                                      \n",
       " [77] \"Set Color by Group in ggplot2 Plot in R.ipynb\"                                               \n",
       " [78] \"Sort Data Frame by Multiple Columns in R .ipynb\"                                             \n",
       " [79] \"Sort Data Frame in R.ipynb\"                                                                  \n",
       " [80] \"Split Data Exercise.ipynb\"                                                                   \n",
       " [81] \"Start Menu\"                                                                                  \n",
       " [82] \"Templates\"                                                                                   \n",
       " [83] \"The tidy text format dealing with Text.ipynb\"                                                \n",
       " [84] \"Tidy data .ipynb\"                                                                            \n",
       " [85] \"Tidy Data in R.ipynb\"                                                                        \n",
       " [86] \"Tidy data principle dealing text in R.ipynb\"                                                 \n",
       " [87] \"tidyr Package in R Programming.ipynb\"                                                        \n",
       " [88] \"tolower, toupper, casefold & chartr R Functions.ipynb\"                                       \n",
       " [89] \"Untitled.ipynb\"                                                                              \n",
       " [90] \"Untitled1.ipynb\"                                                                             \n",
       " [91] \"Untitled10.ipynb\"                                                                            \n",
       " [92] \"Untitled11.ipynb\"                                                                            \n",
       " [93] \"Untitled12.ipynb\"                                                                            \n",
       " [94] \"Untitled13.ipynb\"                                                                            \n",
       " [95] \"Untitled14.ipynb\"                                                                            \n",
       " [96] \"Untitled15.ipynb\"                                                                            \n",
       " [97] \"Untitled16.ipynb\"                                                                            \n",
       " [98] \"Untitled17.ipynb\"                                                                            \n",
       " [99] \"Untitled18.ipynb\"                                                                            \n",
       "[100] \"Untitled19.ipynb\"                                                                            \n",
       "[101] \"Untitled2.ipynb\"                                                                             \n",
       "[102] \"Untitled20.ipynb\"                                                                            \n",
       "[103] \"Untitled21.ipynb\"                                                                            \n",
       "[104] \"Untitled22.ipynb\"                                                                            \n",
       "[105] \"Untitled23.ipynb\"                                                                            \n",
       "[106] \"Untitled24.ipynb\"                                                                            \n",
       "[107] \"Untitled25.ipynb\"                                                                            \n",
       "[108] \"Untitled26.ipynb\"                                                                            \n",
       "[109] \"Untitled27.ipynb\"                                                                            \n",
       "[110] \"Untitled28.ipynb\"                                                                            \n",
       "[111] \"Untitled29.ipynb\"                                                                            \n",
       "[112] \"Untitled3.ipynb\"                                                                             \n",
       "[113] \"Untitled30.ipynb\"                                                                            \n",
       "[114] \"Untitled31.ipynb\"                                                                            \n",
       "[115] \"Untitled32.ipynb\"                                                                            \n",
       "[116] \"Untitled33.ipynb\"                                                                            \n",
       "[117] \"Untitled34.ipynb\"                                                                            \n",
       "[118] \"Untitled35.ipynb\"                                                                            \n",
       "[119] \"Untitled36.ipynb\"                                                                            \n",
       "[120] \"Untitled37.ipynb\"                                                                            \n",
       "[121] \"Untitled38.ipynb\"                                                                            \n",
       "[122] \"Untitled39.ipynb\"                                                                            \n",
       "[123] \"Untitled4.ipynb\"                                                                             \n",
       "[124] \"Untitled40.ipynb\"                                                                            \n",
       "[125] \"Untitled41.ipynb\"                                                                            \n",
       "[126] \"Untitled42.ipynb\"                                                                            \n",
       "[127] \"Untitled43.ipynb\"                                                                            \n",
       "[128] \"Untitled44.ipynb\"                                                                            \n",
       "[129] \"Untitled45.ipynb\"                                                                            \n",
       "[130] \"Untitled46.ipynb\"                                                                            \n",
       "[131] \"Untitled47.ipynb\"                                                                            \n",
       "[132] \"Untitled48.ipynb\"                                                                            \n",
       "[133] \"Untitled49.ipynb\"                                                                            \n",
       "[134] \"Untitled5.ipynb\"                                                                             \n",
       "[135] \"Untitled50.ipynb\"                                                                            \n",
       "[136] \"Untitled51.ipynb\"                                                                            \n",
       "[137] \"Untitled52.ipynb\"                                                                            \n",
       "[138] \"Untitled53.ipynb\"                                                                            \n",
       "[139] \"Untitled54.ipynb\"                                                                            \n",
       "[140] \"Untitled55.ipynb\"                                                                            \n",
       "[141] \"Untitled56.ipynb\"                                                                            \n",
       "[142] \"Untitled57.ipynb\"                                                                            \n",
       "[143] \"Untitled58.ipynb\"                                                                            \n",
       "[144] \"Untitled59.ipynb\"                                                                            \n",
       "[145] \"Untitled6.ipynb\"                                                                             \n",
       "[146] \"Untitled60.ipynb\"                                                                            \n",
       "[147] \"Untitled61.ipynb\"                                                                            \n",
       "[148] \"Untitled62.ipynb\"                                                                            \n",
       "[149] \"Untitled63.ipynb\"                                                                            \n",
       "[150] \"Untitled64.ipynb\"                                                                            \n",
       "[151] \"Untitled65.ipynb\"                                                                            \n",
       "[152] \"Untitled66.ipynb\"                                                                            \n",
       "[153] \"Untitled67.ipynb\"                                                                            \n",
       "[154] \"Untitled68.ipynb\"                                                                            \n",
       "[155] \"Untitled69.ipynb\"                                                                            \n",
       "[156] \"Untitled7.ipynb\"                                                                             \n",
       "[157] \"Untitled70.ipynb\"                                                                            \n",
       "[158] \"Untitled71.ipynb\"                                                                            \n",
       "[159] \"Untitled72.ipynb\"                                                                            \n",
       "[160] \"Untitled73-Copy1.ipynb\"                                                                      \n",
       "[161] \"Untitled73.ipynb\"                                                                            \n",
       "[162] \"Untitled74.ipynb\"                                                                            \n",
       "[163] \"Untitled75.ipynb\"                                                                            \n",
       "[164] \"Untitled76.ipynb\"                                                                            \n",
       "[165] \"Untitled77.ipynb\"                                                                            \n",
       "[166] \"Untitled78.ipynb\"                                                                            \n",
       "[167] \"Untitled79.ipynb\"                                                                            \n",
       "[168] \"Untitled8.ipynb\"                                                                             \n",
       "[169] \"Untitled80.ipynb\"                                                                            \n",
       "[170] \"Untitled81.ipynb\"                                                                            \n",
       "[171] \"Untitled82.ipynb\"                                                                            \n",
       "[172] \"Untitled83.ipynb\"                                                                            \n",
       "[173] \"Untitled84.ipynb\"                                                                            \n",
       "[174] \"Untitled85.ipynb\"                                                                            \n",
       "[175] \"Untitled86.ipynb\"                                                                            \n",
       "[176] \"Untitled87.ipynb\"                                                                            \n",
       "[177] \"Untitled88.ipynb\"                                                                            \n",
       "[178] \"Untitled89.ipynb\"                                                                            \n",
       "[179] \"Untitled9.ipynb\"                                                                             \n",
       "[180] \"Untitled90.ipynb\"                                                                            \n",
       "[181] \"Untitled91.ipynb\"                                                                            \n",
       "[182] \"Untitled92.ipynb\"                                                                            \n",
       "[183] \"Untitled93.ipynb\"                                                                            \n",
       "[184] \"Untitled94.ipynb\"                                                                            \n",
       "[185] \"Using MySQL with R.ipynb\"                                                                    \n",
       "[186] \"Videos\"                                                                                      \n",
       "[187] \"VirtualBox VMs\"                                                                              \n",
       "[188] \"Web Scraping by Rvest R Prog\"                                                                \n",
       "[189] \"Web scraping by using Rvest .ipynb\"                                                          \n",
       "[190] \"Web Scraping Rvest R prog.ipynb\"                                                             \n",
       "[191] \"Web scraping.ipynb\"                                                                          "
      ]
     },
     "metadata": {},
     "output_type": "display_data"
    }
   ],
   "source": [
    " list.files(\"/Users/jamal\")"
   ]
  },
  {
   "cell_type": "code",
   "execution_count": 25,
   "id": "6c7ac32d",
   "metadata": {},
   "outputs": [
    {
     "data": {
      "text/html": [
       "'C:\\\\Users\\\\jamal\\\\mydatafile.txt'"
      ],
      "text/latex": [
       "'C:\\textbackslash{}\\textbackslash{}Users\\textbackslash{}\\textbackslash{}jamal\\textbackslash{}\\textbackslash{}mydatafile.txt'"
      ],
      "text/markdown": [
       "'C:\\\\Users\\\\jamal\\\\mydatafile.txt'"
      ],
      "text/plain": [
       "[1] \"C:\\\\Users\\\\jamal\\\\mydatafile.txt\""
      ]
     },
     "metadata": {},
     "output_type": "display_data"
    },
    {
     "data": {
      "text/html": [
       "'/Users/jamal/mydatafile.txt'"
      ],
      "text/latex": [
       "'/Users/jamal/mydatafile.txt'"
      ],
      "text/markdown": [
       "'/Users/jamal/mydatafile.txt'"
      ],
      "text/plain": [
       "[1] \"/Users/jamal/mydatafile.txt\""
      ]
     },
     "metadata": {},
     "output_type": "display_data"
    }
   ],
   "source": [
    "file.choose()\n",
    "\"/Users/jamal/mydatafile.txt\""
   ]
  },
  {
   "cell_type": "code",
   "execution_count": 32,
   "id": "54577f79",
   "metadata": {},
   "outputs": [],
   "source": [
    "mydatafile <- read.table(file=file.choose(),header=TRUE,sep=\" \",\n",
    "na.strings=\"*\",stringsAsFactors=FALSE)\n"
   ]
  },
  {
   "cell_type": "code",
   "execution_count": 33,
   "id": "a4dfcbd8",
   "metadata": {},
   "outputs": [],
   "source": [
    " mydatafile$sex <- as.factor(mydatafile$sex)"
   ]
  },
  {
   "cell_type": "code",
   "execution_count": 34,
   "id": "bdd57181",
   "metadata": {},
   "outputs": [],
   "source": [
    " mydatafile$funny <- factor(x=mydatafile$funny,levels=c(\"Low\",\"Med\",\"High\"))"
   ]
  },
  {
   "cell_type": "code",
   "execution_count": 35,
   "id": "0baf5ce0",
   "metadata": {},
   "outputs": [],
   "source": [
    "spread <- read.csv(file=\"/Users/jamal/diamonds.csv\",\n",
    "header=FALSE,stringsAsFactors=TRUE)"
   ]
  },
  {
   "cell_type": "code",
   "execution_count": 36,
   "id": "e1c59775",
   "metadata": {},
   "outputs": [
    {
     "data": {
      "text/html": [
       "<table>\n",
       "<thead><tr><th scope=col>V1</th><th scope=col>V2</th><th scope=col>V3</th><th scope=col>V4</th><th scope=col>V5</th><th scope=col>V6</th><th scope=col>V7</th><th scope=col>V8</th><th scope=col>V9</th><th scope=col>V10</th><th scope=col>V11</th></tr></thead>\n",
       "<tbody>\n",
       "\t<tr><td>NA       </td><td>carat    </td><td>cut      </td><td>color    </td><td>clarity  </td><td>depth    </td><td>table    </td><td>price    </td><td>x        </td><td>y        </td><td>z        </td></tr>\n",
       "\t<tr><td> 1       </td><td>0.23     </td><td>Ideal    </td><td>E        </td><td>SI2      </td><td>61.5     </td><td>55       </td><td>326      </td><td>3.95     </td><td>3.98     </td><td>2.43     </td></tr>\n",
       "\t<tr><td> 2       </td><td>0.21     </td><td>Premium  </td><td>E        </td><td>SI1      </td><td>59.8     </td><td>61       </td><td>326      </td><td>3.89     </td><td>3.84     </td><td>2.31     </td></tr>\n",
       "\t<tr><td> 3       </td><td>0.23     </td><td>Good     </td><td>E        </td><td>VS1      </td><td>56.9     </td><td>65       </td><td>327      </td><td>4.05     </td><td>4.07     </td><td>2.31     </td></tr>\n",
       "\t<tr><td> 4       </td><td>0.29     </td><td>Premium  </td><td>I        </td><td>VS2      </td><td>62.4     </td><td>58       </td><td>334      </td><td>4.2      </td><td>4.23     </td><td>2.63     </td></tr>\n",
       "\t<tr><td> 5       </td><td>0.31     </td><td>Good     </td><td>J        </td><td>SI2      </td><td>63.3     </td><td>58       </td><td>335      </td><td>4.34     </td><td>4.35     </td><td>2.75     </td></tr>\n",
       "\t<tr><td> 6       </td><td>0.24     </td><td>Very Good</td><td>J        </td><td>VVS2     </td><td>62.8     </td><td>57       </td><td>336      </td><td>3.94     </td><td>3.96     </td><td>2.48     </td></tr>\n",
       "\t<tr><td> 7       </td><td>0.24     </td><td>Very Good</td><td>I        </td><td>VVS1     </td><td>62.3     </td><td>57       </td><td>336      </td><td>3.95     </td><td>3.98     </td><td>2.47     </td></tr>\n",
       "\t<tr><td> 8       </td><td>0.26     </td><td>Very Good</td><td>H        </td><td>SI1      </td><td>61.9     </td><td>55       </td><td>337      </td><td>4.07     </td><td>4.11     </td><td>2.53     </td></tr>\n",
       "\t<tr><td> 9       </td><td>0.22     </td><td>Fair     </td><td>E        </td><td>VS2      </td><td>65.1     </td><td>61       </td><td>337      </td><td>3.87     </td><td>3.78     </td><td>2.49     </td></tr>\n",
       "\t<tr><td>10       </td><td>0.23     </td><td>Very Good</td><td>H        </td><td>VS1      </td><td>59.4     </td><td>61       </td><td>338      </td><td>4        </td><td>4.05     </td><td>2.39     </td></tr>\n",
       "\t<tr><td>11       </td><td>0.3      </td><td>Good     </td><td>J        </td><td>SI1      </td><td>64       </td><td>55       </td><td>339      </td><td>4.25     </td><td>4.28     </td><td>2.73     </td></tr>\n",
       "\t<tr><td>12       </td><td>0.23     </td><td>Ideal    </td><td>J        </td><td>VS1      </td><td>62.8     </td><td>56       </td><td>340      </td><td>3.93     </td><td>3.9      </td><td>2.46     </td></tr>\n",
       "\t<tr><td>13       </td><td>0.22     </td><td>Premium  </td><td>F        </td><td>SI1      </td><td>60.4     </td><td>61       </td><td>342      </td><td>3.88     </td><td>3.84     </td><td>2.33     </td></tr>\n",
       "\t<tr><td>14       </td><td>0.31     </td><td>Ideal    </td><td>J        </td><td>SI2      </td><td>62.2     </td><td>54       </td><td>344      </td><td>4.35     </td><td>4.37     </td><td>2.71     </td></tr>\n",
       "\t<tr><td>15       </td><td>0.2      </td><td>Premium  </td><td>E        </td><td>SI2      </td><td>60.2     </td><td>62       </td><td>345      </td><td>3.79     </td><td>3.75     </td><td>2.27     </td></tr>\n",
       "\t<tr><td>16       </td><td>0.32     </td><td>Premium  </td><td>E        </td><td>I1       </td><td>60.9     </td><td>58       </td><td>345      </td><td>4.38     </td><td>4.42     </td><td>2.68     </td></tr>\n",
       "\t<tr><td>17       </td><td>0.3      </td><td>Ideal    </td><td>I        </td><td>SI2      </td><td>62       </td><td>54       </td><td>348      </td><td>4.31     </td><td>4.34     </td><td>2.68     </td></tr>\n",
       "\t<tr><td>18       </td><td>0.3      </td><td>Good     </td><td>J        </td><td>SI1      </td><td>63.4     </td><td>54       </td><td>351      </td><td>4.23     </td><td>4.29     </td><td>2.7      </td></tr>\n",
       "\t<tr><td>19       </td><td>0.3      </td><td>Good     </td><td>J        </td><td>SI1      </td><td>63.8     </td><td>56       </td><td>351      </td><td>4.23     </td><td>4.26     </td><td>2.71     </td></tr>\n",
       "\t<tr><td>20       </td><td>0.3      </td><td>Very Good</td><td>J        </td><td>SI1      </td><td>62.7     </td><td>59       </td><td>351      </td><td>4.21     </td><td>4.27     </td><td>2.66     </td></tr>\n",
       "\t<tr><td>21       </td><td>0.3      </td><td>Good     </td><td>I        </td><td>SI2      </td><td>63.3     </td><td>56       </td><td>351      </td><td>4.26     </td><td>4.3      </td><td>2.71     </td></tr>\n",
       "\t<tr><td>22       </td><td>0.23     </td><td>Very Good</td><td>E        </td><td>VS2      </td><td>63.8     </td><td>55       </td><td>352      </td><td>3.85     </td><td>3.92     </td><td>2.48     </td></tr>\n",
       "\t<tr><td>23       </td><td>0.23     </td><td>Very Good</td><td>H        </td><td>VS1      </td><td>61       </td><td>57       </td><td>353      </td><td>3.94     </td><td>3.96     </td><td>2.41     </td></tr>\n",
       "\t<tr><td>24       </td><td>0.31     </td><td>Very Good</td><td>J        </td><td>SI1      </td><td>59.4     </td><td>62       </td><td>353      </td><td>4.39     </td><td>4.43     </td><td>2.62     </td></tr>\n",
       "\t<tr><td>25       </td><td>0.31     </td><td>Very Good</td><td>J        </td><td>SI1      </td><td>58.1     </td><td>62       </td><td>353      </td><td>4.44     </td><td>4.47     </td><td>2.59     </td></tr>\n",
       "\t<tr><td>26       </td><td>0.23     </td><td>Very Good</td><td>G        </td><td>VVS2     </td><td>60.4     </td><td>58       </td><td>354      </td><td>3.97     </td><td>4.01     </td><td>2.41     </td></tr>\n",
       "\t<tr><td>27       </td><td>0.24     </td><td>Premium  </td><td>I        </td><td>VS1      </td><td>62.5     </td><td>57       </td><td>355      </td><td>3.97     </td><td>3.94     </td><td>2.47     </td></tr>\n",
       "\t<tr><td>28       </td><td>0.3      </td><td>Very Good</td><td>J        </td><td>VS2      </td><td>62.2     </td><td>57       </td><td>357      </td><td>4.28     </td><td>4.3      </td><td>2.67     </td></tr>\n",
       "\t<tr><td>29       </td><td>0.23     </td><td>Very Good</td><td>D        </td><td>VS2      </td><td>60.5     </td><td>61       </td><td>357      </td><td>3.96     </td><td>3.97     </td><td>2.4      </td></tr>\n",
       "\t<tr><td>...</td><td>...</td><td>...</td><td>...</td><td>...</td><td>...</td><td>...</td><td>...</td><td>...</td><td>...</td><td>...</td></tr>\n",
       "\t<tr><td>53911    </td><td>0.7      </td><td>Premium  </td><td>E        </td><td>SI1      </td><td>60.5     </td><td>58       </td><td>2753     </td><td>5.74     </td><td>5.77     </td><td>3.48     </td></tr>\n",
       "\t<tr><td>53912    </td><td>0.57     </td><td>Premium  </td><td>E        </td><td>IF       </td><td>59.8     </td><td>60       </td><td>2753     </td><td>5.43     </td><td>5.38     </td><td>3.23     </td></tr>\n",
       "\t<tr><td>53913    </td><td>0.61     </td><td>Premium  </td><td>F        </td><td>VVS1     </td><td>61.8     </td><td>59       </td><td>2753     </td><td>5.48     </td><td>5.4      </td><td>3.36     </td></tr>\n",
       "\t<tr><td>53914    </td><td>0.8      </td><td>Good     </td><td>G        </td><td>VS2      </td><td>64.2     </td><td>58       </td><td>2753     </td><td>5.84     </td><td>5.81     </td><td>3.74     </td></tr>\n",
       "\t<tr><td>53915    </td><td>0.84     </td><td>Good     </td><td>I        </td><td>VS1      </td><td>63.7     </td><td>59       </td><td>2753     </td><td>5.94     </td><td>5.9      </td><td>3.77     </td></tr>\n",
       "\t<tr><td>53916    </td><td>0.77     </td><td>Ideal    </td><td>E        </td><td>SI2      </td><td>62.1     </td><td>56       </td><td>2753     </td><td>5.84     </td><td>5.86     </td><td>3.63     </td></tr>\n",
       "\t<tr><td>53917    </td><td>0.74     </td><td>Good     </td><td>D        </td><td>SI1      </td><td>63.1     </td><td>59       </td><td>2753     </td><td>5.71     </td><td>5.74     </td><td>3.61     </td></tr>\n",
       "\t<tr><td>53918    </td><td>0.9      </td><td>Very Good</td><td>J        </td><td>SI1      </td><td>63.2     </td><td>60       </td><td>2753     </td><td>6.12     </td><td>6.09     </td><td>3.86     </td></tr>\n",
       "\t<tr><td>53919    </td><td>0.76     </td><td>Premium  </td><td>I        </td><td>VS1      </td><td>59.3     </td><td>62       </td><td>2753     </td><td>5.93     </td><td>5.85     </td><td>3.49     </td></tr>\n",
       "\t<tr><td>53920    </td><td>0.76     </td><td>Ideal    </td><td>I        </td><td>VVS1     </td><td>62.2     </td><td>55       </td><td>2753     </td><td>5.89     </td><td>5.87     </td><td>3.66     </td></tr>\n",
       "\t<tr><td>53921    </td><td>0.7      </td><td>Very Good</td><td>E        </td><td>VS2      </td><td>62.4     </td><td>60       </td><td>2755     </td><td>5.57     </td><td>5.61     </td><td>3.49     </td></tr>\n",
       "\t<tr><td>53922    </td><td>0.7      </td><td>Very Good</td><td>E        </td><td>VS2      </td><td>62.8     </td><td>60       </td><td>2755     </td><td>5.59     </td><td>5.65     </td><td>3.53     </td></tr>\n",
       "\t<tr><td>53923    </td><td>0.7      </td><td>Very Good</td><td>D        </td><td>VS1      </td><td>63.1     </td><td>59       </td><td>2755     </td><td>5.67     </td><td>5.58     </td><td>3.55     </td></tr>\n",
       "\t<tr><td>53924    </td><td>0.73     </td><td>Ideal    </td><td>I        </td><td>VS2      </td><td>61.3     </td><td>56       </td><td>2756     </td><td>5.8      </td><td>5.84     </td><td>3.57     </td></tr>\n",
       "\t<tr><td>53925    </td><td>0.73     </td><td>Ideal    </td><td>I        </td><td>VS2      </td><td>61.6     </td><td>55       </td><td>2756     </td><td>5.82     </td><td>5.84     </td><td>3.59     </td></tr>\n",
       "\t<tr><td>53926    </td><td>0.79     </td><td>Ideal    </td><td>I        </td><td>SI1      </td><td>61.6     </td><td>56       </td><td>2756     </td><td>5.95     </td><td>5.97     </td><td>3.67     </td></tr>\n",
       "\t<tr><td>53927    </td><td>0.71     </td><td>Ideal    </td><td>E        </td><td>SI1      </td><td>61.9     </td><td>56       </td><td>2756     </td><td>5.71     </td><td>5.73     </td><td>3.54     </td></tr>\n",
       "\t<tr><td>53928    </td><td>0.79     </td><td>Good     </td><td>F        </td><td>SI1      </td><td>58.1     </td><td>59       </td><td>2756     </td><td>6.06     </td><td>6.13     </td><td>3.54     </td></tr>\n",
       "\t<tr><td>53929    </td><td>0.79     </td><td>Premium  </td><td>E        </td><td>SI2      </td><td>61.4     </td><td>58       </td><td>2756     </td><td>6.03     </td><td>5.96     </td><td>3.68     </td></tr>\n",
       "\t<tr><td>53930    </td><td>0.71     </td><td>Ideal    </td><td>G        </td><td>VS1      </td><td>61.4     </td><td>56       </td><td>2756     </td><td>5.76     </td><td>5.73     </td><td>3.53     </td></tr>\n",
       "\t<tr><td>53931    </td><td>0.71     </td><td>Premium  </td><td>E        </td><td>SI1      </td><td>60.5     </td><td>55       </td><td>2756     </td><td>5.79     </td><td>5.74     </td><td>3.49     </td></tr>\n",
       "\t<tr><td>53932    </td><td>0.71     </td><td>Premium  </td><td>F        </td><td>SI1      </td><td>59.8     </td><td>62       </td><td>2756     </td><td>5.74     </td><td>5.73     </td><td>3.43     </td></tr>\n",
       "\t<tr><td>53933    </td><td>0.7      </td><td>Very Good</td><td>E        </td><td>VS2      </td><td>60.5     </td><td>59       </td><td>2757     </td><td>5.71     </td><td>5.76     </td><td>3.47     </td></tr>\n",
       "\t<tr><td>53934    </td><td>0.7      </td><td>Very Good</td><td>E        </td><td>VS2      </td><td>61.2     </td><td>59       </td><td>2757     </td><td>5.69     </td><td>5.72     </td><td>3.49     </td></tr>\n",
       "\t<tr><td>53935    </td><td>0.72     </td><td>Premium  </td><td>D        </td><td>SI1      </td><td>62.7     </td><td>59       </td><td>2757     </td><td>5.69     </td><td>5.73     </td><td>3.58     </td></tr>\n",
       "\t<tr><td>53936    </td><td>0.72     </td><td>Ideal    </td><td>D        </td><td>SI1      </td><td>60.8     </td><td>57       </td><td>2757     </td><td>5.75     </td><td>5.76     </td><td>3.5      </td></tr>\n",
       "\t<tr><td>53937    </td><td>0.72     </td><td>Good     </td><td>D        </td><td>SI1      </td><td>63.1     </td><td>55       </td><td>2757     </td><td>5.69     </td><td>5.75     </td><td>3.61     </td></tr>\n",
       "\t<tr><td>53938    </td><td>0.7      </td><td>Very Good</td><td>D        </td><td>SI1      </td><td>62.8     </td><td>60       </td><td>2757     </td><td>5.66     </td><td>5.68     </td><td>3.56     </td></tr>\n",
       "\t<tr><td>53939    </td><td>0.86     </td><td>Premium  </td><td>H        </td><td>SI2      </td><td>61       </td><td>58       </td><td>2757     </td><td>6.15     </td><td>6.12     </td><td>3.74     </td></tr>\n",
       "\t<tr><td>53940    </td><td>0.75     </td><td>Ideal    </td><td>D        </td><td>SI2      </td><td>62.2     </td><td>55       </td><td>2757     </td><td>5.83     </td><td>5.87     </td><td>3.64     </td></tr>\n",
       "</tbody>\n",
       "</table>\n"
      ],
      "text/latex": [
       "\\begin{tabular}{r|lllllllllll}\n",
       " V1 & V2 & V3 & V4 & V5 & V6 & V7 & V8 & V9 & V10 & V11\\\\\n",
       "\\hline\n",
       "\t NA        & carat     & cut       & color     & clarity   & depth     & table     & price     & x         & y         & z        \\\\\n",
       "\t  1        & 0.23      & Ideal     & E         & SI2       & 61.5      & 55        & 326       & 3.95      & 3.98      & 2.43     \\\\\n",
       "\t  2        & 0.21      & Premium   & E         & SI1       & 59.8      & 61        & 326       & 3.89      & 3.84      & 2.31     \\\\\n",
       "\t  3        & 0.23      & Good      & E         & VS1       & 56.9      & 65        & 327       & 4.05      & 4.07      & 2.31     \\\\\n",
       "\t  4        & 0.29      & Premium   & I         & VS2       & 62.4      & 58        & 334       & 4.2       & 4.23      & 2.63     \\\\\n",
       "\t  5        & 0.31      & Good      & J         & SI2       & 63.3      & 58        & 335       & 4.34      & 4.35      & 2.75     \\\\\n",
       "\t  6        & 0.24      & Very Good & J         & VVS2      & 62.8      & 57        & 336       & 3.94      & 3.96      & 2.48     \\\\\n",
       "\t  7        & 0.24      & Very Good & I         & VVS1      & 62.3      & 57        & 336       & 3.95      & 3.98      & 2.47     \\\\\n",
       "\t  8        & 0.26      & Very Good & H         & SI1       & 61.9      & 55        & 337       & 4.07      & 4.11      & 2.53     \\\\\n",
       "\t  9        & 0.22      & Fair      & E         & VS2       & 65.1      & 61        & 337       & 3.87      & 3.78      & 2.49     \\\\\n",
       "\t 10        & 0.23      & Very Good & H         & VS1       & 59.4      & 61        & 338       & 4         & 4.05      & 2.39     \\\\\n",
       "\t 11        & 0.3       & Good      & J         & SI1       & 64        & 55        & 339       & 4.25      & 4.28      & 2.73     \\\\\n",
       "\t 12        & 0.23      & Ideal     & J         & VS1       & 62.8      & 56        & 340       & 3.93      & 3.9       & 2.46     \\\\\n",
       "\t 13        & 0.22      & Premium   & F         & SI1       & 60.4      & 61        & 342       & 3.88      & 3.84      & 2.33     \\\\\n",
       "\t 14        & 0.31      & Ideal     & J         & SI2       & 62.2      & 54        & 344       & 4.35      & 4.37      & 2.71     \\\\\n",
       "\t 15        & 0.2       & Premium   & E         & SI2       & 60.2      & 62        & 345       & 3.79      & 3.75      & 2.27     \\\\\n",
       "\t 16        & 0.32      & Premium   & E         & I1        & 60.9      & 58        & 345       & 4.38      & 4.42      & 2.68     \\\\\n",
       "\t 17        & 0.3       & Ideal     & I         & SI2       & 62        & 54        & 348       & 4.31      & 4.34      & 2.68     \\\\\n",
       "\t 18        & 0.3       & Good      & J         & SI1       & 63.4      & 54        & 351       & 4.23      & 4.29      & 2.7      \\\\\n",
       "\t 19        & 0.3       & Good      & J         & SI1       & 63.8      & 56        & 351       & 4.23      & 4.26      & 2.71     \\\\\n",
       "\t 20        & 0.3       & Very Good & J         & SI1       & 62.7      & 59        & 351       & 4.21      & 4.27      & 2.66     \\\\\n",
       "\t 21        & 0.3       & Good      & I         & SI2       & 63.3      & 56        & 351       & 4.26      & 4.3       & 2.71     \\\\\n",
       "\t 22        & 0.23      & Very Good & E         & VS2       & 63.8      & 55        & 352       & 3.85      & 3.92      & 2.48     \\\\\n",
       "\t 23        & 0.23      & Very Good & H         & VS1       & 61        & 57        & 353       & 3.94      & 3.96      & 2.41     \\\\\n",
       "\t 24        & 0.31      & Very Good & J         & SI1       & 59.4      & 62        & 353       & 4.39      & 4.43      & 2.62     \\\\\n",
       "\t 25        & 0.31      & Very Good & J         & SI1       & 58.1      & 62        & 353       & 4.44      & 4.47      & 2.59     \\\\\n",
       "\t 26        & 0.23      & Very Good & G         & VVS2      & 60.4      & 58        & 354       & 3.97      & 4.01      & 2.41     \\\\\n",
       "\t 27        & 0.24      & Premium   & I         & VS1       & 62.5      & 57        & 355       & 3.97      & 3.94      & 2.47     \\\\\n",
       "\t 28        & 0.3       & Very Good & J         & VS2       & 62.2      & 57        & 357       & 4.28      & 4.3       & 2.67     \\\\\n",
       "\t 29        & 0.23      & Very Good & D         & VS2       & 60.5      & 61        & 357       & 3.96      & 3.97      & 2.4      \\\\\n",
       "\t ... & ... & ... & ... & ... & ... & ... & ... & ... & ... & ...\\\\\n",
       "\t 53911     & 0.7       & Premium   & E         & SI1       & 60.5      & 58        & 2753      & 5.74      & 5.77      & 3.48     \\\\\n",
       "\t 53912     & 0.57      & Premium   & E         & IF        & 59.8      & 60        & 2753      & 5.43      & 5.38      & 3.23     \\\\\n",
       "\t 53913     & 0.61      & Premium   & F         & VVS1      & 61.8      & 59        & 2753      & 5.48      & 5.4       & 3.36     \\\\\n",
       "\t 53914     & 0.8       & Good      & G         & VS2       & 64.2      & 58        & 2753      & 5.84      & 5.81      & 3.74     \\\\\n",
       "\t 53915     & 0.84      & Good      & I         & VS1       & 63.7      & 59        & 2753      & 5.94      & 5.9       & 3.77     \\\\\n",
       "\t 53916     & 0.77      & Ideal     & E         & SI2       & 62.1      & 56        & 2753      & 5.84      & 5.86      & 3.63     \\\\\n",
       "\t 53917     & 0.74      & Good      & D         & SI1       & 63.1      & 59        & 2753      & 5.71      & 5.74      & 3.61     \\\\\n",
       "\t 53918     & 0.9       & Very Good & J         & SI1       & 63.2      & 60        & 2753      & 6.12      & 6.09      & 3.86     \\\\\n",
       "\t 53919     & 0.76      & Premium   & I         & VS1       & 59.3      & 62        & 2753      & 5.93      & 5.85      & 3.49     \\\\\n",
       "\t 53920     & 0.76      & Ideal     & I         & VVS1      & 62.2      & 55        & 2753      & 5.89      & 5.87      & 3.66     \\\\\n",
       "\t 53921     & 0.7       & Very Good & E         & VS2       & 62.4      & 60        & 2755      & 5.57      & 5.61      & 3.49     \\\\\n",
       "\t 53922     & 0.7       & Very Good & E         & VS2       & 62.8      & 60        & 2755      & 5.59      & 5.65      & 3.53     \\\\\n",
       "\t 53923     & 0.7       & Very Good & D         & VS1       & 63.1      & 59        & 2755      & 5.67      & 5.58      & 3.55     \\\\\n",
       "\t 53924     & 0.73      & Ideal     & I         & VS2       & 61.3      & 56        & 2756      & 5.8       & 5.84      & 3.57     \\\\\n",
       "\t 53925     & 0.73      & Ideal     & I         & VS2       & 61.6      & 55        & 2756      & 5.82      & 5.84      & 3.59     \\\\\n",
       "\t 53926     & 0.79      & Ideal     & I         & SI1       & 61.6      & 56        & 2756      & 5.95      & 5.97      & 3.67     \\\\\n",
       "\t 53927     & 0.71      & Ideal     & E         & SI1       & 61.9      & 56        & 2756      & 5.71      & 5.73      & 3.54     \\\\\n",
       "\t 53928     & 0.79      & Good      & F         & SI1       & 58.1      & 59        & 2756      & 6.06      & 6.13      & 3.54     \\\\\n",
       "\t 53929     & 0.79      & Premium   & E         & SI2       & 61.4      & 58        & 2756      & 6.03      & 5.96      & 3.68     \\\\\n",
       "\t 53930     & 0.71      & Ideal     & G         & VS1       & 61.4      & 56        & 2756      & 5.76      & 5.73      & 3.53     \\\\\n",
       "\t 53931     & 0.71      & Premium   & E         & SI1       & 60.5      & 55        & 2756      & 5.79      & 5.74      & 3.49     \\\\\n",
       "\t 53932     & 0.71      & Premium   & F         & SI1       & 59.8      & 62        & 2756      & 5.74      & 5.73      & 3.43     \\\\\n",
       "\t 53933     & 0.7       & Very Good & E         & VS2       & 60.5      & 59        & 2757      & 5.71      & 5.76      & 3.47     \\\\\n",
       "\t 53934     & 0.7       & Very Good & E         & VS2       & 61.2      & 59        & 2757      & 5.69      & 5.72      & 3.49     \\\\\n",
       "\t 53935     & 0.72      & Premium   & D         & SI1       & 62.7      & 59        & 2757      & 5.69      & 5.73      & 3.58     \\\\\n",
       "\t 53936     & 0.72      & Ideal     & D         & SI1       & 60.8      & 57        & 2757      & 5.75      & 5.76      & 3.5      \\\\\n",
       "\t 53937     & 0.72      & Good      & D         & SI1       & 63.1      & 55        & 2757      & 5.69      & 5.75      & 3.61     \\\\\n",
       "\t 53938     & 0.7       & Very Good & D         & SI1       & 62.8      & 60        & 2757      & 5.66      & 5.68      & 3.56     \\\\\n",
       "\t 53939     & 0.86      & Premium   & H         & SI2       & 61        & 58        & 2757      & 6.15      & 6.12      & 3.74     \\\\\n",
       "\t 53940     & 0.75      & Ideal     & D         & SI2       & 62.2      & 55        & 2757      & 5.83      & 5.87      & 3.64     \\\\\n",
       "\\end{tabular}\n"
      ],
      "text/markdown": [
       "\n",
       "| V1 | V2 | V3 | V4 | V5 | V6 | V7 | V8 | V9 | V10 | V11 |\n",
       "|---|---|---|---|---|---|---|---|---|---|---|\n",
       "| NA        | carat     | cut       | color     | clarity   | depth     | table     | price     | x         | y         | z         |\n",
       "|  1        | 0.23      | Ideal     | E         | SI2       | 61.5      | 55        | 326       | 3.95      | 3.98      | 2.43      |\n",
       "|  2        | 0.21      | Premium   | E         | SI1       | 59.8      | 61        | 326       | 3.89      | 3.84      | 2.31      |\n",
       "|  3        | 0.23      | Good      | E         | VS1       | 56.9      | 65        | 327       | 4.05      | 4.07      | 2.31      |\n",
       "|  4        | 0.29      | Premium   | I         | VS2       | 62.4      | 58        | 334       | 4.2       | 4.23      | 2.63      |\n",
       "|  5        | 0.31      | Good      | J         | SI2       | 63.3      | 58        | 335       | 4.34      | 4.35      | 2.75      |\n",
       "|  6        | 0.24      | Very Good | J         | VVS2      | 62.8      | 57        | 336       | 3.94      | 3.96      | 2.48      |\n",
       "|  7        | 0.24      | Very Good | I         | VVS1      | 62.3      | 57        | 336       | 3.95      | 3.98      | 2.47      |\n",
       "|  8        | 0.26      | Very Good | H         | SI1       | 61.9      | 55        | 337       | 4.07      | 4.11      | 2.53      |\n",
       "|  9        | 0.22      | Fair      | E         | VS2       | 65.1      | 61        | 337       | 3.87      | 3.78      | 2.49      |\n",
       "| 10        | 0.23      | Very Good | H         | VS1       | 59.4      | 61        | 338       | 4         | 4.05      | 2.39      |\n",
       "| 11        | 0.3       | Good      | J         | SI1       | 64        | 55        | 339       | 4.25      | 4.28      | 2.73      |\n",
       "| 12        | 0.23      | Ideal     | J         | VS1       | 62.8      | 56        | 340       | 3.93      | 3.9       | 2.46      |\n",
       "| 13        | 0.22      | Premium   | F         | SI1       | 60.4      | 61        | 342       | 3.88      | 3.84      | 2.33      |\n",
       "| 14        | 0.31      | Ideal     | J         | SI2       | 62.2      | 54        | 344       | 4.35      | 4.37      | 2.71      |\n",
       "| 15        | 0.2       | Premium   | E         | SI2       | 60.2      | 62        | 345       | 3.79      | 3.75      | 2.27      |\n",
       "| 16        | 0.32      | Premium   | E         | I1        | 60.9      | 58        | 345       | 4.38      | 4.42      | 2.68      |\n",
       "| 17        | 0.3       | Ideal     | I         | SI2       | 62        | 54        | 348       | 4.31      | 4.34      | 2.68      |\n",
       "| 18        | 0.3       | Good      | J         | SI1       | 63.4      | 54        | 351       | 4.23      | 4.29      | 2.7       |\n",
       "| 19        | 0.3       | Good      | J         | SI1       | 63.8      | 56        | 351       | 4.23      | 4.26      | 2.71      |\n",
       "| 20        | 0.3       | Very Good | J         | SI1       | 62.7      | 59        | 351       | 4.21      | 4.27      | 2.66      |\n",
       "| 21        | 0.3       | Good      | I         | SI2       | 63.3      | 56        | 351       | 4.26      | 4.3       | 2.71      |\n",
       "| 22        | 0.23      | Very Good | E         | VS2       | 63.8      | 55        | 352       | 3.85      | 3.92      | 2.48      |\n",
       "| 23        | 0.23      | Very Good | H         | VS1       | 61        | 57        | 353       | 3.94      | 3.96      | 2.41      |\n",
       "| 24        | 0.31      | Very Good | J         | SI1       | 59.4      | 62        | 353       | 4.39      | 4.43      | 2.62      |\n",
       "| 25        | 0.31      | Very Good | J         | SI1       | 58.1      | 62        | 353       | 4.44      | 4.47      | 2.59      |\n",
       "| 26        | 0.23      | Very Good | G         | VVS2      | 60.4      | 58        | 354       | 3.97      | 4.01      | 2.41      |\n",
       "| 27        | 0.24      | Premium   | I         | VS1       | 62.5      | 57        | 355       | 3.97      | 3.94      | 2.47      |\n",
       "| 28        | 0.3       | Very Good | J         | VS2       | 62.2      | 57        | 357       | 4.28      | 4.3       | 2.67      |\n",
       "| 29        | 0.23      | Very Good | D         | VS2       | 60.5      | 61        | 357       | 3.96      | 3.97      | 2.4       |\n",
       "| ... | ... | ... | ... | ... | ... | ... | ... | ... | ... | ... |\n",
       "| 53911     | 0.7       | Premium   | E         | SI1       | 60.5      | 58        | 2753      | 5.74      | 5.77      | 3.48      |\n",
       "| 53912     | 0.57      | Premium   | E         | IF        | 59.8      | 60        | 2753      | 5.43      | 5.38      | 3.23      |\n",
       "| 53913     | 0.61      | Premium   | F         | VVS1      | 61.8      | 59        | 2753      | 5.48      | 5.4       | 3.36      |\n",
       "| 53914     | 0.8       | Good      | G         | VS2       | 64.2      | 58        | 2753      | 5.84      | 5.81      | 3.74      |\n",
       "| 53915     | 0.84      | Good      | I         | VS1       | 63.7      | 59        | 2753      | 5.94      | 5.9       | 3.77      |\n",
       "| 53916     | 0.77      | Ideal     | E         | SI2       | 62.1      | 56        | 2753      | 5.84      | 5.86      | 3.63      |\n",
       "| 53917     | 0.74      | Good      | D         | SI1       | 63.1      | 59        | 2753      | 5.71      | 5.74      | 3.61      |\n",
       "| 53918     | 0.9       | Very Good | J         | SI1       | 63.2      | 60        | 2753      | 6.12      | 6.09      | 3.86      |\n",
       "| 53919     | 0.76      | Premium   | I         | VS1       | 59.3      | 62        | 2753      | 5.93      | 5.85      | 3.49      |\n",
       "| 53920     | 0.76      | Ideal     | I         | VVS1      | 62.2      | 55        | 2753      | 5.89      | 5.87      | 3.66      |\n",
       "| 53921     | 0.7       | Very Good | E         | VS2       | 62.4      | 60        | 2755      | 5.57      | 5.61      | 3.49      |\n",
       "| 53922     | 0.7       | Very Good | E         | VS2       | 62.8      | 60        | 2755      | 5.59      | 5.65      | 3.53      |\n",
       "| 53923     | 0.7       | Very Good | D         | VS1       | 63.1      | 59        | 2755      | 5.67      | 5.58      | 3.55      |\n",
       "| 53924     | 0.73      | Ideal     | I         | VS2       | 61.3      | 56        | 2756      | 5.8       | 5.84      | 3.57      |\n",
       "| 53925     | 0.73      | Ideal     | I         | VS2       | 61.6      | 55        | 2756      | 5.82      | 5.84      | 3.59      |\n",
       "| 53926     | 0.79      | Ideal     | I         | SI1       | 61.6      | 56        | 2756      | 5.95      | 5.97      | 3.67      |\n",
       "| 53927     | 0.71      | Ideal     | E         | SI1       | 61.9      | 56        | 2756      | 5.71      | 5.73      | 3.54      |\n",
       "| 53928     | 0.79      | Good      | F         | SI1       | 58.1      | 59        | 2756      | 6.06      | 6.13      | 3.54      |\n",
       "| 53929     | 0.79      | Premium   | E         | SI2       | 61.4      | 58        | 2756      | 6.03      | 5.96      | 3.68      |\n",
       "| 53930     | 0.71      | Ideal     | G         | VS1       | 61.4      | 56        | 2756      | 5.76      | 5.73      | 3.53      |\n",
       "| 53931     | 0.71      | Premium   | E         | SI1       | 60.5      | 55        | 2756      | 5.79      | 5.74      | 3.49      |\n",
       "| 53932     | 0.71      | Premium   | F         | SI1       | 59.8      | 62        | 2756      | 5.74      | 5.73      | 3.43      |\n",
       "| 53933     | 0.7       | Very Good | E         | VS2       | 60.5      | 59        | 2757      | 5.71      | 5.76      | 3.47      |\n",
       "| 53934     | 0.7       | Very Good | E         | VS2       | 61.2      | 59        | 2757      | 5.69      | 5.72      | 3.49      |\n",
       "| 53935     | 0.72      | Premium   | D         | SI1       | 62.7      | 59        | 2757      | 5.69      | 5.73      | 3.58      |\n",
       "| 53936     | 0.72      | Ideal     | D         | SI1       | 60.8      | 57        | 2757      | 5.75      | 5.76      | 3.5       |\n",
       "| 53937     | 0.72      | Good      | D         | SI1       | 63.1      | 55        | 2757      | 5.69      | 5.75      | 3.61      |\n",
       "| 53938     | 0.7       | Very Good | D         | SI1       | 62.8      | 60        | 2757      | 5.66      | 5.68      | 3.56      |\n",
       "| 53939     | 0.86      | Premium   | H         | SI2       | 61        | 58        | 2757      | 6.15      | 6.12      | 3.74      |\n",
       "| 53940     | 0.75      | Ideal     | D         | SI2       | 62.2      | 55        | 2757      | 5.83      | 5.87      | 3.64      |\n",
       "\n"
      ],
      "text/plain": [
       "      V1    V2    V3        V4    V5      V6    V7    V8    V9   V10  V11 \n",
       "1     NA    carat cut       color clarity depth table price x    y    z   \n",
       "2      1    0.23  Ideal     E     SI2     61.5  55    326   3.95 3.98 2.43\n",
       "3      2    0.21  Premium   E     SI1     59.8  61    326   3.89 3.84 2.31\n",
       "4      3    0.23  Good      E     VS1     56.9  65    327   4.05 4.07 2.31\n",
       "5      4    0.29  Premium   I     VS2     62.4  58    334   4.2  4.23 2.63\n",
       "6      5    0.31  Good      J     SI2     63.3  58    335   4.34 4.35 2.75\n",
       "7      6    0.24  Very Good J     VVS2    62.8  57    336   3.94 3.96 2.48\n",
       "8      7    0.24  Very Good I     VVS1    62.3  57    336   3.95 3.98 2.47\n",
       "9      8    0.26  Very Good H     SI1     61.9  55    337   4.07 4.11 2.53\n",
       "10     9    0.22  Fair      E     VS2     65.1  61    337   3.87 3.78 2.49\n",
       "11    10    0.23  Very Good H     VS1     59.4  61    338   4    4.05 2.39\n",
       "12    11    0.3   Good      J     SI1     64    55    339   4.25 4.28 2.73\n",
       "13    12    0.23  Ideal     J     VS1     62.8  56    340   3.93 3.9  2.46\n",
       "14    13    0.22  Premium   F     SI1     60.4  61    342   3.88 3.84 2.33\n",
       "15    14    0.31  Ideal     J     SI2     62.2  54    344   4.35 4.37 2.71\n",
       "16    15    0.2   Premium   E     SI2     60.2  62    345   3.79 3.75 2.27\n",
       "17    16    0.32  Premium   E     I1      60.9  58    345   4.38 4.42 2.68\n",
       "18    17    0.3   Ideal     I     SI2     62    54    348   4.31 4.34 2.68\n",
       "19    18    0.3   Good      J     SI1     63.4  54    351   4.23 4.29 2.7 \n",
       "20    19    0.3   Good      J     SI1     63.8  56    351   4.23 4.26 2.71\n",
       "21    20    0.3   Very Good J     SI1     62.7  59    351   4.21 4.27 2.66\n",
       "22    21    0.3   Good      I     SI2     63.3  56    351   4.26 4.3  2.71\n",
       "23    22    0.23  Very Good E     VS2     63.8  55    352   3.85 3.92 2.48\n",
       "24    23    0.23  Very Good H     VS1     61    57    353   3.94 3.96 2.41\n",
       "25    24    0.31  Very Good J     SI1     59.4  62    353   4.39 4.43 2.62\n",
       "26    25    0.31  Very Good J     SI1     58.1  62    353   4.44 4.47 2.59\n",
       "27    26    0.23  Very Good G     VVS2    60.4  58    354   3.97 4.01 2.41\n",
       "28    27    0.24  Premium   I     VS1     62.5  57    355   3.97 3.94 2.47\n",
       "29    28    0.3   Very Good J     VS2     62.2  57    357   4.28 4.3  2.67\n",
       "30    29    0.23  Very Good D     VS2     60.5  61    357   3.96 3.97 2.4 \n",
       "...   ...   ...   ...       ...   ...     ...   ...   ...   ...  ...  ... \n",
       "53912 53911 0.7   Premium   E     SI1     60.5  58    2753  5.74 5.77 3.48\n",
       "53913 53912 0.57  Premium   E     IF      59.8  60    2753  5.43 5.38 3.23\n",
       "53914 53913 0.61  Premium   F     VVS1    61.8  59    2753  5.48 5.4  3.36\n",
       "53915 53914 0.8   Good      G     VS2     64.2  58    2753  5.84 5.81 3.74\n",
       "53916 53915 0.84  Good      I     VS1     63.7  59    2753  5.94 5.9  3.77\n",
       "53917 53916 0.77  Ideal     E     SI2     62.1  56    2753  5.84 5.86 3.63\n",
       "53918 53917 0.74  Good      D     SI1     63.1  59    2753  5.71 5.74 3.61\n",
       "53919 53918 0.9   Very Good J     SI1     63.2  60    2753  6.12 6.09 3.86\n",
       "53920 53919 0.76  Premium   I     VS1     59.3  62    2753  5.93 5.85 3.49\n",
       "53921 53920 0.76  Ideal     I     VVS1    62.2  55    2753  5.89 5.87 3.66\n",
       "53922 53921 0.7   Very Good E     VS2     62.4  60    2755  5.57 5.61 3.49\n",
       "53923 53922 0.7   Very Good E     VS2     62.8  60    2755  5.59 5.65 3.53\n",
       "53924 53923 0.7   Very Good D     VS1     63.1  59    2755  5.67 5.58 3.55\n",
       "53925 53924 0.73  Ideal     I     VS2     61.3  56    2756  5.8  5.84 3.57\n",
       "53926 53925 0.73  Ideal     I     VS2     61.6  55    2756  5.82 5.84 3.59\n",
       "53927 53926 0.79  Ideal     I     SI1     61.6  56    2756  5.95 5.97 3.67\n",
       "53928 53927 0.71  Ideal     E     SI1     61.9  56    2756  5.71 5.73 3.54\n",
       "53929 53928 0.79  Good      F     SI1     58.1  59    2756  6.06 6.13 3.54\n",
       "53930 53929 0.79  Premium   E     SI2     61.4  58    2756  6.03 5.96 3.68\n",
       "53931 53930 0.71  Ideal     G     VS1     61.4  56    2756  5.76 5.73 3.53\n",
       "53932 53931 0.71  Premium   E     SI1     60.5  55    2756  5.79 5.74 3.49\n",
       "53933 53932 0.71  Premium   F     SI1     59.8  62    2756  5.74 5.73 3.43\n",
       "53934 53933 0.7   Very Good E     VS2     60.5  59    2757  5.71 5.76 3.47\n",
       "53935 53934 0.7   Very Good E     VS2     61.2  59    2757  5.69 5.72 3.49\n",
       "53936 53935 0.72  Premium   D     SI1     62.7  59    2757  5.69 5.73 3.58\n",
       "53937 53936 0.72  Ideal     D     SI1     60.8  57    2757  5.75 5.76 3.5 \n",
       "53938 53937 0.72  Good      D     SI1     63.1  55    2757  5.69 5.75 3.61\n",
       "53939 53938 0.7   Very Good D     SI1     62.8  60    2757  5.66 5.68 3.56\n",
       "53940 53939 0.86  Premium   H     SI2     61    58    2757  6.15 6.12 3.74\n",
       "53941 53940 0.75  Ideal     D     SI2     62.2  55    2757  5.83 5.87 3.64"
      ]
     },
     "metadata": {},
     "output_type": "display_data"
    }
   ],
   "source": [
    "spread"
   ]
  },
  {
   "cell_type": "code",
   "execution_count": 44,
   "id": "1b0c9163",
   "metadata": {},
   "outputs": [],
   "source": [
    "myfile <- read.table(url(\"https://mantas.info/wp/wp-content/uploads/simple_esn/MackeyGlass_t17.txt\"))"
   ]
  },
  {
   "cell_type": "code",
   "execution_count": 47,
   "id": "25cdfcb0",
   "metadata": {},
   "outputs": [
    {
     "data": {
      "text/html": [
       "<table>\n",
       "<thead><tr><th scope=col>V1</th></tr></thead>\n",
       "<tbody>\n",
       "\t<tr><td> 0.122063997</td></tr>\n",
       "\t<tr><td> 0.047196816</td></tr>\n",
       "\t<tr><td>-0.018330350</td></tr>\n",
       "\t<tr><td>-0.081949580</td></tr>\n",
       "\t<tr><td>-0.134221577</td></tr>\n",
       "\t<tr><td>-0.185426752</td></tr>\n",
       "\t<tr><td>-0.229343431</td></tr>\n",
       "\t<tr><td>-0.275474689</td></tr>\n",
       "\t<tr><td>-0.305797820</td></tr>\n",
       "\t<tr><td>-0.338097980</td></tr>\n",
       "\t<tr><td>-0.361800964</td></tr>\n",
       "\t<tr><td>-0.382674806</td></tr>\n",
       "\t<tr><td>-0.402633420</td></tr>\n",
       "\t<tr><td>-0.414884033</td></tr>\n",
       "\t<tr><td>-0.433475809</td></tr>\n",
       "\t<tr><td>-0.452447024</td></tr>\n",
       "\t<tr><td>-0.466018037</td></tr>\n",
       "\t<tr><td>-0.471772524</td></tr>\n",
       "\t<tr><td>-0.458593854</td></tr>\n",
       "\t<tr><td>-0.425668962</td></tr>\n",
       "\t<tr><td>-0.374528522</td></tr>\n",
       "\t<tr><td>-0.312048426</td></tr>\n",
       "\t<tr><td>-0.245943622</td></tr>\n",
       "\t<tr><td>-0.182772515</td></tr>\n",
       "\t<tr><td>-0.126979162</td></tr>\n",
       "\t<tr><td>-0.080565119</td></tr>\n",
       "\t<tr><td>-0.043388839</td></tr>\n",
       "\t<tr><td>-0.014863672</td></tr>\n",
       "\t<tr><td> 0.006841062</td></tr>\n",
       "\t<tr><td> 0.021756546</td></tr>\n",
       "\t<tr><td>...</td></tr>\n",
       "\t<tr><td> 0.160731346</td></tr>\n",
       "\t<tr><td> 0.138332439</td></tr>\n",
       "\t<tr><td> 0.111039212</td></tr>\n",
       "\t<tr><td> 0.082460570</td></tr>\n",
       "\t<tr><td> 0.055392368</td></tr>\n",
       "\t<tr><td> 0.031734938</td></tr>\n",
       "\t<tr><td> 0.012436045</td></tr>\n",
       "\t<tr><td>-0.002599127</td></tr>\n",
       "\t<tr><td>-0.014588217</td></tr>\n",
       "\t<tr><td>-0.025832517</td></tr>\n",
       "\t<tr><td>-0.039425927</td></tr>\n",
       "\t<tr><td>-0.058569872</td></tr>\n",
       "\t<tr><td>-0.085417306</td></tr>\n",
       "\t<tr><td>-0.119848176</td></tr>\n",
       "\t<tr><td>-0.159233939</td></tr>\n",
       "\t<tr><td>-0.199623450</td></tr>\n",
       "\t<tr><td>-0.237228535</td></tr>\n",
       "\t<tr><td>-0.269122127</td></tr>\n",
       "\t<tr><td>-0.293253004</td></tr>\n",
       "\t<tr><td>-0.308311570</td></tr>\n",
       "\t<tr><td>-0.313719198</td></tr>\n",
       "\t<tr><td>-0.309717443</td></tr>\n",
       "\t<tr><td>-0.297389187</td></tr>\n",
       "\t<tr><td>-0.278467375</td></tr>\n",
       "\t<tr><td>-0.254930602</td></tr>\n",
       "\t<tr><td>-0.228507989</td></tr>\n",
       "\t<tr><td>-0.200230014</td></tr>\n",
       "\t<tr><td>-0.170134913</td></tr>\n",
       "\t<tr><td>-0.137283650</td></tr>\n",
       "\t<tr><td>-0.100345413</td></tr>\n",
       "</tbody>\n",
       "</table>\n"
      ],
      "text/latex": [
       "\\begin{tabular}{r|l}\n",
       " V1\\\\\n",
       "\\hline\n",
       "\t  0.122063997\\\\\n",
       "\t  0.047196816\\\\\n",
       "\t -0.018330350\\\\\n",
       "\t -0.081949580\\\\\n",
       "\t -0.134221577\\\\\n",
       "\t -0.185426752\\\\\n",
       "\t -0.229343431\\\\\n",
       "\t -0.275474689\\\\\n",
       "\t -0.305797820\\\\\n",
       "\t -0.338097980\\\\\n",
       "\t -0.361800964\\\\\n",
       "\t -0.382674806\\\\\n",
       "\t -0.402633420\\\\\n",
       "\t -0.414884033\\\\\n",
       "\t -0.433475809\\\\\n",
       "\t -0.452447024\\\\\n",
       "\t -0.466018037\\\\\n",
       "\t -0.471772524\\\\\n",
       "\t -0.458593854\\\\\n",
       "\t -0.425668962\\\\\n",
       "\t -0.374528522\\\\\n",
       "\t -0.312048426\\\\\n",
       "\t -0.245943622\\\\\n",
       "\t -0.182772515\\\\\n",
       "\t -0.126979162\\\\\n",
       "\t -0.080565119\\\\\n",
       "\t -0.043388839\\\\\n",
       "\t -0.014863672\\\\\n",
       "\t  0.006841062\\\\\n",
       "\t  0.021756546\\\\\n",
       "\t ...\\\\\n",
       "\t  0.160731346\\\\\n",
       "\t  0.138332439\\\\\n",
       "\t  0.111039212\\\\\n",
       "\t  0.082460570\\\\\n",
       "\t  0.055392368\\\\\n",
       "\t  0.031734938\\\\\n",
       "\t  0.012436045\\\\\n",
       "\t -0.002599127\\\\\n",
       "\t -0.014588217\\\\\n",
       "\t -0.025832517\\\\\n",
       "\t -0.039425927\\\\\n",
       "\t -0.058569872\\\\\n",
       "\t -0.085417306\\\\\n",
       "\t -0.119848176\\\\\n",
       "\t -0.159233939\\\\\n",
       "\t -0.199623450\\\\\n",
       "\t -0.237228535\\\\\n",
       "\t -0.269122127\\\\\n",
       "\t -0.293253004\\\\\n",
       "\t -0.308311570\\\\\n",
       "\t -0.313719198\\\\\n",
       "\t -0.309717443\\\\\n",
       "\t -0.297389187\\\\\n",
       "\t -0.278467375\\\\\n",
       "\t -0.254930602\\\\\n",
       "\t -0.228507989\\\\\n",
       "\t -0.200230014\\\\\n",
       "\t -0.170134913\\\\\n",
       "\t -0.137283650\\\\\n",
       "\t -0.100345413\\\\\n",
       "\\end{tabular}\n"
      ],
      "text/markdown": [
       "\n",
       "| V1 |\n",
       "|---|\n",
       "|  0.122063997 |\n",
       "|  0.047196816 |\n",
       "| -0.018330350 |\n",
       "| -0.081949580 |\n",
       "| -0.134221577 |\n",
       "| -0.185426752 |\n",
       "| -0.229343431 |\n",
       "| -0.275474689 |\n",
       "| -0.305797820 |\n",
       "| -0.338097980 |\n",
       "| -0.361800964 |\n",
       "| -0.382674806 |\n",
       "| -0.402633420 |\n",
       "| -0.414884033 |\n",
       "| -0.433475809 |\n",
       "| -0.452447024 |\n",
       "| -0.466018037 |\n",
       "| -0.471772524 |\n",
       "| -0.458593854 |\n",
       "| -0.425668962 |\n",
       "| -0.374528522 |\n",
       "| -0.312048426 |\n",
       "| -0.245943622 |\n",
       "| -0.182772515 |\n",
       "| -0.126979162 |\n",
       "| -0.080565119 |\n",
       "| -0.043388839 |\n",
       "| -0.014863672 |\n",
       "|  0.006841062 |\n",
       "|  0.021756546 |\n",
       "| ... |\n",
       "|  0.160731346 |\n",
       "|  0.138332439 |\n",
       "|  0.111039212 |\n",
       "|  0.082460570 |\n",
       "|  0.055392368 |\n",
       "|  0.031734938 |\n",
       "|  0.012436045 |\n",
       "| -0.002599127 |\n",
       "| -0.014588217 |\n",
       "| -0.025832517 |\n",
       "| -0.039425927 |\n",
       "| -0.058569872 |\n",
       "| -0.085417306 |\n",
       "| -0.119848176 |\n",
       "| -0.159233939 |\n",
       "| -0.199623450 |\n",
       "| -0.237228535 |\n",
       "| -0.269122127 |\n",
       "| -0.293253004 |\n",
       "| -0.308311570 |\n",
       "| -0.313719198 |\n",
       "| -0.309717443 |\n",
       "| -0.297389187 |\n",
       "| -0.278467375 |\n",
       "| -0.254930602 |\n",
       "| -0.228507989 |\n",
       "| -0.200230014 |\n",
       "| -0.170134913 |\n",
       "| -0.137283650 |\n",
       "| -0.100345413 |\n",
       "\n"
      ],
      "text/plain": [
       "      V1          \n",
       "1      0.122063997\n",
       "2      0.047196816\n",
       "3     -0.018330350\n",
       "4     -0.081949580\n",
       "5     -0.134221577\n",
       "6     -0.185426752\n",
       "7     -0.229343431\n",
       "8     -0.275474689\n",
       "9     -0.305797820\n",
       "10    -0.338097980\n",
       "11    -0.361800964\n",
       "12    -0.382674806\n",
       "13    -0.402633420\n",
       "14    -0.414884033\n",
       "15    -0.433475809\n",
       "16    -0.452447024\n",
       "17    -0.466018037\n",
       "18    -0.471772524\n",
       "19    -0.458593854\n",
       "20    -0.425668962\n",
       "21    -0.374528522\n",
       "22    -0.312048426\n",
       "23    -0.245943622\n",
       "24    -0.182772515\n",
       "25    -0.126979162\n",
       "26    -0.080565119\n",
       "27    -0.043388839\n",
       "28    -0.014863672\n",
       "29     0.006841062\n",
       "30     0.021756546\n",
       "...   ...         \n",
       "9971   0.160731346\n",
       "9972   0.138332439\n",
       "9973   0.111039212\n",
       "9974   0.082460570\n",
       "9975   0.055392368\n",
       "9976   0.031734938\n",
       "9977   0.012436045\n",
       "9978  -0.002599127\n",
       "9979  -0.014588217\n",
       "9980  -0.025832517\n",
       "9981  -0.039425927\n",
       "9982  -0.058569872\n",
       "9983  -0.085417306\n",
       "9984  -0.119848176\n",
       "9985  -0.159233939\n",
       "9986  -0.199623450\n",
       "9987  -0.237228535\n",
       "9988  -0.269122127\n",
       "9989  -0.293253004\n",
       "9990  -0.308311570\n",
       "9991  -0.313719198\n",
       "9992  -0.309717443\n",
       "9993  -0.297389187\n",
       "9994  -0.278467375\n",
       "9995  -0.254930602\n",
       "9996  -0.228507989\n",
       "9997  -0.200230014\n",
       "9998  -0.170134913\n",
       "9999  -0.137283650\n",
       "10000 -0.100345413"
      ]
     },
     "metadata": {},
     "output_type": "display_data"
    }
   ],
   "source": [
    "myfile"
   ]
  },
  {
   "cell_type": "code",
   "execution_count": 48,
   "id": "7c6f0e2c",
   "metadata": {},
   "outputs": [
    {
     "data": {
      "text/html": [
       "<ol class=list-inline>\n",
       "\t<li>0.122063996567843</li>\n",
       "\t<li>0.0471968158986172</li>\n",
       "\t<li>-0.0183303504008567</li>\n",
       "\t<li>-0.0819495798252688</li>\n",
       "\t<li>-0.13422157698005</li>\n",
       "</ol>\n"
      ],
      "text/latex": [
       "\\begin{enumerate*}\n",
       "\\item 0.122063996567843\n",
       "\\item 0.0471968158986172\n",
       "\\item -0.0183303504008567\n",
       "\\item -0.0819495798252688\n",
       "\\item -0.13422157698005\n",
       "\\end{enumerate*}\n"
      ],
      "text/markdown": [
       "1. 0.122063996567843\n",
       "2. 0.0471968158986172\n",
       "3. -0.0183303504008567\n",
       "4. -0.0819495798252688\n",
       "5. -0.13422157698005\n",
       "\n",
       "\n"
      ],
      "text/plain": [
       "[1]  0.12206400  0.04719682 -0.01833035 -0.08194958 -0.13422158"
      ]
     },
     "metadata": {},
     "output_type": "display_data"
    }
   ],
   "source": [
    "  myfile[1:5,]\n",
    "\n",
    " "
   ]
  },
  {
   "cell_type": "code",
   "execution_count": 49,
   "id": "4f3adfe4",
   "metadata": {},
   "outputs": [],
   "source": [
    "write.table(x=mydatafile,file=\"/Users/jamal/mydatafile.txt\",\n",
    "sep=\"@\",na=\"??\",quote=FALSE,row.names=FALSE)\n"
   ]
  },
  {
   "cell_type": "code",
   "execution_count": 50,
   "id": "a84d5456",
   "metadata": {},
   "outputs": [],
   "source": [
    " jpeg(filename=\"/Users/jamal/myjpegplot.jpeg\",width=600,height=600)\n"
   ]
  },
  {
   "cell_type": "code",
   "execution_count": 51,
   "id": "dabde61a",
   "metadata": {},
   "outputs": [
    {
     "data": {
      "image/png": "[encoded data removed]",
      "text/plain": [
       "Plot with title \"a saved .jpeg plot\""
      ]
     },
     "metadata": {},
     "output_type": "display_data"
    }
   ],
   "source": [
    "plot(1:5,6:10,ylab=\"a nice ylab\",xlab=\"here's an xlab\",\n",
    "main=\"a saved .jpeg plot\")\n"
   ]
  },
  {
   "cell_type": "code",
   "execution_count": 55,
   "id": "51e3e262",
   "metadata": {},
   "outputs": [],
   "source": [
    " pdf(file=\"/Users/jamal/mypdfplot.pdf\",width=5,height=5)\n"
   ]
  },
  {
   "cell_type": "code",
   "execution_count": 56,
   "id": "c4bb778f",
   "metadata": {},
   "outputs": [
    {
     "data": {
      "image/png": "[encoded data removed]",
      "text/plain": [
       "Plot with title \"a saved .pdf plot\""
      ]
     },
     "metadata": {},
     "output_type": "display_data"
    }
   ],
   "source": [
    "plot(1:5,6:10,ylab=\"a nice ylab\",xlab=\"here's an xlab\",\n",
    "main=\"a saved .pdf plot\")\n"
   ]
  },
  {
   "cell_type": "code",
   "execution_count": 58,
   "id": "3144beff",
   "metadata": {},
   "outputs": [],
   "source": [
    " foo <- c(1.1,2,3.5,3.9,4.2)"
   ]
  },
  {
   "cell_type": "code",
   "execution_count": 59,
   "id": "ef600a5e",
   "metadata": {},
   "outputs": [],
   "source": [
    " bar <- c(2,2.2,-1.3,0,0.2)"
   ]
  },
  {
   "cell_type": "code",
   "execution_count": 64,
   "id": "20c74492",
   "metadata": {},
   "outputs": [],
   "source": [
    "somelist <- list(foo=c(5,2,45),\n",
    "bar=matrix(data=c(T,T,F,F,F,F,T,F,T),nrow=3,ncol=3),\n",
    "baz=factor(c(1,2,2,3,1,1,3),levels=1:3,ordered=T))"
   ]
  },
  {
   "cell_type": "code",
   "execution_count": 65,
   "id": "ed686a44",
   "metadata": {},
   "outputs": [
    {
     "data": {
      "text/html": [
       "<dl>\n",
       "\t<dt>$foo</dt>\n",
       "\t\t<dd><ol class=list-inline>\n",
       "\t<li>5</li>\n",
       "\t<li>2</li>\n",
       "\t<li>45</li>\n",
       "</ol>\n",
       "</dd>\n",
       "\t<dt>$bar</dt>\n",
       "\t\t<dd><table>\n",
       "<tbody>\n",
       "\t<tr><td> TRUE</td><td>FALSE</td><td> TRUE</td></tr>\n",
       "\t<tr><td> TRUE</td><td>FALSE</td><td>FALSE</td></tr>\n",
       "\t<tr><td>FALSE</td><td>FALSE</td><td> TRUE</td></tr>\n",
       "</tbody>\n",
       "</table>\n",
       "</dd>\n",
       "\t<dt>$baz</dt>\n",
       "\t\t<dd><ol class=list-inline>\n",
       "\t<li>1</li>\n",
       "\t<li>2</li>\n",
       "\t<li>2</li>\n",
       "\t<li>3</li>\n",
       "\t<li>1</li>\n",
       "\t<li>1</li>\n",
       "\t<li>3</li>\n",
       "</ol>\n",
       "\n",
       "<details>\n",
       "\t<summary style=display:list-item;cursor:pointer>\n",
       "\t\t<strong>Levels</strong>:\n",
       "\t</summary>\n",
       "\t<ol class=list-inline>\n",
       "\t\t<li>'1'</li>\n",
       "\t\t<li>'2'</li>\n",
       "\t\t<li>'3'</li>\n",
       "\t</ol>\n",
       "</details></dd>\n",
       "</dl>\n"
      ],
      "text/latex": [
       "\\begin{description}\n",
       "\\item[\\$foo] \\begin{enumerate*}\n",
       "\\item 5\n",
       "\\item 2\n",
       "\\item 45\n",
       "\\end{enumerate*}\n",
       "\n",
       "\\item[\\$bar] \\begin{tabular}{lll}\n",
       "\t  TRUE & FALSE &  TRUE\\\\\n",
       "\t  TRUE & FALSE & FALSE\\\\\n",
       "\t FALSE & FALSE &  TRUE\\\\\n",
       "\\end{tabular}\n",
       "\n",
       "\\item[\\$baz] \\begin{enumerate*}\n",
       "\\item 1\n",
       "\\item 2\n",
       "\\item 2\n",
       "\\item 3\n",
       "\\item 1\n",
       "\\item 1\n",
       "\\item 3\n",
       "\\end{enumerate*}\n",
       "\n",
       "\\emph{Levels}: \\begin{enumerate*}\n",
       "\\item '1'\n",
       "\\item '2'\n",
       "\\item '3'\n",
       "\\end{enumerate*}\n",
       "\n",
       "\\end{description}\n"
      ],
      "text/markdown": [
       "$foo\n",
       ":   1. 5\n",
       "2. 2\n",
       "3. 45\n",
       "\n",
       "\n",
       "\n",
       "$bar\n",
       ":   \n",
       "|  TRUE | FALSE |  TRUE |\n",
       "|  TRUE | FALSE | FALSE |\n",
       "| FALSE | FALSE |  TRUE |\n",
       "\n",
       "\n",
       "$baz\n",
       ":   1. 1\n",
       "2. 2\n",
       "3. 2\n",
       "4. 3\n",
       "5. 1\n",
       "6. 1\n",
       "7. 3\n",
       "\n",
       "\n",
       "\n",
       "**Levels**: 1. '1'\n",
       "2. '2'\n",
       "3. '3'\n",
       "\n",
       "\n",
       "\n",
       "\n",
       "\n"
      ],
      "text/plain": [
       "$foo\n",
       "[1]  5  2 45\n",
       "\n",
       "$bar\n",
       "      [,1]  [,2]  [,3]\n",
       "[1,]  TRUE FALSE  TRUE\n",
       "[2,]  TRUE FALSE FALSE\n",
       "[3,] FALSE FALSE  TRUE\n",
       "\n",
       "$baz\n",
       "[1] 1 2 2 3 1 1 3\n",
       "Levels: 1 < 2 < 3\n"
      ]
     },
     "metadata": {},
     "output_type": "display_data"
    }
   ],
   "source": [
    "somelist"
   ]
  },
  {
   "cell_type": "code",
   "execution_count": 66,
   "id": "7cee441c",
   "metadata": {},
   "outputs": [
    {
     "data": {
      "text/html": [
       "<ol class=list-inline>\n",
       "\t<li>1.1</li>\n",
       "\t<li>2</li>\n",
       "\t<li>3.5</li>\n",
       "\t<li>3.9</li>\n",
       "\t<li>4.2</li>\n",
       "</ol>\n"
      ],
      "text/latex": [
       "\\begin{enumerate*}\n",
       "\\item 1.1\n",
       "\\item 2\n",
       "\\item 3.5\n",
       "\\item 3.9\n",
       "\\item 4.2\n",
       "\\end{enumerate*}\n"
      ],
      "text/markdown": [
       "1. 1.1\n",
       "2. 2\n",
       "3. 3.5\n",
       "4. 3.9\n",
       "5. 4.2\n",
       "\n",
       "\n"
      ],
      "text/plain": [
       "[1] 1.1 2.0 3.5 3.9 4.2"
      ]
     },
     "metadata": {},
     "output_type": "display_data"
    }
   ],
   "source": [
    "foo"
   ]
  },
  {
   "cell_type": "code",
   "execution_count": 67,
   "id": "9ccdb9fa",
   "metadata": {},
   "outputs": [
    {
     "data": {
      "text/html": [
       "<ol class=list-inline>\n",
       "\t<li>2</li>\n",
       "\t<li>2.2</li>\n",
       "\t<li>-1.3</li>\n",
       "\t<li>0</li>\n",
       "\t<li>0.2</li>\n",
       "</ol>\n"
      ],
      "text/latex": [
       "\\begin{enumerate*}\n",
       "\\item 2\n",
       "\\item 2.2\n",
       "\\item -1.3\n",
       "\\item 0\n",
       "\\item 0.2\n",
       "\\end{enumerate*}\n"
      ],
      "text/markdown": [
       "1. 2\n",
       "2. 2.2\n",
       "3. -1.3\n",
       "4. 0\n",
       "5. 0.2\n",
       "\n",
       "\n"
      ],
      "text/plain": [
       "[1]  2.0  2.2 -1.3  0.0  0.2"
      ]
     },
     "metadata": {},
     "output_type": "display_data"
    }
   ],
   "source": [
    "bar"
   ]
  },
  {
   "cell_type": "code",
   "execution_count": 69,
   "id": "47a4085b",
   "metadata": {},
   "outputs": [],
   "source": [
    "dput(x=somelist,file=\"/Users/jamal/myRobject.txt\")"
   ]
  },
  {
   "cell_type": "code",
   "execution_count": 71,
   "id": "a5e581d0",
   "metadata": {},
   "outputs": [],
   "source": [
    "newobject <- dget(file=\"/Users/jamal/myRobject.txt\")\n"
   ]
  },
  {
   "cell_type": "code",
   "execution_count": 72,
   "id": "e746add6",
   "metadata": {},
   "outputs": [
    {
     "data": {
      "text/html": [
       "<dl>\n",
       "\t<dt>$foo</dt>\n",
       "\t\t<dd><ol class=list-inline>\n",
       "\t<li>5</li>\n",
       "\t<li>2</li>\n",
       "\t<li>45</li>\n",
       "</ol>\n",
       "</dd>\n",
       "\t<dt>$bar</dt>\n",
       "\t\t<dd><table>\n",
       "<tbody>\n",
       "\t<tr><td> TRUE</td><td>FALSE</td><td> TRUE</td></tr>\n",
       "\t<tr><td> TRUE</td><td>FALSE</td><td>FALSE</td></tr>\n",
       "\t<tr><td>FALSE</td><td>FALSE</td><td> TRUE</td></tr>\n",
       "</tbody>\n",
       "</table>\n",
       "</dd>\n",
       "\t<dt>$baz</dt>\n",
       "\t\t<dd><ol class=list-inline>\n",
       "\t<li>1</li>\n",
       "\t<li>2</li>\n",
       "\t<li>2</li>\n",
       "\t<li>3</li>\n",
       "\t<li>1</li>\n",
       "\t<li>1</li>\n",
       "\t<li>3</li>\n",
       "</ol>\n",
       "\n",
       "<details>\n",
       "\t<summary style=display:list-item;cursor:pointer>\n",
       "\t\t<strong>Levels</strong>:\n",
       "\t</summary>\n",
       "\t<ol class=list-inline>\n",
       "\t\t<li>'1'</li>\n",
       "\t\t<li>'2'</li>\n",
       "\t\t<li>'3'</li>\n",
       "\t</ol>\n",
       "</details></dd>\n",
       "</dl>\n"
      ],
      "text/latex": [
       "\\begin{description}\n",
       "\\item[\\$foo] \\begin{enumerate*}\n",
       "\\item 5\n",
       "\\item 2\n",
       "\\item 45\n",
       "\\end{enumerate*}\n",
       "\n",
       "\\item[\\$bar] \\begin{tabular}{lll}\n",
       "\t  TRUE & FALSE &  TRUE\\\\\n",
       "\t  TRUE & FALSE & FALSE\\\\\n",
       "\t FALSE & FALSE &  TRUE\\\\\n",
       "\\end{tabular}\n",
       "\n",
       "\\item[\\$baz] \\begin{enumerate*}\n",
       "\\item 1\n",
       "\\item 2\n",
       "\\item 2\n",
       "\\item 3\n",
       "\\item 1\n",
       "\\item 1\n",
       "\\item 3\n",
       "\\end{enumerate*}\n",
       "\n",
       "\\emph{Levels}: \\begin{enumerate*}\n",
       "\\item '1'\n",
       "\\item '2'\n",
       "\\item '3'\n",
       "\\end{enumerate*}\n",
       "\n",
       "\\end{description}\n"
      ],
      "text/markdown": [
       "$foo\n",
       ":   1. 5\n",
       "2. 2\n",
       "3. 45\n",
       "\n",
       "\n",
       "\n",
       "$bar\n",
       ":   \n",
       "|  TRUE | FALSE |  TRUE |\n",
       "|  TRUE | FALSE | FALSE |\n",
       "| FALSE | FALSE |  TRUE |\n",
       "\n",
       "\n",
       "$baz\n",
       ":   1. 1\n",
       "2. 2\n",
       "3. 2\n",
       "4. 3\n",
       "5. 1\n",
       "6. 1\n",
       "7. 3\n",
       "\n",
       "\n",
       "\n",
       "**Levels**: 1. '1'\n",
       "2. '2'\n",
       "3. '3'\n",
       "\n",
       "\n",
       "\n",
       "\n",
       "\n"
      ],
      "text/plain": [
       "$foo\n",
       "[1]  5  2 45\n",
       "\n",
       "$bar\n",
       "      [,1]  [,2]  [,3]\n",
       "[1,]  TRUE FALSE  TRUE\n",
       "[2,]  TRUE FALSE FALSE\n",
       "[3,] FALSE FALSE  TRUE\n",
       "\n",
       "$baz\n",
       "[1] 1 2 2 3 1 1 3\n",
       "Levels: 1 < 2 < 3\n"
      ]
     },
     "metadata": {},
     "output_type": "display_data"
    }
   ],
   "source": [
    "newobject"
   ]
  },
  {
   "cell_type": "code",
   "execution_count": 73,
   "id": "33027c45",
   "metadata": {},
   "outputs": [],
   "source": [
    " youthspeak <- matrix(data=c(\"OMG\",\"LOL\",\"WTF\",\"YOLO\"),nrow=2,ncol=2)\n"
   ]
  },
  {
   "cell_type": "code",
   "execution_count": 74,
   "id": "a15f4f73",
   "metadata": {},
   "outputs": [
    {
     "data": {
      "text/html": [
       "<table>\n",
       "<tbody>\n",
       "\t<tr><td>OMG </td><td>WTF </td></tr>\n",
       "\t<tr><td>LOL </td><td>YOLO</td></tr>\n",
       "</tbody>\n",
       "</table>\n"
      ],
      "text/latex": [
       "\\begin{tabular}{ll}\n",
       "\t OMG  & WTF \\\\\n",
       "\t LOL  & YOLO\\\\\n",
       "\\end{tabular}\n"
      ],
      "text/markdown": [
       "\n",
       "| OMG  | WTF  |\n",
       "| LOL  | YOLO |\n",
       "\n"
      ],
      "text/plain": [
       "     [,1] [,2]\n",
       "[1,] OMG  WTF \n",
       "[2,] LOL  YOLO"
      ]
     },
     "metadata": {},
     "output_type": "display_data"
    }
   ],
   "source": [
    " youthspeak"
   ]
  },
  {
   "cell_type": "code",
   "execution_count": 75,
   "id": "26eae500",
   "metadata": {},
   "outputs": [
    {
     "data": {
      "text/html": [
       "<ol class=list-inline>\n",
       "\t<li>'.GlobalEnv'</li>\n",
       "\t<li>'package:tseries'</li>\n",
       "\t<li>'jupyter:irkernel'</li>\n",
       "\t<li>'package:stats'</li>\n",
       "\t<li>'package:graphics'</li>\n",
       "\t<li>'package:grDevices'</li>\n",
       "\t<li>'package:utils'</li>\n",
       "\t<li>'package:datasets'</li>\n",
       "\t<li>'package:methods'</li>\n",
       "\t<li>'Autoloads'</li>\n",
       "\t<li>'package:base'</li>\n",
       "</ol>\n"
      ],
      "text/latex": [
       "\\begin{enumerate*}\n",
       "\\item '.GlobalEnv'\n",
       "\\item 'package:tseries'\n",
       "\\item 'jupyter:irkernel'\n",
       "\\item 'package:stats'\n",
       "\\item 'package:graphics'\n",
       "\\item 'package:grDevices'\n",
       "\\item 'package:utils'\n",
       "\\item 'package:datasets'\n",
       "\\item 'package:methods'\n",
       "\\item 'Autoloads'\n",
       "\\item 'package:base'\n",
       "\\end{enumerate*}\n"
      ],
      "text/markdown": [
       "1. '.GlobalEnv'\n",
       "2. 'package:tseries'\n",
       "3. 'jupyter:irkernel'\n",
       "4. 'package:stats'\n",
       "5. 'package:graphics'\n",
       "6. 'package:grDevices'\n",
       "7. 'package:utils'\n",
       "8. 'package:datasets'\n",
       "9. 'package:methods'\n",
       "10. 'Autoloads'\n",
       "11. 'package:base'\n",
       "\n",
       "\n"
      ],
      "text/plain": [
       " [1] \".GlobalEnv\"        \"package:tseries\"   \"jupyter:irkernel\" \n",
       " [4] \"package:stats\"     \"package:graphics\"  \"package:grDevices\"\n",
       " [7] \"package:utils\"     \"package:datasets\"  \"package:methods\"  \n",
       "[10] \"Autoloads\"         \"package:base\"     "
      ]
     },
     "metadata": {},
     "output_type": "display_data"
    }
   ],
   "source": [
    " search()\n"
   ]
  },
  {
   "cell_type": "code",
   "execution_count": 76,
   "id": "993bfc60",
   "metadata": {},
   "outputs": [],
   "source": [
    " baz <- seq(from=0,to=3,length.out=5)"
   ]
  },
  {
   "cell_type": "code",
   "execution_count": 77,
   "id": "6a9a03a2",
   "metadata": {},
   "outputs": [
    {
     "data": {
      "text/html": [
       "<ol class=list-inline>\n",
       "\t<li>0</li>\n",
       "\t<li>0.75</li>\n",
       "\t<li>1.5</li>\n",
       "\t<li>2.25</li>\n",
       "\t<li>3</li>\n",
       "</ol>\n"
      ],
      "text/latex": [
       "\\begin{enumerate*}\n",
       "\\item 0\n",
       "\\item 0.75\n",
       "\\item 1.5\n",
       "\\item 2.25\n",
       "\\item 3\n",
       "\\end{enumerate*}\n"
      ],
      "text/markdown": [
       "1. 0\n",
       "2. 0.75\n",
       "3. 1.5\n",
       "4. 2.25\n",
       "5. 3\n",
       "\n",
       "\n"
      ],
      "text/plain": [
       "[1] 0.00 0.75 1.50 2.25 3.00"
      ]
     },
     "metadata": {},
     "output_type": "display_data"
    }
   ],
   "source": [
    "baz"
   ]
  },
  {
   "cell_type": "code",
   "execution_count": 78,
   "id": "8f45ee85",
   "metadata": {},
   "outputs": [
    {
     "name": "stderr",
     "output_type": "stream",
     "text": [
      "Loading required package: carData\n"
     ]
    }
   ],
   "source": [
    " library(\"car\")"
   ]
  },
  {
   "cell_type": "code",
   "execution_count": 79,
   "id": "68edb0f7",
   "metadata": {},
   "outputs": [
    {
     "data": {
      "text/html": [
       "<ol class=list-inline>\n",
       "\t<li>'.GlobalEnv'</li>\n",
       "\t<li>'package:car'</li>\n",
       "\t<li>'package:carData'</li>\n",
       "\t<li>'package:tseries'</li>\n",
       "\t<li>'jupyter:irkernel'</li>\n",
       "\t<li>'package:stats'</li>\n",
       "\t<li>'package:graphics'</li>\n",
       "\t<li>'package:grDevices'</li>\n",
       "\t<li>'package:utils'</li>\n",
       "\t<li>'package:datasets'</li>\n",
       "\t<li>'package:methods'</li>\n",
       "\t<li>'Autoloads'</li>\n",
       "\t<li>'package:base'</li>\n",
       "</ol>\n"
      ],
      "text/latex": [
       "\\begin{enumerate*}\n",
       "\\item '.GlobalEnv'\n",
       "\\item 'package:car'\n",
       "\\item 'package:carData'\n",
       "\\item 'package:tseries'\n",
       "\\item 'jupyter:irkernel'\n",
       "\\item 'package:stats'\n",
       "\\item 'package:graphics'\n",
       "\\item 'package:grDevices'\n",
       "\\item 'package:utils'\n",
       "\\item 'package:datasets'\n",
       "\\item 'package:methods'\n",
       "\\item 'Autoloads'\n",
       "\\item 'package:base'\n",
       "\\end{enumerate*}\n"
      ],
      "text/markdown": [
       "1. '.GlobalEnv'\n",
       "2. 'package:car'\n",
       "3. 'package:carData'\n",
       "4. 'package:tseries'\n",
       "5. 'jupyter:irkernel'\n",
       "6. 'package:stats'\n",
       "7. 'package:graphics'\n",
       "8. 'package:grDevices'\n",
       "9. 'package:utils'\n",
       "10. 'package:datasets'\n",
       "11. 'package:methods'\n",
       "12. 'Autoloads'\n",
       "13. 'package:base'\n",
       "\n",
       "\n"
      ],
      "text/plain": [
       " [1] \".GlobalEnv\"        \"package:car\"       \"package:carData\"  \n",
       " [4] \"package:tseries\"   \"jupyter:irkernel\"  \"package:stats\"    \n",
       " [7] \"package:graphics\"  \"package:grDevices\" \"package:utils\"    \n",
       "[10] \"package:datasets\"  \"package:methods\"   \"Autoloads\"        \n",
       "[13] \"package:base\"     "
      ]
     },
     "metadata": {},
     "output_type": "display_data"
    }
   ],
   "source": [
    "search()\n"
   ]
  },
  {
   "cell_type": "code",
   "execution_count": 80,
   "id": "5e220930",
   "metadata": {},
   "outputs": [],
   "source": [
    " T <- 42"
   ]
  },
  {
   "cell_type": "code",
   "execution_count": 81,
   "id": "25a9ae9a",
   "metadata": {},
   "outputs": [],
   "source": [
    " F <- TRUE"
   ]
  },
  {
   "cell_type": "code",
   "execution_count": 82,
   "id": "7abf94aa",
   "metadata": {},
   "outputs": [
    {
     "data": {
      "text/html": [
       "TRUE"
      ],
      "text/latex": [
       "TRUE"
      ],
      "text/markdown": [
       "TRUE"
      ],
      "text/plain": [
       "[1] TRUE"
      ]
     },
     "metadata": {},
     "output_type": "display_data"
    }
   ],
   "source": [
    " F&&TRUE"
   ]
  },
  {
   "cell_type": "code",
   "execution_count": 83,
   "id": "700464f1",
   "metadata": {},
   "outputs": [
    {
     "data": {
      "text/html": [
       "<ol class=list-inline>\n",
       "\t<li>'bar'</li>\n",
       "\t<li>'baz'</li>\n",
       "\t<li>'dia.url'</li>\n",
       "\t<li>'F'</li>\n",
       "\t<li>'flow.jok'</li>\n",
       "\t<li>'flow.vat'</li>\n",
       "\t<li>'foo'</li>\n",
       "\t<li>'ice.river'</li>\n",
       "\t<li>'mydatafile'</li>\n",
       "\t<li>'myfile'</li>\n",
       "\t<li>'newobject'</li>\n",
       "\t<li>'prec'</li>\n",
       "\t<li>'somelist'</li>\n",
       "\t<li>'spread'</li>\n",
       "\t<li>'T'</li>\n",
       "\t<li>'temp'</li>\n",
       "\t<li>'youthspeak'</li>\n",
       "</ol>\n"
      ],
      "text/latex": [
       "\\begin{enumerate*}\n",
       "\\item 'bar'\n",
       "\\item 'baz'\n",
       "\\item 'dia.url'\n",
       "\\item 'F'\n",
       "\\item 'flow.jok'\n",
       "\\item 'flow.vat'\n",
       "\\item 'foo'\n",
       "\\item 'ice.river'\n",
       "\\item 'mydatafile'\n",
       "\\item 'myfile'\n",
       "\\item 'newobject'\n",
       "\\item 'prec'\n",
       "\\item 'somelist'\n",
       "\\item 'spread'\n",
       "\\item 'T'\n",
       "\\item 'temp'\n",
       "\\item 'youthspeak'\n",
       "\\end{enumerate*}\n"
      ],
      "text/markdown": [
       "1. 'bar'\n",
       "2. 'baz'\n",
       "3. 'dia.url'\n",
       "4. 'F'\n",
       "5. 'flow.jok'\n",
       "6. 'flow.vat'\n",
       "7. 'foo'\n",
       "8. 'ice.river'\n",
       "9. 'mydatafile'\n",
       "10. 'myfile'\n",
       "11. 'newobject'\n",
       "12. 'prec'\n",
       "13. 'somelist'\n",
       "14. 'spread'\n",
       "15. 'T'\n",
       "16. 'temp'\n",
       "17. 'youthspeak'\n",
       "\n",
       "\n"
      ],
      "text/plain": [
       " [1] \"bar\"        \"baz\"        \"dia.url\"    \"F\"          \"flow.jok\"  \n",
       " [6] \"flow.vat\"   \"foo\"        \"ice.river\"  \"mydatafile\" \"myfile\"    \n",
       "[11] \"newobject\"  \"prec\"       \"somelist\"   \"spread\"     \"T\"         \n",
       "[16] \"temp\"       \"youthspeak\""
      ]
     },
     "metadata": {},
     "output_type": "display_data"
    }
   ],
   "source": [
    "ls()"
   ]
  },
  {
   "cell_type": "code",
   "execution_count": 84,
   "id": "1fad6e50",
   "metadata": {},
   "outputs": [],
   "source": [
    "bar <- matrix(data=1:9,nrow=3,ncol=3,dimnames=list(c(\"A\",\"B\",\"C\"),\n",
    "c(\"D\",\"E\",\"F\")))"
   ]
  },
  {
   "cell_type": "code",
   "execution_count": 85,
   "id": "1e05ffcc",
   "metadata": {},
   "outputs": [
    {
     "data": {
      "text/html": [
       "<table>\n",
       "<thead><tr><th></th><th scope=col>D</th><th scope=col>E</th><th scope=col>F</th></tr></thead>\n",
       "<tbody>\n",
       "\t<tr><th scope=row>A</th><td>1</td><td>4</td><td>7</td></tr>\n",
       "\t<tr><th scope=row>B</th><td>2</td><td>5</td><td>8</td></tr>\n",
       "\t<tr><th scope=row>C</th><td>3</td><td>6</td><td>9</td></tr>\n",
       "</tbody>\n",
       "</table>\n"
      ],
      "text/latex": [
       "\\begin{tabular}{r|lll}\n",
       "  & D & E & F\\\\\n",
       "\\hline\n",
       "\tA & 1 & 4 & 7\\\\\n",
       "\tB & 2 & 5 & 8\\\\\n",
       "\tC & 3 & 6 & 9\\\\\n",
       "\\end{tabular}\n"
      ],
      "text/markdown": [
       "\n",
       "| <!--/--> | D | E | F |\n",
       "|---|---|---|---|\n",
       "| A | 1 | 4 | 7 |\n",
       "| B | 2 | 5 | 8 |\n",
       "| C | 3 | 6 | 9 |\n",
       "\n"
      ],
      "text/plain": [
       "  D E F\n",
       "A 1 4 7\n",
       "B 2 5 8\n",
       "C 3 6 9"
      ]
     },
     "metadata": {},
     "output_type": "display_data"
    }
   ],
   "source": [
    "bar"
   ]
  },
  {
   "cell_type": "code",
   "execution_count": 86,
   "id": "61f2e04a",
   "metadata": {},
   "outputs": [],
   "source": [
    "bar <- matrix(nrow=3,dimnames=list(c(\"A\",\"B\",\"C\"),c(\"D\",\"E\",\"F\")),ncol=3,\n",
    "data=1:9)\n"
   ]
  },
  {
   "cell_type": "code",
   "execution_count": 87,
   "id": "4e556b62",
   "metadata": {},
   "outputs": [
    {
     "data": {
      "text/html": [
       "<table>\n",
       "<thead><tr><th></th><th scope=col>D</th><th scope=col>E</th><th scope=col>F</th></tr></thead>\n",
       "<tbody>\n",
       "\t<tr><th scope=row>A</th><td>1</td><td>4</td><td>7</td></tr>\n",
       "\t<tr><th scope=row>B</th><td>2</td><td>5</td><td>8</td></tr>\n",
       "\t<tr><th scope=row>C</th><td>3</td><td>6</td><td>9</td></tr>\n",
       "</tbody>\n",
       "</table>\n"
      ],
      "text/latex": [
       "\\begin{tabular}{r|lll}\n",
       "  & D & E & F\\\\\n",
       "\\hline\n",
       "\tA & 1 & 4 & 7\\\\\n",
       "\tB & 2 & 5 & 8\\\\\n",
       "\tC & 3 & 6 & 9\\\\\n",
       "\\end{tabular}\n"
      ],
      "text/markdown": [
       "\n",
       "| <!--/--> | D | E | F |\n",
       "|---|---|---|---|\n",
       "| A | 1 | 4 | 7 |\n",
       "| B | 2 | 5 | 8 |\n",
       "| C | 3 | 6 | 9 |\n",
       "\n"
      ],
      "text/plain": [
       "  D E F\n",
       "A 1 4 7\n",
       "B 2 5 8\n",
       "C 3 6 9"
      ]
     },
     "metadata": {},
     "output_type": "display_data"
    }
   ],
   "source": [
    "bar"
   ]
  },
  {
   "cell_type": "code",
   "execution_count": 88,
   "id": "6b15549e",
   "metadata": {},
   "outputs": [],
   "source": [
    " bar <- matrix(nr=3,di=list(c(\"A\",\"B\",\"C\"),c(\"D\",\"E\",\"F\")),nc=3,dat=1:9)\n"
   ]
  },
  {
   "cell_type": "code",
   "execution_count": 89,
   "id": "0d848a1c",
   "metadata": {},
   "outputs": [
    {
     "data": {
      "text/html": [
       "<table>\n",
       "<thead><tr><th></th><th scope=col>D</th><th scope=col>E</th><th scope=col>F</th></tr></thead>\n",
       "<tbody>\n",
       "\t<tr><th scope=row>A</th><td>1</td><td>4</td><td>7</td></tr>\n",
       "\t<tr><th scope=row>B</th><td>2</td><td>5</td><td>8</td></tr>\n",
       "\t<tr><th scope=row>C</th><td>3</td><td>6</td><td>9</td></tr>\n",
       "</tbody>\n",
       "</table>\n"
      ],
      "text/latex": [
       "\\begin{tabular}{r|lll}\n",
       "  & D & E & F\\\\\n",
       "\\hline\n",
       "\tA & 1 & 4 & 7\\\\\n",
       "\tB & 2 & 5 & 8\\\\\n",
       "\tC & 3 & 6 & 9\\\\\n",
       "\\end{tabular}\n"
      ],
      "text/markdown": [
       "\n",
       "| <!--/--> | D | E | F |\n",
       "|---|---|---|---|\n",
       "| A | 1 | 4 | 7 |\n",
       "| B | 2 | 5 | 8 |\n",
       "| C | 3 | 6 | 9 |\n",
       "\n"
      ],
      "text/plain": [
       "  D E F\n",
       "A 1 4 7\n",
       "B 2 5 8\n",
       "C 3 6 9"
      ]
     },
     "metadata": {},
     "output_type": "display_data"
    }
   ],
   "source": [
    "bar"
   ]
  },
  {
   "cell_type": "code",
   "execution_count": 90,
   "id": "6e718bc6",
   "metadata": {},
   "outputs": [],
   "source": [
    "bar <- matrix(1:9,3,3,dim=list(c(\"A\",\"B\",\"C\"),c(\"D\",\"E\",\"F\")))"
   ]
  },
  {
   "cell_type": "code",
   "execution_count": 91,
   "id": "387491df",
   "metadata": {},
   "outputs": [
    {
     "data": {
      "text/html": [
       "<table>\n",
       "<thead><tr><th></th><th scope=col>D</th><th scope=col>E</th><th scope=col>F</th></tr></thead>\n",
       "<tbody>\n",
       "\t<tr><th scope=row>A</th><td>1</td><td>4</td><td>7</td></tr>\n",
       "\t<tr><th scope=row>B</th><td>2</td><td>5</td><td>8</td></tr>\n",
       "\t<tr><th scope=row>C</th><td>3</td><td>6</td><td>9</td></tr>\n",
       "</tbody>\n",
       "</table>\n"
      ],
      "text/latex": [
       "\\begin{tabular}{r|lll}\n",
       "  & D & E & F\\\\\n",
       "\\hline\n",
       "\tA & 1 & 4 & 7\\\\\n",
       "\tB & 2 & 5 & 8\\\\\n",
       "\tC & 3 & 6 & 9\\\\\n",
       "\\end{tabular}\n"
      ],
      "text/markdown": [
       "\n",
       "| <!--/--> | D | E | F |\n",
       "|---|---|---|---|\n",
       "| A | 1 | 4 | 7 |\n",
       "| B | 2 | 5 | 8 |\n",
       "| C | 3 | 6 | 9 |\n",
       "\n"
      ],
      "text/plain": [
       "  D E F\n",
       "A 1 4 7\n",
       "B 2 5 8\n",
       "C 3 6 9"
      ]
     },
     "metadata": {},
     "output_type": "display_data"
    }
   ],
   "source": [
    "bar"
   ]
  },
  {
   "cell_type": "code",
   "execution_count": 92,
   "id": "3ab554d2",
   "metadata": {},
   "outputs": [],
   "source": [
    "myvec <- c(2.73,5.40,2.15,5.29,1.36,2.16,1.41,6.97,7.99,9.52)"
   ]
  },
  {
   "cell_type": "code",
   "execution_count": 93,
   "id": "41ed47f2",
   "metadata": {},
   "outputs": [
    {
     "data": {
      "text/html": [
       "<ol class=list-inline>\n",
       "\t<li>2.73</li>\n",
       "\t<li>5.4</li>\n",
       "\t<li>2.15</li>\n",
       "\t<li>5.29</li>\n",
       "\t<li>1.36</li>\n",
       "\t<li>2.16</li>\n",
       "\t<li>1.41</li>\n",
       "\t<li>6.97</li>\n",
       "\t<li>7.99</li>\n",
       "\t<li>9.52</li>\n",
       "</ol>\n"
      ],
      "text/latex": [
       "\\begin{enumerate*}\n",
       "\\item 2.73\n",
       "\\item 5.4\n",
       "\\item 2.15\n",
       "\\item 5.29\n",
       "\\item 1.36\n",
       "\\item 2.16\n",
       "\\item 1.41\n",
       "\\item 6.97\n",
       "\\item 7.99\n",
       "\\item 9.52\n",
       "\\end{enumerate*}\n"
      ],
      "text/markdown": [
       "1. 2.73\n",
       "2. 5.4\n",
       "3. 2.15\n",
       "4. 5.29\n",
       "5. 1.36\n",
       "6. 2.16\n",
       "7. 1.41\n",
       "8. 6.97\n",
       "9. 7.99\n",
       "10. 9.52\n",
       "\n",
       "\n"
      ],
      "text/plain": [
       " [1] 2.73 5.40 2.15 5.29 1.36 2.16 1.41 6.97 7.99 9.52"
      ]
     },
     "metadata": {},
     "output_type": "display_data"
    }
   ],
   "source": [
    "myvec"
   ]
  },
  {
   "cell_type": "code",
   "execution_count": 94,
   "id": "8413b808",
   "metadata": {},
   "outputs": [],
   "source": [
    " mymat <- matrix(c(2,0,1,2,3,0,3,0,1,1),5,2)\n"
   ]
  },
  {
   "cell_type": "code",
   "execution_count": 95,
   "id": "a7ad40a0",
   "metadata": {},
   "outputs": [
    {
     "data": {
      "text/html": [
       "<table>\n",
       "<tbody>\n",
       "\t<tr><td>2</td><td>0</td></tr>\n",
       "\t<tr><td>0</td><td>3</td></tr>\n",
       "\t<tr><td>1</td><td>0</td></tr>\n",
       "\t<tr><td>2</td><td>1</td></tr>\n",
       "\t<tr><td>3</td><td>1</td></tr>\n",
       "</tbody>\n",
       "</table>\n"
      ],
      "text/latex": [
       "\\begin{tabular}{ll}\n",
       "\t 2 & 0\\\\\n",
       "\t 0 & 3\\\\\n",
       "\t 1 & 0\\\\\n",
       "\t 2 & 1\\\\\n",
       "\t 3 & 1\\\\\n",
       "\\end{tabular}\n"
      ],
      "text/markdown": [
       "\n",
       "| 2 | 0 |\n",
       "| 0 | 3 |\n",
       "| 1 | 0 |\n",
       "| 2 | 1 |\n",
       "| 3 | 1 |\n",
       "\n"
      ],
      "text/plain": [
       "     [,1] [,2]\n",
       "[1,] 2    0   \n",
       "[2,] 0    3   \n",
       "[3,] 1    0   \n",
       "[4,] 2    1   \n",
       "[5,] 3    1   "
      ]
     },
     "metadata": {},
     "output_type": "display_data"
    }
   ],
   "source": [
    "mymat"
   ]
  },
  {
   "cell_type": "code",
   "execution_count": 96,
   "id": "b2aadfe0",
   "metadata": {},
   "outputs": [
    {
     "name": "stdout",
     "output_type": "stream",
     "text": [
      "Condition satisfied --\n",
      "-- a list with 2 members now exists."
     ]
    }
   ],
   "source": [
    "if(any((myvec-1)>9)||matrix(myvec,2,5)[2,1]<=6){\n",
    "cat(\"Condition satisfied --\\n\")\n",
    "new.myvec <- myvec\n",
    "new.myvec[seq(1,9,2)] <- NA\n",
    "mylist <- list(aa=new.myvec,bb=mymat+0.5)\n",
    "cat(\"-- a list with\",length(mylist),\"members now exists.\")\n",
    "}\n"
   ]
  },
  {
   "cell_type": "code",
   "execution_count": 97,
   "id": "95770a98",
   "metadata": {},
   "outputs": [
    {
     "data": {
      "text/html": [
       "<dl>\n",
       "\t<dt>$aa</dt>\n",
       "\t\t<dd><ol class=list-inline>\n",
       "\t<li>&lt;NA&gt;</li>\n",
       "\t<li>5.4</li>\n",
       "\t<li>&lt;NA&gt;</li>\n",
       "\t<li>5.29</li>\n",
       "\t<li>&lt;NA&gt;</li>\n",
       "\t<li>2.16</li>\n",
       "\t<li>&lt;NA&gt;</li>\n",
       "\t<li>6.97</li>\n",
       "\t<li>&lt;NA&gt;</li>\n",
       "\t<li>9.52</li>\n",
       "</ol>\n",
       "</dd>\n",
       "\t<dt>$bb</dt>\n",
       "\t\t<dd><table>\n",
       "<tbody>\n",
       "\t<tr><td>2.5</td><td>0.5</td></tr>\n",
       "\t<tr><td>0.5</td><td>3.5</td></tr>\n",
       "\t<tr><td>1.5</td><td>0.5</td></tr>\n",
       "\t<tr><td>2.5</td><td>1.5</td></tr>\n",
       "\t<tr><td>3.5</td><td>1.5</td></tr>\n",
       "</tbody>\n",
       "</table>\n",
       "</dd>\n",
       "</dl>\n"
      ],
      "text/latex": [
       "\\begin{description}\n",
       "\\item[\\$aa] \\begin{enumerate*}\n",
       "\\item <NA>\n",
       "\\item 5.4\n",
       "\\item <NA>\n",
       "\\item 5.29\n",
       "\\item <NA>\n",
       "\\item 2.16\n",
       "\\item <NA>\n",
       "\\item 6.97\n",
       "\\item <NA>\n",
       "\\item 9.52\n",
       "\\end{enumerate*}\n",
       "\n",
       "\\item[\\$bb] \\begin{tabular}{ll}\n",
       "\t 2.5 & 0.5\\\\\n",
       "\t 0.5 & 3.5\\\\\n",
       "\t 1.5 & 0.5\\\\\n",
       "\t 2.5 & 1.5\\\\\n",
       "\t 3.5 & 1.5\\\\\n",
       "\\end{tabular}\n",
       "\n",
       "\\end{description}\n"
      ],
      "text/markdown": [
       "$aa\n",
       ":   1. &lt;NA&gt;\n",
       "2. 5.4\n",
       "3. &lt;NA&gt;\n",
       "4. 5.29\n",
       "5. &lt;NA&gt;\n",
       "6. 2.16\n",
       "7. &lt;NA&gt;\n",
       "8. 6.97\n",
       "9. &lt;NA&gt;\n",
       "10. 9.52\n",
       "\n",
       "\n",
       "\n",
       "$bb\n",
       ":   \n",
       "| 2.5 | 0.5 |\n",
       "| 0.5 | 3.5 |\n",
       "| 1.5 | 0.5 |\n",
       "| 2.5 | 1.5 |\n",
       "| 3.5 | 1.5 |\n",
       "\n",
       "\n",
       "\n",
       "\n"
      ],
      "text/plain": [
       "$aa\n",
       " [1]   NA 5.40   NA 5.29   NA 2.16   NA 6.97   NA 9.52\n",
       "\n",
       "$bb\n",
       "     [,1] [,2]\n",
       "[1,]  2.5  0.5\n",
       "[2,]  0.5  3.5\n",
       "[3,]  1.5  0.5\n",
       "[4,]  2.5  1.5\n",
       "[5,]  3.5  1.5\n"
      ]
     },
     "metadata": {},
     "output_type": "display_data"
    }
   ],
   "source": [
    "mylist"
   ]
  },
  {
   "cell_type": "code",
   "execution_count": 98,
   "id": "0d0b97f2",
   "metadata": {},
   "outputs": [
    {
     "data": {
      "text/html": [
       "<ol class=list-inline>\n",
       "\t<li>1.73</li>\n",
       "\t<li>4.4</li>\n",
       "\t<li>1.15</li>\n",
       "\t<li>4.29</li>\n",
       "\t<li>0.36</li>\n",
       "\t<li>1.16</li>\n",
       "\t<li>0.41</li>\n",
       "\t<li>5.97</li>\n",
       "\t<li>6.99</li>\n",
       "\t<li>8.52</li>\n",
       "</ol>\n"
      ],
      "text/latex": [
       "\\begin{enumerate*}\n",
       "\\item 1.73\n",
       "\\item 4.4\n",
       "\\item 1.15\n",
       "\\item 4.29\n",
       "\\item 0.36\n",
       "\\item 1.16\n",
       "\\item 0.41\n",
       "\\item 5.97\n",
       "\\item 6.99\n",
       "\\item 8.52\n",
       "\\end{enumerate*}\n"
      ],
      "text/markdown": [
       "1. 1.73\n",
       "2. 4.4\n",
       "3. 1.15\n",
       "4. 4.29\n",
       "5. 0.36\n",
       "6. 1.16\n",
       "7. 0.41\n",
       "8. 5.97\n",
       "9. 6.99\n",
       "10. 8.52\n",
       "\n",
       "\n"
      ],
      "text/plain": [
       " [1] 1.73 4.40 1.15 4.29 0.36 1.16 0.41 5.97 6.99 8.52"
      ]
     },
     "metadata": {},
     "output_type": "display_data"
    }
   ],
   "source": [
    " myvec-1"
   ]
  },
  {
   "cell_type": "code",
   "execution_count": 99,
   "id": "ed79692c",
   "metadata": {},
   "outputs": [
    {
     "data": {
      "text/html": [
       "<ol class=list-inline>\n",
       "\t<li>FALSE</li>\n",
       "\t<li>FALSE</li>\n",
       "\t<li>FALSE</li>\n",
       "\t<li>FALSE</li>\n",
       "\t<li>FALSE</li>\n",
       "\t<li>FALSE</li>\n",
       "\t<li>FALSE</li>\n",
       "\t<li>FALSE</li>\n",
       "\t<li>FALSE</li>\n",
       "\t<li>FALSE</li>\n",
       "</ol>\n"
      ],
      "text/latex": [
       "\\begin{enumerate*}\n",
       "\\item FALSE\n",
       "\\item FALSE\n",
       "\\item FALSE\n",
       "\\item FALSE\n",
       "\\item FALSE\n",
       "\\item FALSE\n",
       "\\item FALSE\n",
       "\\item FALSE\n",
       "\\item FALSE\n",
       "\\item FALSE\n",
       "\\end{enumerate*}\n"
      ],
      "text/markdown": [
       "1. FALSE\n",
       "2. FALSE\n",
       "3. FALSE\n",
       "4. FALSE\n",
       "5. FALSE\n",
       "6. FALSE\n",
       "7. FALSE\n",
       "8. FALSE\n",
       "9. FALSE\n",
       "10. FALSE\n",
       "\n",
       "\n"
      ],
      "text/plain": [
       " [1] FALSE FALSE FALSE FALSE FALSE FALSE FALSE FALSE FALSE FALSE"
      ]
     },
     "metadata": {},
     "output_type": "display_data"
    }
   ],
   "source": [
    " (myvec-1)>9\n"
   ]
  },
  {
   "cell_type": "code",
   "execution_count": 100,
   "id": "0227a99a",
   "metadata": {},
   "outputs": [
    {
     "data": {
      "text/html": [
       "FALSE"
      ],
      "text/latex": [
       "FALSE"
      ],
      "text/markdown": [
       "FALSE"
      ],
      "text/plain": [
       "[1] FALSE"
      ]
     },
     "metadata": {},
     "output_type": "display_data"
    }
   ],
   "source": [
    "any((myvec-1)>9)\n"
   ]
  },
  {
   "cell_type": "code",
   "execution_count": null,
   "id": "f4e04990",
   "metadata": {},
   "outputs": [],
   "source": []
  }
 ],
 "metadata": {
  "kernelspec": {
   "display_name": "R",
   "language": "R",
   "name": "ir"
  },
  "language_info": {
   "codemirror_mode": "r",
   "file_extension": ".r",
   "mimetype": "text/x-r-source",
   "name": "R",
   "pygments_lexer": "r",
   "version": "3.6.1"
  }
 },
 "nbformat": 4,
 "nbformat_minor": 5
}
