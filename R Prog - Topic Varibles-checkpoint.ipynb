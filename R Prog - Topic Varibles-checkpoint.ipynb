{
 "cells": [
  {
   "cell_type": "code",
   "execution_count": 3,
   "id": "0e64875c",
   "metadata": {},
   "outputs": [
    {
     "name": "stdout",
     "output_type": "stream",
     "text": [
      "[1] 5\n",
      "[1] 10\n"
     ]
    }
   ],
   "source": [
    "# R program to illustrate\n",
    "# usage of global variables\n",
    "\n",
    "# global variable\n",
    "global = 5\n",
    "\n",
    "# global variable accessed from\n",
    "# within a function\n",
    "display = function(){\n",
    "print(global)\n",
    "}\n",
    "display()\n",
    "\n",
    "# changing value of global variable\n",
    "global = 10\n",
    "display()\n"
   ]
  },
  {
   "cell_type": "code",
   "execution_count": 4,
   "id": "506d75d4",
   "metadata": {},
   "outputs": [
    {
     "name": "stdout",
     "output_type": "stream",
     "text": [
      "Age is:\n",
      "[1] 18\n"
     ]
    }
   ],
   "source": [
    "\n",
    "# R program to illustrate\n",
    "# usage of local variables\n",
    "\n",
    "func = function(){\n",
    "# this variable is local to the\n",
    "# function func() and cannot be\n",
    "# accessed outside this function\n",
    "age = 18\n",
    "print(age)\n",
    "}\n",
    "\n",
    "cat(\"Age is:\\n\")\n",
    "func()\n"
   ]
  },
  {
   "cell_type": "code",
   "execution_count": 5,
   "id": "0155c301",
   "metadata": {},
   "outputs": [
    {
     "name": "stdout",
     "output_type": "stream",
     "text": [
      "[1] \"character\"\n"
     ]
    }
   ],
   "source": [
    "var1 = \"hello\"\n",
    "print(class(var1))\n"
   ]
  },
  {
   "cell_type": "code",
   "execution_count": 6,
   "id": "13027d5e",
   "metadata": {},
   "outputs": [
    {
     "name": "stdout",
     "output_type": "stream",
     "text": [
      "[1] 5\n",
      "[1] 10\n"
     ]
    }
   ],
   "source": [
    "# R program to illustrate\n",
    "# usage of global variables\n",
    "\n",
    "# global variable\n",
    "global = 5\n",
    "\n",
    "# global variable accessed from\n",
    "# within a function\n",
    "display = function(){\n",
    "print(global)\n",
    "}\n",
    "display()\n",
    "\n",
    "# changing value of global variable\n",
    "global = 10\n",
    "display()\n"
   ]
  },
  {
   "cell_type": "code",
   "execution_count": 7,
   "id": "dd22de7b",
   "metadata": {},
   "outputs": [
    {
     "name": "stdout",
     "output_type": "stream",
     "text": [
      "[1] 27\n",
      "[1] 9\n"
     ]
    }
   ],
   "source": [
    "make.power <- function(n){\n",
    "pow <- function(x){\n",
    "\tx = x^n\n",
    "}\n",
    "pow\n",
    "}\n",
    "\n",
    "cube <- make.power(3)\n",
    "square <- make.power(2)\n",
    "print(cube(3))\n",
    "print(square(3))\n"
   ]
  },
  {
   "cell_type": "code",
   "execution_count": 8,
   "id": "d3269d2b",
   "metadata": {},
   "outputs": [
    {
     "name": "stdout",
     "output_type": "stream",
     "text": [
      "[1] 8\n"
     ]
    }
   ],
   "source": [
    "g <- function(x){\n",
    "a <- 3\n",
    "x + a + y\n",
    "}\n",
    "\n",
    "# assigning value to y\n",
    "y <- 3\n",
    "\n",
    "# print g(2)\n",
    "print(g(2))\n"
   ]
  },
  {
   "cell_type": "code",
   "execution_count": 9,
   "id": "109d999a",
   "metadata": {},
   "outputs": [
    {
     "data": {
      "text/html": [
       "23"
      ],
      "text/latex": [
       "23"
      ],
      "text/markdown": [
       "23"
      ],
      "text/plain": [
       "[1] 23"
      ]
     },
     "metadata": {},
     "output_type": "display_data"
    }
   ],
   "source": [
    "c <- 10\n",
    "f <- function(a, b)\n",
    "{\n",
    "a + b + c\n",
    "}\n",
    "f(8, 5)\n"
   ]
  },
  {
   "cell_type": "code",
   "execution_count": 10,
   "id": "b91b9cbf",
   "metadata": {},
   "outputs": [
    {
     "data": {
      "text/html": [
       "50"
      ],
      "text/latex": [
       "50"
      ],
      "text/markdown": [
       "50"
      ],
      "text/plain": [
       "[1] 50"
      ]
     },
     "metadata": {},
     "output_type": "display_data"
    }
   ],
   "source": [
    "a <- function(z){\n",
    "b <- 10\n",
    "function(){\n",
    "\tz + 4 * b\n",
    "}\n",
    "}\n",
    "x <- a(10)\n",
    "x()\n"
   ]
  },
  {
   "cell_type": "code",
   "execution_count": 11,
   "id": "cad0d1d6",
   "metadata": {},
   "outputs": [
    {
     "data": {
      "text/html": [
       "10"
      ],
      "text/latex": [
       "10"
      ],
      "text/markdown": [
       "10"
      ],
      "text/plain": [
       "[1] 10"
      ]
     },
     "metadata": {},
     "output_type": "display_data"
    }
   ],
   "source": [
    "a <- function(){\n",
    "if(!exists(\"z\"))\n",
    "{\n",
    "\tz <- 10\n",
    "}\n",
    "else\n",
    "{\n",
    "\tz <- z+10\n",
    "}\n",
    "z\n",
    "}\n",
    "a()\n"
   ]
  },
  {
   "cell_type": "code",
   "execution_count": 12,
   "id": "3c2a1d0a",
   "metadata": {},
   "outputs": [
    {
     "data": {
      "text/html": [
       "1000"
      ],
      "text/latex": [
       "1000"
      ],
      "text/markdown": [
       "1000"
      ],
      "text/plain": [
       "[1] 1000"
      ]
     },
     "metadata": {},
     "output_type": "display_data"
    }
   ],
   "source": [
    "g <- function() x^3\n",
    "x <- 10\n",
    "g()\n"
   ]
  },
  {
   "cell_type": "code",
   "execution_count": null,
   "id": "aec89103",
   "metadata": {},
   "outputs": [],
   "source": []
  },
  {
   "cell_type": "code",
   "execution_count": null,
   "id": "f84abe4f",
   "metadata": {},
   "outputs": [],
   "source": [
    "\n"
   ]
  },
  {
   "cell_type": "code",
   "execution_count": null,
   "id": "2dbf2494",
   "metadata": {},
   "outputs": [],
   "source": []
  }
 ],
 "metadata": {
  "kernelspec": {
   "display_name": "R",
   "language": "R",
   "name": "ir"
  },
  "language_info": {
   "codemirror_mode": "r",
   "file_extension": ".r",
   "mimetype": "text/x-r-source",
   "name": "R",
   "pygments_lexer": "r",
   "version": "3.6.1"
  }
 },
 "nbformat": 4,
 "nbformat_minor": 5
}
