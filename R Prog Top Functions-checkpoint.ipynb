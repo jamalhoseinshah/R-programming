{
 "cells": [
  {
   "cell_type": "code",
   "execution_count": 1,
   "id": "dd8e23c2",
   "metadata": {},
   "outputs": [],
   "source": [
    "# created by jamal hussain shah for top R Programming  \"FUNCTIONS\""
   ]
  },
  {
   "cell_type": "code",
   "execution_count": 2,
   "id": "b7e241c7",
   "metadata": {},
   "outputs": [
    {
     "name": "stdout",
     "output_type": "stream",
     "text": [
      "[1] 15\n",
      "[1] 6\n",
      "[1] 4\n"
     ]
    }
   ],
   "source": [
    "# Find sum of numbers 4 to 6.\n",
    "print(sum(4:6))\n",
    "\n",
    "# Find max of numbers 4 and 6.\n",
    "print(max(4:6))\n",
    "\n",
    "# Find min of numbers 4 and 6.\n",
    "print(min(4:6))\n"
   ]
  },
  {
   "cell_type": "code",
   "execution_count": 3,
   "id": "8d791d8c",
   "metadata": {},
   "outputs": [
    {
     "name": "stdout",
     "output_type": "stream",
     "text": [
      "[1] \"even\"\n",
      "[1] \"odd\"\n"
     ]
    }
   ],
   "source": [
    "# A simple R function to check\n",
    "# whether x is even or odd\n",
    "\n",
    "evenOdd = function(x){\n",
    "if(x %% 2 == 0)\n",
    "\treturn(\"even\")\n",
    "else\n",
    "\treturn(\"odd\")\n",
    "}\n",
    "\n",
    "print(evenOdd(4))\n",
    "print(evenOdd(3))\n"
   ]
  },
  {
   "cell_type": "code",
   "execution_count": 4,
   "id": "4490bddb",
   "metadata": {},
   "outputs": [
    {
     "name": "stdout",
     "output_type": "stream",
     "text": [
      "[1] 12.56637\n"
     ]
    }
   ],
   "source": [
    "# A simple R function to calculate\n",
    "# area of a circle\n",
    "\n",
    "areaOfCircle = function(radius){\n",
    "area = pi*radius^2\n",
    "return(area)\n",
    "}\n",
    "\n",
    "print(areaOfCircle(2))\n"
   ]
  },
  {
   "cell_type": "code",
   "execution_count": 5,
   "id": "619d8f7d",
   "metadata": {},
   "outputs": [
    {
     "name": "stdout",
     "output_type": "stream",
     "text": [
      "$Area\n",
      "[1] 6\n",
      "\n",
      "$Perimeter\n",
      "[1] 10\n",
      "\n"
     ]
    }
   ],
   "source": [
    "# A simple R function to calculate\n",
    "# area and perimeter of a rectangle\n",
    "\n",
    "Rectangle = function(length, width){\n",
    "area = length * width\n",
    "perimeter = 2 * (length + width)\n",
    "\n",
    "# create an object called result which is\n",
    "# a list of area and perimeter\n",
    "result = list(\"Area\" = area, \"Perimeter\" = perimeter)\n",
    "return(result)\n",
    "}\n",
    "\n",
    "resultList = Rectangle(2, 3)\n",
    "print(resultList[\"Area\"])\n",
    "print(resultList[\"Perimeter\"])\n"
   ]
  },
  {
   "cell_type": "code",
   "execution_count": 6,
   "id": "32a5ed41",
   "metadata": {},
   "outputs": [
    {
     "name": "stdout",
     "output_type": "stream",
     "text": [
      "[1] 65.33333\n",
      "[1] 15.33333\n",
      "[1] 0\n"
     ]
    }
   ],
   "source": [
    "# A simple R program to\n",
    "# demonstrate the inline function\n",
    "\n",
    "\n",
    "f = function(x) x^2*4+x/3\n",
    "\n",
    "print(f(4))\n",
    "print(f(-2))\n",
    "print(0)\n"
   ]
  },
  {
   "cell_type": "code",
   "execution_count": 7,
   "id": "9c8368be",
   "metadata": {},
   "outputs": [
    {
     "name": "stdout",
     "output_type": "stream",
     "text": [
      "[1] 65.33333\n",
      "[1] 15.33333\n",
      "[1] 0\n"
     ]
    }
   ],
   "source": [
    "# A simple R program to\n",
    "# demonstrate the inline function\n",
    "\n",
    "\n",
    "f = function(x) x^2*4+x/3\n",
    "\n",
    "print(f(4))\n",
    "print(f(-2))\n",
    "print(0)\n"
   ]
  },
  {
   "cell_type": "code",
   "execution_count": 8,
   "id": "cda5ebc4",
   "metadata": {},
   "outputs": [
    {
     "name": "stdout",
     "output_type": "stream",
     "text": [
      "[1] 6\n",
      "[1] 32\n",
      "[1] 20\n"
     ]
    }
   ],
   "source": [
    "# A simple R program to demonstrate\n",
    "# passing arguments to a function\n",
    "\n",
    "Rectangle = function(length=5, width=4){\n",
    "area = length * width\n",
    "return(area)\n",
    "}\n",
    "\n",
    "# Case 1:\n",
    "print(Rectangle(2, 3))\n",
    "\n",
    "# Case 2:\n",
    "print(Rectangle(width = 8, length = 4))\n",
    "\n",
    "# Case 3:\n",
    "print(Rectangle())\n"
   ]
  },
  {
   "cell_type": "code",
   "execution_count": 9,
   "id": "7b67167b",
   "metadata": {},
   "outputs": [
    {
     "name": "stdout",
     "output_type": "stream",
     "text": [
      "[1] 196.3495\n"
     ]
    }
   ],
   "source": [
    "# A simple R program to demonstrate\n",
    "# Lazy evaluations of functions\n",
    "\n",
    "Cylinder = function(diameter, length, radius ){\n",
    "volume = pi*diameter^2*length/4\n",
    "return(volume)\n",
    "}\n",
    "\n",
    "# This'll execute because this\n",
    "# radius is not used in the\n",
    "# calculations inside the function.\n",
    "print(Cylinder(5, 10))\n"
   ]
  },
  {
   "cell_type": "code",
   "execution_count": 11,
   "id": "e50f0993",
   "metadata": {},
   "outputs": [
    {
     "ename": "ERROR",
     "evalue": "Error in print(radius): argument \"radius\" is missing, with no default\n",
     "output_type": "error",
     "traceback": [
      "Error in print(radius): argument \"radius\" is missing, with no default\nTraceback:\n",
      "1. print(Cylinder(5, 10))",
      "2. Cylinder(5, 10)",
      "3. print(radius)   # at line 8 of file <text>"
     ]
    }
   ],
   "source": [
    "# If you do not pass the argument and then use it in the definition of the function it will throw an error that this “radius” is not passed and it is being used in the function definition.\n",
    "\n",
    "# A simple R program to demonstrate\n",
    "# Lazy evaluations of functions\n",
    "\n",
    "Cylinder = function(diameter, length, radius ){\n",
    "volume = pi*diameter^2*length/4\n",
    "print(radius)\n",
    "return(volume)\n",
    "}\n",
    "\n",
    "# This'll throw an error\n",
    "print(Cylinder(5, 10))\n"
   ]
  },
  {
   "cell_type": "code",
   "execution_count": null,
   "id": "b9e256b5",
   "metadata": {},
   "outputs": [],
   "source": []
  }
 ],
 "metadata": {
  "kernelspec": {
   "display_name": "R",
   "language": "R",
   "name": "ir"
  },
  "language_info": {
   "codemirror_mode": "r",
   "file_extension": ".r",
   "mimetype": "text/x-r-source",
   "name": "R",
   "pygments_lexer": "r",
   "version": "3.6.1"
  }
 },
 "nbformat": 4,
 "nbformat_minor": 5
}
