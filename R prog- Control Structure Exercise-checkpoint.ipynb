{
 "cells": [
  {
   "cell_type": "code",
   "execution_count": 8,
   "id": "289ae8ac",
   "metadata": {},
   "outputs": [],
   "source": [
    "# Created by Jamal Hussain shah for top Control Statements in R Programming"
   ]
  },
  {
   "cell_type": "code",
   "execution_count": 1,
   "id": "8a7c43b6",
   "metadata": {},
   "outputs": [
    {
     "name": "stdout",
     "output_type": "stream",
     "text": [
      "[1] \"100 is greater than 10\"\n"
     ]
    }
   ],
   "source": [
    "x <- 100\n",
    "\n",
    "if(x > 10){\n",
    "print(paste(x, \"is greater than 10\"))\n",
    "}\n"
   ]
  },
  {
   "cell_type": "code",
   "execution_count": 2,
   "id": "41a69fd8",
   "metadata": {},
   "outputs": [
    {
     "name": "stdout",
     "output_type": "stream",
     "text": [
      "[1] \"5 is less than 10\"\n"
     ]
    }
   ],
   "source": [
    "x <- 5\n",
    "\n",
    "# Check value is less than or greater than 10\n",
    "if(x > 10){\n",
    "print(paste(x, \"is greater than 10\"))\n",
    "}else{\n",
    "print(paste(x, \"is less than 10\"))\n",
    "}\n"
   ]
  },
  {
   "cell_type": "code",
   "execution_count": 3,
   "id": "aca27648",
   "metadata": {},
   "outputs": [
    {
     "name": "stdout",
     "output_type": "stream",
     "text": [
      "[1] \"d\"\n",
      "[1] \"e\"\n",
      "[1] \"f\"\n",
      "[1] \"g\"\n",
      "[1] \"h\"\n",
      "[1] \"i\"\n",
      "[1] \"j\"\n"
     ]
    }
   ],
   "source": [
    "x <- letters[4:10]\n",
    "\n",
    "for(i in x){\n",
    "print(i)\n",
    "}\n"
   ]
  },
  {
   "cell_type": "code",
   "execution_count": 4,
   "id": "934bca6b",
   "metadata": {},
   "outputs": [
    {
     "name": "stdout",
     "output_type": "stream",
     "text": [
      "[1] 2\n",
      "[1] 4\n",
      "[1] 6\n",
      "[1] 8\n",
      "[1] 10\n",
      "[1] 12\n",
      "[1] 14\n",
      "[1] 3\n",
      "[1] 5\n",
      "[1] 7\n",
      "[1] 9\n",
      "[1] 11\n",
      "[1] 13\n",
      "[1] 15\n"
     ]
    }
   ],
   "source": [
    "# Defining matrix\n",
    "m <- matrix(2:15, 2)\n",
    "\n",
    "for (r in seq(nrow(m))) {\n",
    "for (c in seq(ncol(m))) {\n",
    "\tprint(m[r, c])\n",
    "}\n",
    "}\n"
   ]
  },
  {
   "cell_type": "code",
   "execution_count": 5,
   "id": "81d02a70",
   "metadata": {},
   "outputs": [
    {
     "name": "stdout",
     "output_type": "stream",
     "text": [
      "[1] 1\n",
      "[1] 2\n",
      "[1] 3\n",
      "[1] 4\n",
      "[1] 5\n"
     ]
    }
   ],
   "source": [
    "x = 1\n",
    "\n",
    "# Print 1 to 5\n",
    "repeat{\n",
    "print(x)\n",
    "x = x + 1\n",
    "if(x > 5){\n",
    "\tbreak\n",
    "}\n",
    "}\n"
   ]
  },
  {
   "cell_type": "code",
   "execution_count": 6,
   "id": "e0085b3b",
   "metadata": {},
   "outputs": [
    {
     "data": {
      "text/html": [
       "'Positive'"
      ],
      "text/latex": [
       "'Positive'"
      ],
      "text/markdown": [
       "'Positive'"
      ],
      "text/plain": [
       "[1] \"Positive\""
      ]
     },
     "metadata": {},
     "output_type": "display_data"
    },
    {
     "data": {
      "text/html": [
       "'Zero'"
      ],
      "text/latex": [
       "'Zero'"
      ],
      "text/markdown": [
       "'Zero'"
      ],
      "text/plain": [
       "[1] \"Zero\""
      ]
     },
     "metadata": {},
     "output_type": "display_data"
    },
    {
     "data": {
      "text/html": [
       "'Negative'"
      ],
      "text/latex": [
       "'Negative'"
      ],
      "text/markdown": [
       "'Negative'"
      ],
      "text/plain": [
       "[1] \"Negative\""
      ]
     },
     "metadata": {},
     "output_type": "display_data"
    }
   ],
   "source": [
    "# Checks value is either positive, negative or zero\n",
    "func <- function(x){\n",
    "if(x > 0){\n",
    "\treturn(\"Positive\")\n",
    "}else if(x < 0){\n",
    "\treturn(\"Negative\")\n",
    "}else{\n",
    "\treturn(\"Zero\")\n",
    "}\n",
    "}\n",
    "\n",
    "func(1)\n",
    "func(0)\n",
    "func(-1)\n"
   ]
  },
  {
   "cell_type": "code",
   "execution_count": 7,
   "id": "70bbec6d",
   "metadata": {},
   "outputs": [
    {
     "name": "stdout",
     "output_type": "stream",
     "text": [
      "[1] 2\n",
      "[1] 4\n",
      "[1] 6\n",
      "[1] 8\n",
      "[1] 10\n"
     ]
    }
   ],
   "source": [
    "# Defining vector\n",
    "x <- 1:10\n",
    "\n",
    "# Print even numbers\n",
    "for(i in x){\n",
    "if(i%%2 != 0){\n",
    "\tnext #Jumps to next loop\n",
    "}\n",
    "print(i)\n",
    "}\n"
   ]
  },
  {
   "cell_type": "code",
   "execution_count": 10,
   "id": "7764d7c6",
   "metadata": {},
   "outputs": [
    {
     "name": "stdout",
     "output_type": "stream",
     "text": [
      "[1] \"condition a > b is TRUE\"\n",
      "[1] \"Difference between a, b is :  9\"\n"
     ]
    }
   ],
   "source": [
    "# R program to illustrate\n",
    "# if statement\n",
    "a <- 76\n",
    "b <- 67\n",
    "\n",
    "# TRUE condition\n",
    "if(a > b)\n",
    "{\n",
    "\tc <- a - b\n",
    "\tprint(\"condition a > b is TRUE\")\n",
    "\tprint(paste(\"Difference between a, b is : \", c))\n",
    "}\n",
    "\n",
    "# FALSE condition\n",
    "if(a < b)\n",
    "{\n",
    "\tc <- a - b\n",
    "\tprint(\"condition a < b is TRUE\")\n",
    "\tprint(paste(\"Difference between a, b is : \", c))\n",
    "}\n"
   ]
  },
  {
   "cell_type": "code",
   "execution_count": 11,
   "id": "06de45de",
   "metadata": {},
   "outputs": [
    {
     "name": "stdout",
     "output_type": "stream",
     "text": [
      "[1] \"condition a < b < c is TRUE\"\n"
     ]
    }
   ],
   "source": [
    "# R if-else-if ladder Example\n",
    "a <- 67\n",
    "b <- 76\n",
    "c <- 99\n",
    "\n",
    "\n",
    "if(a > b && b > c)\n",
    "{\n",
    "\tprint(\"condition a > b > c is TRUE\")\n",
    "} else if(a < b && b > c)\n",
    "{\n",
    "\tprint(\"condition a < b > c is TRUE\")\n",
    "} else if(a < b && b < c)\n",
    "{\n",
    "\tprint(\"condition a < b < c is TRUE\")\n",
    "}\n"
   ]
  },
  {
   "cell_type": "code",
   "execution_count": 12,
   "id": "d9ed0e5c",
   "metadata": {},
   "outputs": [
    {
     "name": "stdout",
     "output_type": "stream",
     "text": [
      "Multiplication = 42NULL\n"
     ]
    }
   ],
   "source": [
    "# Following is val1 simple R program\n",
    "# to demonstrate syntax of switch.\n",
    "\n",
    "# Mathematical calculation\n",
    "\n",
    "val1 = 6\n",
    "val2 = 7\n",
    "val3 = \"s\"\n",
    "result = switch(\n",
    "\tval3,\n",
    "\t\"a\"= cat(\"Addition =\", val1 + val2),\n",
    "\t\"d\"= cat(\"Subtraction =\", val1 - val2),\n",
    "\t\"r\"= cat(\"Division = \", val1 / val2),\n",
    "\t\"s\"= cat(\"Multiplication =\", val1 * val2),\n",
    "\t\"m\"= cat(\"Modulus =\", val1 %% val2),\n",
    "\t\"p\"= cat(\"Power =\", val1 ^ val2)\n",
    ")\n",
    "\t\n",
    "print(result)\n"
   ]
  },
  {
   "cell_type": "code",
   "execution_count": 13,
   "id": "c373b80e",
   "metadata": {},
   "outputs": [
    {
     "name": "stdout",
     "output_type": "stream",
     "text": [
      "[1] 1\n",
      "[1] 4\n",
      "[1] 9\n",
      "[1] 16\n"
     ]
    }
   ],
   "source": [
    "# R Program to demonstrate\n",
    "# the use of for loop\n",
    "for (i in 1: 4)\n",
    "{\n",
    "\tprint(i ^ 2)\n",
    "}\n"
   ]
  },
  {
   "cell_type": "code",
   "execution_count": 14,
   "id": "f372d1e3",
   "metadata": {},
   "outputs": [
    {
     "name": "stdout",
     "output_type": "stream",
     "text": [
      "[1] -8\n",
      "[1] 9\n",
      "[1] 11\n",
      "[1] 45\n"
     ]
    }
   ],
   "source": [
    "# R Program to demonstrate the use of\n",
    "# for loop with vector\n",
    "x <- c(-8, 9, 11, 45)\n",
    "for (i in x)\n",
    "{\n",
    "\tprint(i)\n",
    "}\n"
   ]
  },
  {
   "cell_type": "code",
   "execution_count": 15,
   "id": "225afc03",
   "metadata": {},
   "outputs": [
    {
     "name": "stdout",
     "output_type": "stream",
     "text": [
      "[1] 1\n",
      "[1] 2\n",
      "[1] 4\n",
      "[1] 3\n",
      "[1] 6\n",
      "[1] 9\n"
     ]
    }
   ],
   "source": [
    "# R Program to demonstrate the use of\n",
    "# nested for loop\n",
    "for (i in 1:3)\n",
    "{\n",
    "\tfor (j in 1:i)\n",
    "\t{\n",
    "\t\tprint(i * j)\n",
    "\t}\n",
    "}\n"
   ]
  },
  {
   "cell_type": "code",
   "execution_count": 16,
   "id": "25db6cd2",
   "metadata": {},
   "outputs": [
    {
     "name": "stdout",
     "output_type": "stream",
     "text": [
      "[1] 3\n",
      "[1] 6\n",
      "[1] 23\n",
      "[1] 19\n",
      "[1] \"Outside Loop\"\n"
     ]
    }
   ],
   "source": [
    "# R Program to demonstrate the use of\n",
    "# break in for loop\n",
    "for (i in c(3, 6, 23, 19, 0, 21))\n",
    "{\n",
    "\tif (i == 0)\n",
    "\t{\n",
    "\t\tbreak\n",
    "\t}\n",
    "print(i)\n",
    "}\n",
    "print(\"Outside Loop\")\n"
   ]
  },
  {
   "cell_type": "code",
   "execution_count": 17,
   "id": "cafdcf40",
   "metadata": {},
   "outputs": [
    {
     "name": "stdout",
     "output_type": "stream",
     "text": [
      "[1] \"Hello World\"\n",
      "[1] \"Hello World\"\n",
      "[1] \"Hello World\"\n",
      "[1] \"Hello World\"\n",
      "[1] \"Hello World\"\n"
     ]
    }
   ],
   "source": [
    "# R program to illustrate while loop\n",
    "\n",
    "result <- c(\"Hello World\")\n",
    "i <- 1\n",
    "\n",
    "# test expression\n",
    "while (i < 6) {\n",
    "\n",
    "print(result)\n",
    "\t\n",
    "# update expression\n",
    "i = i + 1\n",
    "}\n"
   ]
  },
  {
   "cell_type": "code",
   "execution_count": 18,
   "id": "4ad5f337",
   "metadata": {},
   "outputs": [
    {
     "name": "stdout",
     "output_type": "stream",
     "text": [
      "[1] 1\n",
      "[1] 2\n",
      "[1] 3\n",
      "[1] 4\n",
      "[1] 5\n"
     ]
    }
   ],
   "source": [
    "# R program to illustrate while loop\n",
    "\n",
    "result <- 1\n",
    "i <- 1\n",
    "\n",
    "# test expression\n",
    "while (i < 6) {\n",
    "\n",
    "print(result)\n",
    "\t\n",
    "# update expression\n",
    "i = i + 1\n",
    "result = result + 1\n",
    "}\n"
   ]
  },
  {
   "cell_type": "code",
   "execution_count": 19,
   "id": "308827d6",
   "metadata": {},
   "outputs": [
    {
     "name": "stdout",
     "output_type": "stream",
     "text": [
      "[1] \"Hello World\"\n",
      "[1] \"Hello World\"\n",
      "[1] \"Hello World\"\n",
      "[1] \"Hello World\"\n",
      "[1] \"Hello World\"\n"
     ]
    }
   ],
   "source": [
    "# R program to illustrate repeat loop\n",
    "\n",
    "result <- c(\"Hello World\")\n",
    "i <- 1\n",
    "\n",
    "# test expression\n",
    "repeat {\n",
    "\n",
    "print(result)\n",
    "\t\n",
    "# update expression\n",
    "i <- i + 1\n",
    "\t\n",
    "# Breaking condition\n",
    "if(i >5) {\n",
    "\tbreak\n",
    "}\n",
    "}\n"
   ]
  },
  {
   "cell_type": "code",
   "execution_count": 20,
   "id": "2427964a",
   "metadata": {},
   "outputs": [
    {
     "name": "stdout",
     "output_type": "stream",
     "text": [
      "[1] 1\n",
      "[1] 2\n",
      "[1] 3\n",
      "[1] 4\n",
      "[1] 5\n"
     ]
    }
   ],
   "source": [
    "# R program to illustrate repeat loop\n",
    "\n",
    "result <- 1\n",
    "i <- 1\n",
    "\n",
    "# test expression\n",
    "repeat {\n",
    "\n",
    "print(result)\n",
    "\t\n",
    "# update expression\n",
    "i <- i + 1\n",
    "result = result + 1\n",
    "\n",
    "# Breaking condition\n",
    "if(i > 5) {\n",
    "\tbreak\n",
    "}\n",
    "}\n"
   ]
  },
  {
   "cell_type": "code",
   "execution_count": null,
   "id": "5a163905",
   "metadata": {},
   "outputs": [],
   "source": []
  },
  {
   "cell_type": "code",
   "execution_count": null,
   "id": "eb617213",
   "metadata": {},
   "outputs": [],
   "source": []
  }
 ],
 "metadata": {
  "kernelspec": {
   "display_name": "R",
   "language": "R",
   "name": "ir"
  },
  "language_info": {
   "codemirror_mode": "r",
   "file_extension": ".r",
   "mimetype": "text/x-r-source",
   "name": "R",
   "pygments_lexer": "r",
   "version": "3.6.1"
  }
 },
 "nbformat": 4,
 "nbformat_minor": 5
}
