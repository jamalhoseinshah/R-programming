{
 "cells": [
  {
   "cell_type": "code",
   "execution_count": null,
   "id": "e9b0c308",
   "metadata": {},
   "outputs": [],
   "source": [
    "# Created by jamal hussain shah R. Prog. Split function"
   ]
  },
  {
   "cell_type": "code",
   "execution_count": 1,
   "id": "1e4927ca",
   "metadata": {},
   "outputs": [
    {
     "name": "stdout",
     "output_type": "stream",
     "text": [
      "$`1`\n",
      "[1] 1 2\n",
      "\n",
      "$`2`\n",
      "[1] 3 4\n",
      "\n",
      "$`3`\n",
      "[1] 5 6\n",
      "\n",
      "$`4`\n",
      "[1] 7 8\n",
      "\n",
      "$`5`\n",
      "[1]  9 10\n",
      "\n"
     ]
    }
   ],
   "source": [
    "# create a vector with 10 elements\n",
    "vector=c(1,2,3,4,5,6,7,8,9,10)\n",
    "\n",
    "# specify the chunk length as 2\n",
    "chunklength=2\n",
    "\n",
    "# split the vector by length\n",
    "print(split(vector,ceiling(seq_along(vector) / chunklength)))\n"
   ]
  },
  {
   "cell_type": "code",
   "execution_count": null,
   "id": "8f5e481c",
   "metadata": {},
   "outputs": [],
   "source": []
  },
  {
   "cell_type": "code",
   "execution_count": null,
   "id": "f8124202",
   "metadata": {},
   "outputs": [],
   "source": []
  },
  {
   "cell_type": "code",
   "execution_count": 2,
   "id": "4005e1db",
   "metadata": {},
   "outputs": [
    {
     "name": "stdout",
     "output_type": "stream",
     "text": [
      "$`1`\n",
      "[1] 1 2 3 4 5\n",
      "\n",
      "$`2`\n",
      "[1]  6  7  8  9 10\n",
      "\n"
     ]
    }
   ],
   "source": [
    "# create a vector with 10 elements\n",
    "vector=c(1,2,3,4,5,6,7,8,9,10)\n",
    "\n",
    "# specify the chunk length as 5\n",
    "chunklength=5\n",
    "\n",
    "# split the vector by length\n",
    "print(split(vector,ceiling(seq_along(vector) / chunklength)))\n"
   ]
  },
  {
   "cell_type": "code",
   "execution_count": 3,
   "id": "53c1705b",
   "metadata": {},
   "outputs": [
    {
     "name": "stdout",
     "output_type": "stream",
     "text": [
      "$`1`\n",
      "[1] 1 2\n",
      "\n",
      "$`2`\n",
      "[1] 3 4\n",
      "\n",
      "$`3`\n",
      "[1] 5 6\n",
      "\n",
      "$`4`\n",
      "[1] 7 8\n",
      "\n",
      "$`5`\n",
      "[1]  9 10\n",
      "\n"
     ]
    }
   ],
   "source": [
    "# create a vector with 10 elements\n",
    "vector=c(1,2,3,4,5,6,7,8,9,10)\n",
    "\n",
    "# specify the chunk number as 5\n",
    "chunk_no=5\n",
    "\n",
    "# split the vector by chunk number by specifying\n",
    "# labels as FALSE\n",
    "print(split(vector, cut(seq_along(vector),chunk_no,labels = FALSE)))\n"
   ]
  },
  {
   "cell_type": "code",
   "execution_count": 5,
   "id": "2a84d918",
   "metadata": {},
   "outputs": [
    {
     "name": "stdout",
     "output_type": "stream",
     "text": [
      "[1] \" Data frame before splitting: \"\n"
     ]
    },
    {
     "data": {
      "text/html": [
       "<table>\n",
       "<thead><tr><th scope=col>Name</th><th scope=col>State</th></tr></thead>\n",
       "<tbody>\n",
       "\t<tr><td>Priyank Mishra    </td><td>Islamabad         </td></tr>\n",
       "\t<tr><td>Abhiraj Srivastava</td><td>lahore            </td></tr>\n",
       "\t<tr><td>Pawananjani Kumar </td><td>karachi           </td></tr>\n",
       "</tbody>\n",
       "</table>\n"
      ],
      "text/latex": [
       "\\begin{tabular}{r|ll}\n",
       " Name & State\\\\\n",
       "\\hline\n",
       "\t Priyank Mishra     & Islamabad         \\\\\n",
       "\t Abhiraj Srivastava & lahore            \\\\\n",
       "\t Pawananjani Kumar  & karachi           \\\\\n",
       "\\end{tabular}\n"
      ],
      "text/markdown": [
       "\n",
       "| Name | State |\n",
       "|---|---|\n",
       "| Priyank Mishra     | Islamabad          |\n",
       "| Abhiraj Srivastava | lahore             |\n",
       "| Pawananjani Kumar  | karachi            |\n",
       "\n"
      ],
      "text/plain": [
       "  Name               State    \n",
       "1 Priyank Mishra     Islamabad\n",
       "2 Abhiraj Srivastava lahore   \n",
       "3 Pawananjani Kumar  karachi  "
      ]
     },
     "metadata": {},
     "output_type": "display_data"
    },
    {
     "name": "stdout",
     "output_type": "stream",
     "text": [
      "[1] \" Data frame after splitting: \"\n"
     ]
    },
    {
     "data": {
      "text/html": [
       "<table>\n",
       "<thead><tr><th scope=col>First Name</th><th scope=col>Last Name</th><th scope=col>State</th></tr></thead>\n",
       "<tbody>\n",
       "\t<tr><td>Priyank    </td><td>Mishra     </td><td>Islamabad  </td></tr>\n",
       "\t<tr><td>Abhiraj    </td><td>Srivastava </td><td>lahore     </td></tr>\n",
       "\t<tr><td>Pawananjani</td><td>Kumar      </td><td>karachi    </td></tr>\n",
       "</tbody>\n",
       "</table>\n"
      ],
      "text/latex": [
       "\\begin{tabular}{r|lll}\n",
       " First Name & Last Name & State\\\\\n",
       "\\hline\n",
       "\t Priyank     & Mishra      & Islamabad  \\\\\n",
       "\t Abhiraj     & Srivastava  & lahore     \\\\\n",
       "\t Pawananjani & Kumar       & karachi    \\\\\n",
       "\\end{tabular}\n"
      ],
      "text/markdown": [
       "\n",
       "| First Name | Last Name | State |\n",
       "|---|---|---|\n",
       "| Priyank     | Mishra      | Islamabad   |\n",
       "| Abhiraj     | Srivastava  | lahore      |\n",
       "| Pawananjani | Kumar       | karachi     |\n",
       "\n"
      ],
      "text/plain": [
       "  First Name  Last Name  State    \n",
       "1 Priyank     Mishra     Islamabad\n",
       "2 Abhiraj     Srivastava lahore   \n",
       "3 Pawananjani Kumar      karachi  "
      ]
     },
     "metadata": {},
     "output_type": "display_data"
    }
   ],
   "source": [
    "# create sample data frame\n",
    "df <- data.frame(Name=c('Priyank Mishra', 'Abhiraj Srivastava',\n",
    "\t\t\t\t\t\t'Pawananjani Kumar'),\n",
    "\t\t\t\tState= c(\"Islamabad\", \"lahore\", \"karachi\"))\n",
    "\n",
    "print(\" Data frame before splitting: \")\n",
    "df\n",
    "\n",
    "# load stringr library\n",
    "library(stringr)\n",
    "\n",
    "# Split name column into firstname and last name\n",
    "df[c('First Name', 'Last Name')] <- str_split_fixed(df$Name, ' ', 2)\n",
    "\n",
    "# Rearrange columns and remove original name column\n",
    "df <- df[c('First Name', 'Last Name', 'State')]\n",
    "\n",
    "print(\" Data frame after splitting: \")\n",
    "df\n"
   ]
  },
  {
   "cell_type": "code",
   "execution_count": 6,
   "id": "65ba4a0e",
   "metadata": {},
   "outputs": [
    {
     "name": "stdout",
     "output_type": "stream",
     "text": [
      "Original data frame:\n",
      "   gender height\n",
      "1       m    171\n",
      "2       f    164\n",
      "3       f    165\n",
      "4       f    170\n",
      "5       m    179\n",
      "6       m    180\n",
      "7       f    169\n",
      "8       m    179\n",
      "9       f    170\n",
      "10      f    171\n",
      "11      m    178\n",
      "\n",
      "After splitting data:\n",
      "$f\n",
      "   gender height\n",
      "2       f    164\n",
      "3       f    165\n",
      "4       f    170\n",
      "7       f    169\n",
      "9       f    170\n",
      "10      f    171\n",
      "\n",
      "$m\n",
      "   gender height\n",
      "1       m    171\n",
      "5       m    179\n",
      "6       m    180\n",
      "8       m    179\n",
      "11      m    178\n",
      "\n"
     ]
    }
   ],
   "source": [
    "# Define data\n",
    "gender <- c(\"m\", \"f\", \"f\", \"f\", \"m\", \"m\", \"f\", \"m\", \"f\", \"f\", \"m\")\n",
    "height <- c(171, 164, 165, 170, 179, 180, 169, 179, 170, 171, 178)\n",
    "df <- data.frame(gender, height)\n",
    "\n",
    "# Print data frame\n",
    "cat(\"Original data frame:\\n\")\n",
    "print(df)\n",
    "\n",
    "# Split data frame by gender\n",
    "s <- split(df, df$gender)\n",
    "\n",
    "# Print split data\n",
    "cat(\"\\nAfter splitting data:\\n\")\n",
    "print(s)\n"
   ]
  },
  {
   "cell_type": "code",
   "execution_count": 7,
   "id": "afe0e3f2",
   "metadata": {},
   "outputs": [
    {
     "name": "stdout",
     "output_type": "stream",
     "text": [
      "Original data frame:\n",
      "                     mpg cyl  disp  hp drat    wt  qsec vs am gear carb\n",
      "Mazda RX4           21.0   6 160.0 110 3.90 2.620 16.46  0  1    4    4\n",
      "Mazda RX4 Wag       21.0   6 160.0 110 3.90 2.875 17.02  0  1    4    4\n",
      "Datsun 710          22.8   4 108.0  93 3.85 2.320 18.61  1  1    4    1\n",
      "Hornet 4 Drive      21.4   6 258.0 110 3.08 3.215 19.44  1  0    3    1\n",
      "Hornet Sportabout   18.7   8 360.0 175 3.15 3.440 17.02  0  0    3    2\n",
      "Valiant             18.1   6 225.0 105 2.76 3.460 20.22  1  0    3    1\n",
      "Duster 360          14.3   8 360.0 245 3.21 3.570 15.84  0  0    3    4\n",
      "Merc 240D           24.4   4 146.7  62 3.69 3.190 20.00  1  0    4    2\n",
      "Merc 230            22.8   4 140.8  95 3.92 3.150 22.90  1  0    4    2\n",
      "Merc 280            19.2   6 167.6 123 3.92 3.440 18.30  1  0    4    4\n",
      "Merc 280C           17.8   6 167.6 123 3.92 3.440 18.90  1  0    4    4\n",
      "Merc 450SE          16.4   8 275.8 180 3.07 4.070 17.40  0  0    3    3\n",
      "Merc 450SL          17.3   8 275.8 180 3.07 3.730 17.60  0  0    3    3\n",
      "Merc 450SLC         15.2   8 275.8 180 3.07 3.780 18.00  0  0    3    3\n",
      "Cadillac Fleetwood  10.4   8 472.0 205 2.93 5.250 17.98  0  0    3    4\n",
      "Lincoln Continental 10.4   8 460.0 215 3.00 5.424 17.82  0  0    3    4\n",
      "Chrysler Imperial   14.7   8 440.0 230 3.23 5.345 17.42  0  0    3    4\n",
      "Fiat 128            32.4   4  78.7  66 4.08 2.200 19.47  1  1    4    1\n",
      "Honda Civic         30.4   4  75.7  52 4.93 1.615 18.52  1  1    4    2\n",
      "Toyota Corolla      33.9   4  71.1  65 4.22 1.835 19.90  1  1    4    1\n",
      "Toyota Corona       21.5   4 120.1  97 3.70 2.465 20.01  1  0    3    1\n",
      "Dodge Challenger    15.5   8 318.0 150 2.76 3.520 16.87  0  0    3    2\n",
      "AMC Javelin         15.2   8 304.0 150 3.15 3.435 17.30  0  0    3    2\n",
      "Camaro Z28          13.3   8 350.0 245 3.73 3.840 15.41  0  0    3    4\n",
      "Pontiac Firebird    19.2   8 400.0 175 3.08 3.845 17.05  0  0    3    2\n",
      "Fiat X1-9           27.3   4  79.0  66 4.08 1.935 18.90  1  1    4    1\n",
      "Porsche 914-2       26.0   4 120.3  91 4.43 2.140 16.70  0  1    5    2\n",
      "Lotus Europa        30.4   4  95.1 113 3.77 1.513 16.90  1  1    5    2\n",
      "Ford Pantera L      15.8   8 351.0 264 4.22 3.170 14.50  0  1    5    4\n",
      "Ferrari Dino        19.7   6 145.0 175 3.62 2.770 15.50  0  1    5    6\n",
      "Maserati Bora       15.0   8 301.0 335 3.54 3.570 14.60  0  1    5    8\n",
      "Volvo 142E          21.4   4 121.0 109 4.11 2.780 18.60  1  1    4    2\n",
      "\n",
      "After splitting data:\n",
      "$`3`\n",
      "                     mpg cyl  disp  hp drat    wt  qsec vs am gear carb\n",
      "Hornet 4 Drive      21.4   6 258.0 110 3.08 3.215 19.44  1  0    3    1\n",
      "Hornet Sportabout   18.7   8 360.0 175 3.15 3.440 17.02  0  0    3    2\n",
      "Valiant             18.1   6 225.0 105 2.76 3.460 20.22  1  0    3    1\n",
      "Duster 360          14.3   8 360.0 245 3.21 3.570 15.84  0  0    3    4\n",
      "Merc 450SE          16.4   8 275.8 180 3.07 4.070 17.40  0  0    3    3\n",
      "Merc 450SL          17.3   8 275.8 180 3.07 3.730 17.60  0  0    3    3\n",
      "Merc 450SLC         15.2   8 275.8 180 3.07 3.780 18.00  0  0    3    3\n",
      "Cadillac Fleetwood  10.4   8 472.0 205 2.93 5.250 17.98  0  0    3    4\n",
      "Lincoln Continental 10.4   8 460.0 215 3.00 5.424 17.82  0  0    3    4\n",
      "Chrysler Imperial   14.7   8 440.0 230 3.23 5.345 17.42  0  0    3    4\n",
      "Toyota Corona       21.5   4 120.1  97 3.70 2.465 20.01  1  0    3    1\n",
      "Dodge Challenger    15.5   8 318.0 150 2.76 3.520 16.87  0  0    3    2\n",
      "AMC Javelin         15.2   8 304.0 150 3.15 3.435 17.30  0  0    3    2\n",
      "Camaro Z28          13.3   8 350.0 245 3.73 3.840 15.41  0  0    3    4\n",
      "Pontiac Firebird    19.2   8 400.0 175 3.08 3.845 17.05  0  0    3    2\n",
      "\n",
      "$`4`\n",
      "                mpg cyl  disp  hp drat    wt  qsec vs am gear carb\n",
      "Mazda RX4      21.0   6 160.0 110 3.90 2.620 16.46  0  1    4    4\n",
      "Mazda RX4 Wag  21.0   6 160.0 110 3.90 2.875 17.02  0  1    4    4\n",
      "Datsun 710     22.8   4 108.0  93 3.85 2.320 18.61  1  1    4    1\n",
      "Merc 240D      24.4   4 146.7  62 3.69 3.190 20.00  1  0    4    2\n",
      "Merc 230       22.8   4 140.8  95 3.92 3.150 22.90  1  0    4    2\n",
      "Merc 280       19.2   6 167.6 123 3.92 3.440 18.30  1  0    4    4\n",
      "Merc 280C      17.8   6 167.6 123 3.92 3.440 18.90  1  0    4    4\n",
      "Fiat 128       32.4   4  78.7  66 4.08 2.200 19.47  1  1    4    1\n",
      "Honda Civic    30.4   4  75.7  52 4.93 1.615 18.52  1  1    4    2\n",
      "Toyota Corolla 33.9   4  71.1  65 4.22 1.835 19.90  1  1    4    1\n",
      "Fiat X1-9      27.3   4  79.0  66 4.08 1.935 18.90  1  1    4    1\n",
      "Volvo 142E     21.4   4 121.0 109 4.11 2.780 18.60  1  1    4    2\n",
      "\n",
      "$`5`\n",
      "                mpg cyl  disp  hp drat    wt qsec vs am gear carb\n",
      "Porsche 914-2  26.0   4 120.3  91 4.43 2.140 16.7  0  1    5    2\n",
      "Lotus Europa   30.4   4  95.1 113 3.77 1.513 16.9  1  1    5    2\n",
      "Ford Pantera L 15.8   8 351.0 264 4.22 3.170 14.5  0  1    5    4\n",
      "Ferrari Dino   19.7   6 145.0 175 3.62 2.770 15.5  0  1    5    6\n",
      "Maserati Bora  15.0   8 301.0 335 3.54 3.570 14.6  0  1    5    8\n",
      "\n"
     ]
    }
   ],
   "source": [
    "# Print data frame\n",
    "cat(\"Original data frame:\\n\")\n",
    "print(mtcars)\n",
    "\n",
    "# Split mtcars data frame by gear\n",
    "s <- split(mtcars, mtcars$gear)\n",
    "\n",
    "# Print split data\n",
    "cat(\"\\nAfter splitting data:\\n\")\n",
    "print(s)\n"
   ]
  },
  {
   "cell_type": "code",
   "execution_count": null,
   "id": "f2006e9d",
   "metadata": {},
   "outputs": [],
   "source": []
  }
 ],
 "metadata": {
  "kernelspec": {
   "display_name": "R",
   "language": "R",
   "name": "ir"
  },
  "language_info": {
   "codemirror_mode": "r",
   "file_extension": ".r",
   "mimetype": "text/x-r-source",
   "name": "R",
   "pygments_lexer": "r",
   "version": "3.6.1"
  }
 },
 "nbformat": 4,
 "nbformat_minor": 5
}
